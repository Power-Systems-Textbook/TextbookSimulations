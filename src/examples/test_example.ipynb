{
 "cells": [
  {
   "cell_type": "markdown",
   "id": "3ff28e09",
   "metadata": {},
   "source": [
    "# Access the Tools located in TextbookSimulations"
   ]
  },
  {
   "cell_type": "code",
   "execution_count": 1,
   "id": "4c858f22",
   "metadata": {},
   "outputs": [],
   "source": [
    "using TextbookSimulations"
   ]
  },
  {
   "cell_type": "markdown",
   "id": "3202fbed",
   "metadata": {},
   "source": [
    "# Solve a Power-Flow Problem using PowerModels.jl"
   ]
  },
  {
   "cell_type": "markdown",
   "id": "bc25da26",
   "metadata": {},
   "source": [
    "Read in data from a MATPOWER case file, solve the AC power-flow study using Los Alamos National Laboratory's (LANL's) `PowerModels.jl`, and present the resulting bus- and line-level solutions. The data in this example is from the University of Washington's (UW's) EE 454 course (Power System Analysis) and describes a twelve-bus test system."
   ]
  },
  {
   "cell_type": "code",
   "execution_count": 2,
   "id": "16e22e22",
   "metadata": {},
   "outputs": [
    {
     "name": "stdout",
     "output_type": "stream",
     "text": [
      "\u001b[32m[info | PowerModels]: removing 3 cost terms from generator 4: Float64[]\u001b[39m\n",
      "\u001b[32m[info | PowerModels]: removing 3 cost terms from generator 1: Float64[]\u001b[39m\n",
      "\u001b[32m[info | PowerModels]: removing 3 cost terms from generator 5: Float64[]\u001b[39m\n",
      "\u001b[32m[info | PowerModels]: removing 3 cost terms from generator 2: Float64[]\u001b[39m\n",
      "\u001b[32m[info | PowerModels]: removing 3 cost terms from generator 3: Float64[]\u001b[39m\n"
     ]
    },
    {
     "data": {
      "text/plain": [
       "Dict{String, Any} with 13 entries:\n",
       "  \"bus\"            => Dict{String, Any}(\"4\"=>Dict{String, Any}(\"zone\"=>1, \"bus_…\n",
       "  \"source_type\"    => \"matpower\"\n",
       "  \"name\"           => \"uw_ee_454_project_data\"\n",
       "  \"dcline\"         => Dict{String, Any}()\n",
       "  \"source_version\" => \"2\"\n",
       "  \"gen\"            => Dict{String, Any}(\"4\"=>Dict{String, Any}(\"ncost\"=>0, \"qc1…\n",
       "  \"branch\"         => Dict{String, Any}(\"4\"=>Dict{String, Any}(\"br_r\"=>0.05811,…\n",
       "  \"storage\"        => Dict{String, Any}()\n",
       "  \"switch\"         => Dict{String, Any}()\n",
       "  \"baseMVA\"        => 100\n",
       "  \"per_unit\"       => true\n",
       "  \"shunt\"          => Dict{String, Any}()\n",
       "  \"load\"           => Dict{String, Any}(\"4\"=>Dict{String, Any}(\"source_id\"=>Any…"
      ]
     },
     "execution_count": 2,
     "metadata": {},
     "output_type": "execute_result"
    }
   ],
   "source": [
    "# Define the data directory and case name\n",
    "file_path = joinpath(@__DIR__, \"..\", \"data\")\n",
    "case_name = \"uw_ee_454_project_data\"\n",
    "file_type = \".m\"\n",
    "\n",
    "# Load the network data\n",
    "network_data = load_network_data(file_path, case_name, file_type)"
   ]
  },
  {
   "cell_type": "code",
   "execution_count": 3,
   "id": "fdd77233",
   "metadata": {},
   "outputs": [
    {
     "data": {
      "text/plain": [
       "Dict{String, Any} with 5 entries:\n",
       "  \"optimizer\"          => \"NLsolve\"\n",
       "  \"termination_status\" => true\n",
       "  \"objective\"          => 0.0\n",
       "  \"solution\"           => Dict{String, Any}(\"gen\"=>Dict{String, Any}(\"4\"=>Dict(…\n",
       "  \"solve_time\"         => 0.851"
      ]
     },
     "execution_count": 3,
     "metadata": {},
     "output_type": "execute_result"
    }
   ],
   "source": [
    "# Solve the power-flow problem\n",
    "result = compute_ac_pf(network_data)"
   ]
  },
  {
   "cell_type": "code",
   "execution_count": 4,
   "id": "94202dd3",
   "metadata": {},
   "outputs": [
    {
     "data": {
      "text/html": [
       "<div><div style = \"float: left;\"><span>12×8 DataFrame</span></div><div style = \"clear: both;\"></div></div><div class = \"data-frame\" style = \"overflow-x: scroll;\"><table class = \"data-frame\" style = \"margin-bottom: 6px;\"><thead><tr class = \"header\"><th class = \"rowNumber\" style = \"font-weight: bold; text-align: right;\">Row</th><th style = \"text-align: left;\">Bus Number</th><th style = \"text-align: left;\">Bus Type</th><th style = \"text-align: left;\">Voltage Magnitude (p.u.)</th><th style = \"text-align: left;\">Voltage Angle (degrees)</th><th style = \"text-align: left;\">Real Power Generated (MW)</th><th style = \"text-align: left;\">Reactive Power Generated (MVAR)</th><th style = \"text-align: left;\">Real Power Load (MW)</th><th style = \"text-align: left;\">Reactive Power Load (MVAR)</th></tr><tr class = \"subheader headerLastRow\"><th class = \"rowNumber\" style = \"font-weight: bold; text-align: right;\"></th><th title = \"Int64\" style = \"text-align: left;\">Int64</th><th title = \"String\" style = \"text-align: left;\">String</th><th title = \"Float64\" style = \"text-align: left;\">Float64</th><th title = \"Float64\" style = \"text-align: left;\">Float64</th><th title = \"Float64\" style = \"text-align: left;\">Float64</th><th title = \"Float64\" style = \"text-align: left;\">Float64</th><th title = \"Float64\" style = \"text-align: left;\">Float64</th><th title = \"Float64\" style = \"text-align: left;\">Float64</th></tr></thead><tbody><tr><td class = \"rowNumber\" style = \"font-weight: bold; text-align: right;\">1</td><td style = \"text-align: right;\">1</td><td style = \"text-align: left;\">Slack</td><td style = \"text-align: right;\">1.05</td><td style = \"text-align: right;\">0.0</td><td style = \"text-align: right;\">145.708</td><td style = \"text-align: right;\">-26.0735</td><td style = \"text-align: right;\">0.0</td><td style = \"text-align: right;\">0.0</td></tr><tr><td class = \"rowNumber\" style = \"font-weight: bold; text-align: right;\">2</td><td style = \"text-align: right;\">2</td><td style = \"text-align: left;\">PV</td><td style = \"text-align: right;\">1.045</td><td style = \"text-align: right;\">-3.28956</td><td style = \"text-align: right;\">42.0</td><td style = \"text-align: right;\">42.2398</td><td style = \"text-align: right;\">23.7</td><td style = \"text-align: right;\">15.3</td></tr><tr><td class = \"rowNumber\" style = \"font-weight: bold; text-align: right;\">3</td><td style = \"text-align: right;\">3</td><td style = \"text-align: left;\">PV</td><td style = \"text-align: right;\">1.01</td><td style = \"text-align: right;\">-9.40764</td><td style = \"text-align: right;\">23.0</td><td style = \"text-align: right;\">21.8018</td><td style = \"text-align: right;\">84.2</td><td style = \"text-align: right;\">19.0</td></tr><tr><td class = \"rowNumber\" style = \"font-weight: bold; text-align: right;\">4</td><td style = \"text-align: right;\">4</td><td style = \"text-align: left;\">PQ</td><td style = \"text-align: right;\">1.02667</td><td style = \"text-align: right;\">-6.44727</td><td style = \"text-align: right;\">0.0</td><td style = \"text-align: right;\">0.0</td><td style = \"text-align: right;\">57.8</td><td style = \"text-align: right;\">-3.9</td></tr><tr><td class = \"rowNumber\" style = \"font-weight: bold; text-align: right;\">5</td><td style = \"text-align: right;\">5</td><td style = \"text-align: left;\">PQ</td><td style = \"text-align: right;\">1.0304</td><td style = \"text-align: right;\">-5.44374</td><td style = \"text-align: right;\">0.0</td><td style = \"text-align: right;\">0.0</td><td style = \"text-align: right;\">7.6</td><td style = \"text-align: right;\">1.6</td></tr><tr><td class = \"rowNumber\" style = \"font-weight: bold; text-align: right;\">6</td><td style = \"text-align: right;\">6</td><td style = \"text-align: left;\">PQ</td><td style = \"text-align: right;\">1.02312</td><td style = \"text-align: right;\">-7.93336</td><td style = \"text-align: right;\">0.0</td><td style = \"text-align: right;\">0.0</td><td style = \"text-align: right;\">13.5</td><td style = \"text-align: right;\">8.5</td></tr><tr><td class = \"rowNumber\" style = \"font-weight: bold; text-align: right;\">7</td><td style = \"text-align: right;\">7</td><td style = \"text-align: left;\">PQ</td><td style = \"text-align: right;\">0.989891</td><td style = \"text-align: right;\">-10.6257</td><td style = \"text-align: right;\">0.0</td><td style = \"text-align: right;\">0.0</td><td style = \"text-align: right;\">29.5</td><td style = \"text-align: right;\">13.6</td></tr><tr><td class = \"rowNumber\" style = \"font-weight: bold; text-align: right;\">8</td><td style = \"text-align: right;\">8</td><td style = \"text-align: left;\">PQ</td><td style = \"text-align: right;\">0.98713</td><td style = \"text-align: right;\">-10.4729</td><td style = \"text-align: right;\">0.0</td><td style = \"text-align: right;\">0.0</td><td style = \"text-align: right;\">9.0</td><td style = \"text-align: right;\">5.8</td></tr><tr><td class = \"rowNumber\" style = \"font-weight: bold; text-align: right;\">9</td><td style = \"text-align: right;\">9</td><td style = \"text-align: left;\">PQ</td><td style = \"text-align: right;\">0.999972</td><td style = \"text-align: right;\">-9.3802</td><td style = \"text-align: right;\">0.0</td><td style = \"text-align: right;\">0.0</td><td style = \"text-align: right;\">4.3</td><td style = \"text-align: right;\">2.1</td></tr><tr><td class = \"rowNumber\" style = \"font-weight: bold; text-align: right;\">10</td><td style = \"text-align: right;\">10</td><td style = \"text-align: left;\">PV</td><td style = \"text-align: right;\">1.06</td><td style = \"text-align: right;\">-6.8152</td><td style = \"text-align: right;\">33.0</td><td style = \"text-align: right;\">13.1457</td><td style = \"text-align: right;\">5.2</td><td style = \"text-align: right;\">1.6</td></tr><tr><td class = \"rowNumber\" style = \"font-weight: bold; text-align: right;\">11</td><td style = \"text-align: right;\">11</td><td style = \"text-align: left;\">PQ</td><td style = \"text-align: right;\">1.02452</td><td style = \"text-align: right;\">-8.13839</td><td style = \"text-align: right;\">0.0</td><td style = \"text-align: right;\">0.0</td><td style = \"text-align: right;\">13.5</td><td style = \"text-align: right;\">5.8</td></tr><tr><td class = \"rowNumber\" style = \"font-weight: bold; text-align: right;\">12</td><td style = \"text-align: right;\">12</td><td style = \"text-align: left;\">PV</td><td style = \"text-align: right;\">1.04</td><td style = \"text-align: right;\">-9.24166</td><td style = \"text-align: right;\">27.0</td><td style = \"text-align: right;\">23.4417</td><td style = \"text-align: right;\">14.9</td><td style = \"text-align: right;\">5.0</td></tr></tbody></table></div>"
      ],
      "text/latex": [
       "\\begin{tabular}{r|cccccc}\n",
       "\t& Bus Number & Bus Type & Voltage Magnitude (p.u.) & Voltage Angle (degrees) & Real Power Generated (MW) & \\\\\n",
       "\t\\hline\n",
       "\t& Int64 & String & Float64 & Float64 & Float64 & \\\\\n",
       "\t\\hline\n",
       "\t1 & 1 & Slack & 1.05 & 0.0 & 145.708 & $\\dots$ \\\\\n",
       "\t2 & 2 & PV & 1.045 & -3.28956 & 42.0 & $\\dots$ \\\\\n",
       "\t3 & 3 & PV & 1.01 & -9.40764 & 23.0 & $\\dots$ \\\\\n",
       "\t4 & 4 & PQ & 1.02667 & -6.44727 & 0.0 & $\\dots$ \\\\\n",
       "\t5 & 5 & PQ & 1.0304 & -5.44374 & 0.0 & $\\dots$ \\\\\n",
       "\t6 & 6 & PQ & 1.02312 & -7.93336 & 0.0 & $\\dots$ \\\\\n",
       "\t7 & 7 & PQ & 0.989891 & -10.6257 & 0.0 & $\\dots$ \\\\\n",
       "\t8 & 8 & PQ & 0.98713 & -10.4729 & 0.0 & $\\dots$ \\\\\n",
       "\t9 & 9 & PQ & 0.999972 & -9.3802 & 0.0 & $\\dots$ \\\\\n",
       "\t10 & 10 & PV & 1.06 & -6.8152 & 33.0 & $\\dots$ \\\\\n",
       "\t11 & 11 & PQ & 1.02452 & -8.13839 & 0.0 & $\\dots$ \\\\\n",
       "\t12 & 12 & PV & 1.04 & -9.24166 & 27.0 & $\\dots$ \\\\\n",
       "\\end{tabular}\n"
      ],
      "text/plain": [
       "\u001b[1m12×8 DataFrame\u001b[0m\n",
       "\u001b[1m Row \u001b[0m│\u001b[1m Bus Number \u001b[0m\u001b[1m Bus Type \u001b[0m\u001b[1m Voltage Magnitude (p.u.) \u001b[0m\u001b[1m Voltage Angle (degrees)\u001b[0m ⋯\n",
       "     │\u001b[90m Int64      \u001b[0m\u001b[90m String   \u001b[0m\u001b[90m Float64                  \u001b[0m\u001b[90m Float64                \u001b[0m ⋯\n",
       "─────┼──────────────────────────────────────────────────────────────────────────\n",
       "   1 │          1  Slack                     1.05                      0.0     ⋯\n",
       "   2 │          2  PV                        1.045                    -3.28956\n",
       "   3 │          3  PV                        1.01                     -9.40764\n",
       "   4 │          4  PQ                        1.02667                  -6.44727\n",
       "   5 │          5  PQ                        1.0304                   -5.44374 ⋯\n",
       "   6 │          6  PQ                        1.02312                  -7.93336\n",
       "   7 │          7  PQ                        0.989891                -10.6257\n",
       "   8 │          8  PQ                        0.98713                 -10.4729\n",
       "   9 │          9  PQ                        0.999972                 -9.3802  ⋯\n",
       "  10 │         10  PV                        1.06                     -6.8152\n",
       "  11 │         11  PQ                        1.02452                  -8.13839\n",
       "  12 │         12  PV                        1.04                     -9.24166\n",
       "\u001b[36m                                                               4 columns omitted\u001b[0m"
      ]
     },
     "execution_count": 4,
     "metadata": {},
     "output_type": "execute_result"
    }
   ],
   "source": [
    "# Print bus-level results\n",
    "bus_results = organize_bus_results(result, network_data)"
   ]
  },
  {
   "cell_type": "code",
   "execution_count": 5,
   "id": "ff7163f2",
   "metadata": {},
   "outputs": [
    {
     "data": {
      "text/html": [
       "<div><div style = \"float: left;\"><span>17×8 DataFrame</span></div><div style = \"clear: both;\"></div></div><div class = \"data-frame\" style = \"overflow-x: scroll;\"><table class = \"data-frame\" style = \"margin-bottom: 6px;\"><thead><tr class = \"header\"><th class = \"rowNumber\" style = \"font-weight: bold; text-align: right;\">Row</th><th style = \"text-align: left;\">Bus i</th><th style = \"text-align: left;\">Bus j</th><th style = \"text-align: left;\">Real Power Flow from Bus i to Bus j (MW)</th><th style = \"text-align: left;\">Real Power Flow from Bus j to Bus i (MW)</th><th style = \"text-align: left;\">Real Power Flow Losses (MW)</th><th style = \"text-align: left;\">Reactive Power Flow from Bus i to Bus j (MVAR)</th><th style = \"text-align: left;\">Reactive Power Flow from Bus j to Bus i (MVAR)</th><th style = \"text-align: left;\">Reactive Power Flow Losses (MVAR)</th></tr><tr class = \"subheader headerLastRow\"><th class = \"rowNumber\" style = \"font-weight: bold; text-align: right;\"></th><th title = \"Int64\" style = \"text-align: left;\">Int64</th><th title = \"Int64\" style = \"text-align: left;\">Int64</th><th title = \"Float64\" style = \"text-align: left;\">Float64</th><th title = \"Float64\" style = \"text-align: left;\">Float64</th><th title = \"Float64\" style = \"text-align: left;\">Float64</th><th title = \"Float64\" style = \"text-align: left;\">Float64</th><th title = \"Float64\" style = \"text-align: left;\">Float64</th><th title = \"Float64\" style = \"text-align: left;\">Float64</th></tr></thead><tbody><tr><td class = \"rowNumber\" style = \"font-weight: bold; text-align: right;\">1</td><td style = \"text-align: right;\">1</td><td style = \"text-align: right;\">2</td><td style = \"text-align: right;\">99.6287</td><td style = \"text-align: right;\">-97.8086</td><td style = \"text-align: right;\">1.82014</td><td style = \"text-align: right;\">-23.6138</td><td style = \"text-align: right;\">23.3774</td><td style = \"text-align: right;\">-0.236397</td></tr><tr><td class = \"rowNumber\" style = \"font-weight: bold; text-align: right;\">2</td><td style = \"text-align: right;\">1</td><td style = \"text-align: right;\">5</td><td style = \"text-align: right;\">46.0797</td><td style = \"text-align: right;\">-45.0391</td><td style = \"text-align: right;\">1.04061</td><td style = \"text-align: right;\">-2.45969</td><td style = \"text-align: right;\">1.43143</td><td style = \"text-align: right;\">-1.02826</td></tr><tr><td class = \"rowNumber\" style = \"font-weight: bold; text-align: right;\">3</td><td style = \"text-align: right;\">2</td><td style = \"text-align: right;\">3</td><td style = \"text-align: right;\">58.6236</td><td style = \"text-align: right;\">-57.1199</td><td style = \"text-align: right;\">1.50366</td><td style = \"text-align: right;\">5.20518</td><td style = \"text-align: right;\">-3.49577</td><td style = \"text-align: right;\">1.70941</td></tr><tr><td class = \"rowNumber\" style = \"font-weight: bold; text-align: right;\">4</td><td style = \"text-align: right;\">2</td><td style = \"text-align: right;\">4</td><td style = \"text-align: right;\">33.738</td><td style = \"text-align: right;\">-33.1321</td><td style = \"text-align: right;\">0.605938</td><td style = \"text-align: right;\">-1.18815</td><td style = \"text-align: right;\">-0.621617</td><td style = \"text-align: right;\">-1.80977</td></tr><tr><td class = \"rowNumber\" style = \"font-weight: bold; text-align: right;\">5</td><td style = \"text-align: right;\">2</td><td style = \"text-align: right;\">5</td><td style = \"text-align: right;\">23.7469</td><td style = \"text-align: right;\">-23.4518</td><td style = \"text-align: right;\">0.29516</td><td style = \"text-align: right;\">-0.454649</td><td style = \"text-align: right;\">-2.37015</td><td style = \"text-align: right;\">-2.8248</td></tr><tr><td class = \"rowNumber\" style = \"font-weight: bold; text-align: right;\">6</td><td style = \"text-align: right;\">3</td><td style = \"text-align: right;\">4</td><td style = \"text-align: right;\">-4.08006</td><td style = \"text-align: right;\">4.50674</td><td style = \"text-align: right;\">0.426686</td><td style = \"text-align: right;\">6.29753</td><td style = \"text-align: right;\">-7.51609</td><td style = \"text-align: right;\">-1.21855</td></tr><tr><td class = \"rowNumber\" style = \"font-weight: bold; text-align: right;\">7</td><td style = \"text-align: right;\">4</td><td style = \"text-align: right;\">5</td><td style = \"text-align: right;\">-42.4887</td><td style = \"text-align: right;\">42.7202</td><td style = \"text-align: right;\">0.23152</td><td style = \"text-align: right;\">4.76281</td><td style = \"text-align: right;\">-4.03252</td><td style = \"text-align: right;\">0.730286</td></tr><tr><td class = \"rowNumber\" style = \"font-weight: bold; text-align: right;\">8</td><td style = \"text-align: right;\">4</td><td style = \"text-align: right;\">7</td><td style = \"text-align: right;\">13.314</td><td style = \"text-align: right;\">-13.314</td><td style = \"text-align: right;\">0.0</td><td style = \"text-align: right;\">7.2749</td><td style = \"text-align: right;\">-6.06029</td><td style = \"text-align: right;\">1.2146</td></tr><tr><td class = \"rowNumber\" style = \"font-weight: bold; text-align: right;\">9</td><td style = \"text-align: right;\">5</td><td style = \"text-align: right;\">6</td><td style = \"text-align: right;\">18.1707</td><td style = \"text-align: right;\">-18.1707</td><td style = \"text-align: right;\">0.0</td><td style = \"text-align: right;\">3.37124</td><td style = \"text-align: right;\">-2.56054</td><td style = \"text-align: right;\">0.810707</td></tr><tr><td class = \"rowNumber\" style = \"font-weight: bold; text-align: right;\">10</td><td style = \"text-align: right;\">6</td><td style = \"text-align: right;\">9</td><td style = \"text-align: right;\">15.2698</td><td style = \"text-align: right;\">-15.0375</td><td style = \"text-align: right;\">0.232289</td><td style = \"text-align: right;\">4.77904</td><td style = \"text-align: right;\">-4.2926</td><td style = \"text-align: right;\">0.486442</td></tr><tr><td class = \"rowNumber\" style = \"font-weight: bold; text-align: right;\">11</td><td style = \"text-align: right;\">6</td><td style = \"text-align: right;\">10</td><td style = \"text-align: right;\">-12.4478</td><td style = \"text-align: right;\">12.7184</td><td style = \"text-align: right;\">0.270581</td><td style = \"text-align: right;\">-8.68874</td><td style = \"text-align: right;\">9.25189</td><td style = \"text-align: right;\">0.563154</td></tr><tr><td class = \"rowNumber\" style = \"font-weight: bold; text-align: right;\">12</td><td style = \"text-align: right;\">6</td><td style = \"text-align: right;\">11</td><td style = \"text-align: right;\">1.84872</td><td style = \"text-align: right;\">-1.84396</td><td style = \"text-align: right;\">0.0047634</td><td style = \"text-align: right;\">-2.02977</td><td style = \"text-align: right;\">2.03915</td><td style = \"text-align: right;\">0.00938062</td></tr><tr><td class = \"rowNumber\" style = \"font-weight: bold; text-align: right;\">13</td><td style = \"text-align: right;\">7</td><td style = \"text-align: right;\">8</td><td style = \"text-align: right;\">-1.63326</td><td style = \"text-align: right;\">1.63894</td><td style = \"text-align: right;\">0.00568577</td><td style = \"text-align: right;\">3.85319</td><td style = \"text-align: right;\">-3.83809</td><td style = \"text-align: right;\">0.0151037</td></tr><tr><td class = \"rowNumber\" style = \"font-weight: bold; text-align: right;\">14</td><td style = \"text-align: right;\">7</td><td style = \"text-align: right;\">12</td><td style = \"text-align: right;\">-14.5527</td><td style = \"text-align: right;\">14.9958</td><td style = \"text-align: right;\">0.443095</td><td style = \"text-align: right;\">-11.3929</td><td style = \"text-align: right;\">12.3354</td><td style = \"text-align: right;\">0.942523</td></tr><tr><td class = \"rowNumber\" style = \"font-weight: bold; text-align: right;\">15</td><td style = \"text-align: right;\">8</td><td style = \"text-align: right;\">9</td><td style = \"text-align: right;\">-10.6389</td><td style = \"text-align: right;\">10.7375</td><td style = \"text-align: right;\">0.0985485</td><td style = \"text-align: right;\">-1.96191</td><td style = \"text-align: right;\">2.1926</td><td style = \"text-align: right;\">0.230691</td></tr><tr><td class = \"rowNumber\" style = \"font-weight: bold; text-align: right;\">16</td><td style = \"text-align: right;\">10</td><td style = \"text-align: right;\">11</td><td style = \"text-align: right;\">15.0816</td><td style = \"text-align: right;\">-14.624</td><td style = \"text-align: right;\">0.457562</td><td style = \"text-align: right;\">2.29379</td><td style = \"text-align: right;\">-1.8798</td><td style = \"text-align: right;\">0.413984</td></tr><tr><td class = \"rowNumber\" style = \"font-weight: bold; text-align: right;\">17</td><td style = \"text-align: right;\">11</td><td style = \"text-align: right;\">12</td><td style = \"text-align: right;\">2.96799</td><td style = \"text-align: right;\">-2.89581</td><td style = \"text-align: right;\">0.0721785</td><td style = \"text-align: right;\">-5.95935</td><td style = \"text-align: right;\">6.1063</td><td style = \"text-align: right;\">0.146958</td></tr></tbody></table></div>"
      ],
      "text/latex": [
       "\\begin{tabular}{r|ccccc}\n",
       "\t& Bus i & Bus j & Real Power Flow from Bus i to Bus j (MW) & Real Power Flow from Bus j to Bus i (MW) & \\\\\n",
       "\t\\hline\n",
       "\t& Int64 & Int64 & Float64 & Float64 & \\\\\n",
       "\t\\hline\n",
       "\t1 & 1 & 2 & 99.6287 & -97.8086 & $\\dots$ \\\\\n",
       "\t2 & 1 & 5 & 46.0797 & -45.0391 & $\\dots$ \\\\\n",
       "\t3 & 2 & 3 & 58.6236 & -57.1199 & $\\dots$ \\\\\n",
       "\t4 & 2 & 4 & 33.738 & -33.1321 & $\\dots$ \\\\\n",
       "\t5 & 2 & 5 & 23.7469 & -23.4518 & $\\dots$ \\\\\n",
       "\t6 & 3 & 4 & -4.08006 & 4.50674 & $\\dots$ \\\\\n",
       "\t7 & 4 & 5 & -42.4887 & 42.7202 & $\\dots$ \\\\\n",
       "\t8 & 4 & 7 & 13.314 & -13.314 & $\\dots$ \\\\\n",
       "\t9 & 5 & 6 & 18.1707 & -18.1707 & $\\dots$ \\\\\n",
       "\t10 & 6 & 9 & 15.2698 & -15.0375 & $\\dots$ \\\\\n",
       "\t11 & 6 & 10 & -12.4478 & 12.7184 & $\\dots$ \\\\\n",
       "\t12 & 6 & 11 & 1.84872 & -1.84396 & $\\dots$ \\\\\n",
       "\t13 & 7 & 8 & -1.63326 & 1.63894 & $\\dots$ \\\\\n",
       "\t14 & 7 & 12 & -14.5527 & 14.9958 & $\\dots$ \\\\\n",
       "\t15 & 8 & 9 & -10.6389 & 10.7375 & $\\dots$ \\\\\n",
       "\t16 & 10 & 11 & 15.0816 & -14.624 & $\\dots$ \\\\\n",
       "\t17 & 11 & 12 & 2.96799 & -2.89581 & $\\dots$ \\\\\n",
       "\\end{tabular}\n"
      ],
      "text/plain": [
       "\u001b[1m17×8 DataFrame\u001b[0m\n",
       "\u001b[1m Row \u001b[0m│\u001b[1m Bus i \u001b[0m\u001b[1m Bus j \u001b[0m\u001b[1m Real Power Flow from Bus i to Bus j (MW) \u001b[0m\u001b[1m Real Power Flow\u001b[0m ⋯\n",
       "     │\u001b[90m Int64 \u001b[0m\u001b[90m Int64 \u001b[0m\u001b[90m Float64                                  \u001b[0m\u001b[90m Float64        \u001b[0m ⋯\n",
       "─────┼──────────────────────────────────────────────────────────────────────────\n",
       "   1 │     1      2                                  99.6287                   ⋯\n",
       "   2 │     1      5                                  46.0797\n",
       "   3 │     2      3                                  58.6236\n",
       "   4 │     2      4                                  33.738\n",
       "   5 │     2      5                                  23.7469                   ⋯\n",
       "   6 │     3      4                                  -4.08006\n",
       "   7 │     4      5                                 -42.4887\n",
       "   8 │     4      7                                  13.314\n",
       "   9 │     5      6                                  18.1707                   ⋯\n",
       "  10 │     6      9                                  15.2698\n",
       "  11 │     6     10                                 -12.4478\n",
       "  12 │     6     11                                   1.84872\n",
       "  13 │     7      8                                  -1.63326                  ⋯\n",
       "  14 │     7     12                                 -14.5527\n",
       "  15 │     8      9                                 -10.6389\n",
       "  16 │    10     11                                  15.0816\n",
       "  17 │    11     12                                   2.96799                  ⋯\n",
       "\u001b[36m                                                               5 columns omitted\u001b[0m"
      ]
     },
     "execution_count": 5,
     "metadata": {},
     "output_type": "execute_result"
    }
   ],
   "source": [
    "# Print line-level results\n",
    "line_results = organize_line_results(result, network_data)"
   ]
  },
  {
   "cell_type": "markdown",
   "id": "3f5cd7c6",
   "metadata": {},
   "source": [
    "# Replicate Contingency Case 1 from UW's EE 454 Project"
   ]
  },
  {
   "cell_type": "markdown",
   "id": "0383addb",
   "metadata": {},
   "source": [
    "Read in data from a MATPOWER case file, change the impedance of one line, solve the AC power-flow study using LANL's `PowerModels.jl`, and present the resulting bus- and line-level solutions. The data in this example is from UW's EE 454 course (Power System Analysis) and describes a twelve-bus test system. Contingency Case 1 describes a scenario where one of the two circuits between Buses 1 and 2 is taken out of service (i.e., the impedance of that particular branch is changed)."
   ]
  },
  {
   "cell_type": "code",
   "execution_count": 6,
   "id": "b2bd79d0",
   "metadata": {},
   "outputs": [
    {
     "name": "stdout",
     "output_type": "stream",
     "text": [
      "\u001b[32m[info | PowerModels]: removing 3 cost terms from generator 4: Float64[]\u001b[39m\n",
      "\u001b[32m[info | PowerModels]: removing 3 cost terms from generator 1: Float64[]\u001b[39m\n",
      "\u001b[32m[info | PowerModels]: removing 3 cost terms from generator 5: Float64[]\u001b[39m\n",
      "\u001b[32m[info | PowerModels]: removing 3 cost terms from generator 2: Float64[]\u001b[39m\n",
      "\u001b[32m[info | PowerModels]: removing 3 cost terms from generator 3: Float64[]\u001b[39m\n"
     ]
    },
    {
     "data": {
      "text/plain": [
       "Dict{String, Any} with 13 entries:\n",
       "  \"bus\"            => Dict{String, Any}(\"4\"=>Dict{String, Any}(\"zone\"=>1, \"bus_…\n",
       "  \"source_type\"    => \"matpower\"\n",
       "  \"name\"           => \"uw_ee_454_project_data\"\n",
       "  \"dcline\"         => Dict{String, Any}()\n",
       "  \"source_version\" => \"2\"\n",
       "  \"gen\"            => Dict{String, Any}(\"4\"=>Dict{String, Any}(\"ncost\"=>0, \"qc1…\n",
       "  \"branch\"         => Dict{String, Any}(\"4\"=>Dict{String, Any}(\"br_r\"=>0.05811,…\n",
       "  \"storage\"        => Dict{String, Any}()\n",
       "  \"switch\"         => Dict{String, Any}()\n",
       "  \"baseMVA\"        => 100\n",
       "  \"per_unit\"       => true\n",
       "  \"shunt\"          => Dict{String, Any}()\n",
       "  \"load\"           => Dict{String, Any}(\"4\"=>Dict{String, Any}(\"source_id\"=>Any…"
      ]
     },
     "execution_count": 6,
     "metadata": {},
     "output_type": "execute_result"
    }
   ],
   "source": [
    "# Define the data directory and case name\n",
    "file_path = joinpath(@__DIR__, \"..\", \"data\")\n",
    "case_name = \"uw_ee_454_project_data\"\n",
    "file_type = \".m\"\n",
    "\n",
    "# Load the network data\n",
    "network_data = load_network_data(file_path, case_name, file_type)"
   ]
  },
  {
   "cell_type": "code",
   "execution_count": 7,
   "id": "a085c187",
   "metadata": {},
   "outputs": [
    {
     "data": {
      "text/plain": [
       "0.0132"
      ]
     },
     "execution_count": 7,
     "metadata": {},
     "output_type": "execute_result"
    }
   ],
   "source": [
    "# Change the impedances in the line between Buses 1 and 2 to appropriately reflect the contingency\n",
    "change_line_resistance!(0.01938 * 2, 1, 2, network_data)\n",
    "change_line_reactance!(0.05917 * 2, 1, 2, network_data)\n",
    "change_line_susceptance!(0.0528 / 2, 1, 2, network_data)"
   ]
  },
  {
   "cell_type": "code",
   "execution_count": 8,
   "id": "df07a313",
   "metadata": {},
   "outputs": [
    {
     "data": {
      "text/plain": [
       "Dict{String, Any} with 5 entries:\n",
       "  \"optimizer\"          => \"NLsolve\"\n",
       "  \"termination_status\" => true\n",
       "  \"objective\"          => 0.0\n",
       "  \"solution\"           => Dict{String, Any}(\"gen\"=>Dict{String, Any}(\"4\"=>Dict(…\n",
       "  \"solve_time\"         => 0.013"
      ]
     },
     "execution_count": 8,
     "metadata": {},
     "output_type": "execute_result"
    }
   ],
   "source": [
    "# Solve the power-flow problem\n",
    "result = compute_ac_pf(network_data)"
   ]
  },
  {
   "cell_type": "code",
   "execution_count": 9,
   "id": "0c31aed8",
   "metadata": {},
   "outputs": [
    {
     "data": {
      "text/html": [
       "<div><div style = \"float: left;\"><span>12×8 DataFrame</span></div><div style = \"clear: both;\"></div></div><div class = \"data-frame\" style = \"overflow-x: scroll;\"><table class = \"data-frame\" style = \"margin-bottom: 6px;\"><thead><tr class = \"header\"><th class = \"rowNumber\" style = \"font-weight: bold; text-align: right;\">Row</th><th style = \"text-align: left;\">Bus Number</th><th style = \"text-align: left;\">Bus Type</th><th style = \"text-align: left;\">Voltage Magnitude (p.u.)</th><th style = \"text-align: left;\">Voltage Angle (degrees)</th><th style = \"text-align: left;\">Real Power Generated (MW)</th><th style = \"text-align: left;\">Reactive Power Generated (MVAR)</th><th style = \"text-align: left;\">Real Power Load (MW)</th><th style = \"text-align: left;\">Reactive Power Load (MVAR)</th></tr><tr class = \"subheader headerLastRow\"><th class = \"rowNumber\" style = \"font-weight: bold; text-align: right;\"></th><th title = \"Int64\" style = \"text-align: left;\">Int64</th><th title = \"String\" style = \"text-align: left;\">String</th><th title = \"Float64\" style = \"text-align: left;\">Float64</th><th title = \"Float64\" style = \"text-align: left;\">Float64</th><th title = \"Float64\" style = \"text-align: left;\">Float64</th><th title = \"Float64\" style = \"text-align: left;\">Float64</th><th title = \"Float64\" style = \"text-align: left;\">Float64</th><th title = \"Float64\" style = \"text-align: left;\">Float64</th></tr></thead><tbody><tr><td class = \"rowNumber\" style = \"font-weight: bold; text-align: right;\">1</td><td style = \"text-align: right;\">1</td><td style = \"text-align: left;\">Slack</td><td style = \"text-align: right;\">1.05</td><td style = \"text-align: right;\">0.0</td><td style = \"text-align: right;\">147.304</td><td style = \"text-align: right;\">-25.2533</td><td style = \"text-align: right;\">0.0</td><td style = \"text-align: right;\">0.0</td></tr><tr><td class = \"rowNumber\" style = \"font-weight: bold; text-align: right;\">2</td><td style = \"text-align: right;\">2</td><td style = \"text-align: left;\">PV</td><td style = \"text-align: right;\">1.045</td><td style = \"text-align: right;\">-5.77744</td><td style = \"text-align: right;\">42.0</td><td style = \"text-align: right;\">48.4565</td><td style = \"text-align: right;\">23.7</td><td style = \"text-align: right;\">15.3</td></tr><tr><td class = \"rowNumber\" style = \"font-weight: bold; text-align: right;\">3</td><td style = \"text-align: right;\">3</td><td style = \"text-align: left;\">PV</td><td style = \"text-align: right;\">1.01</td><td style = \"text-align: right;\">-11.8509</td><td style = \"text-align: right;\">23.0</td><td style = \"text-align: right;\">23.0392</td><td style = \"text-align: right;\">84.2</td><td style = \"text-align: right;\">19.0</td></tr><tr><td class = \"rowNumber\" style = \"font-weight: bold; text-align: right;\">4</td><td style = \"text-align: right;\">4</td><td style = \"text-align: left;\">PQ</td><td style = \"text-align: right;\">1.02743</td><td style = \"text-align: right;\">-8.34817</td><td style = \"text-align: right;\">0.0</td><td style = \"text-align: right;\">0.0</td><td style = \"text-align: right;\">57.8</td><td style = \"text-align: right;\">-3.9</td></tr><tr><td class = \"rowNumber\" style = \"font-weight: bold; text-align: right;\">5</td><td style = \"text-align: right;\">5</td><td style = \"text-align: left;\">PQ</td><td style = \"text-align: right;\">1.03076</td><td style = \"text-align: right;\">-7.18907</td><td style = \"text-align: right;\">0.0</td><td style = \"text-align: right;\">0.0</td><td style = \"text-align: right;\">7.6</td><td style = \"text-align: right;\">1.6</td></tr><tr><td class = \"rowNumber\" style = \"font-weight: bold; text-align: right;\">6</td><td style = \"text-align: right;\">6</td><td style = \"text-align: left;\">PQ</td><td style = \"text-align: right;\">1.0233</td><td style = \"text-align: right;\">-9.71109</td><td style = \"text-align: right;\">0.0</td><td style = \"text-align: right;\">0.0</td><td style = \"text-align: right;\">13.5</td><td style = \"text-align: right;\">8.5</td></tr><tr><td class = \"rowNumber\" style = \"font-weight: bold; text-align: right;\">7</td><td style = \"text-align: right;\">7</td><td style = \"text-align: left;\">PQ</td><td style = \"text-align: right;\">0.989992</td><td style = \"text-align: right;\">-12.4482</td><td style = \"text-align: right;\">0.0</td><td style = \"text-align: right;\">0.0</td><td style = \"text-align: right;\">29.5</td><td style = \"text-align: right;\">13.6</td></tr><tr><td class = \"rowNumber\" style = \"font-weight: bold; text-align: right;\">8</td><td style = \"text-align: right;\">8</td><td style = \"text-align: left;\">PQ</td><td style = \"text-align: right;\">0.987234</td><td style = \"text-align: right;\">-12.2873</td><td style = \"text-align: right;\">0.0</td><td style = \"text-align: right;\">0.0</td><td style = \"text-align: right;\">9.0</td><td style = \"text-align: right;\">5.8</td></tr><tr><td class = \"rowNumber\" style = \"font-weight: bold; text-align: right;\">9</td><td style = \"text-align: right;\">9</td><td style = \"text-align: left;\">PQ</td><td style = \"text-align: right;\">1.0001</td><td style = \"text-align: right;\">-11.1763</td><td style = \"text-align: right;\">0.0</td><td style = \"text-align: right;\">0.0</td><td style = \"text-align: right;\">4.3</td><td style = \"text-align: right;\">2.1</td></tr><tr><td class = \"rowNumber\" style = \"font-weight: bold; text-align: right;\">10</td><td style = \"text-align: right;\">10</td><td style = \"text-align: left;\">PV</td><td style = \"text-align: right;\">1.06</td><td style = \"text-align: right;\">-8.59017</td><td style = \"text-align: right;\">33.0</td><td style = \"text-align: right;\">13.0206</td><td style = \"text-align: right;\">5.2</td><td style = \"text-align: right;\">1.6</td></tr><tr><td class = \"rowNumber\" style = \"font-weight: bold; text-align: right;\">11</td><td style = \"text-align: right;\">11</td><td style = \"text-align: left;\">PQ</td><td style = \"text-align: right;\">1.0246</td><td style = \"text-align: right;\">-9.92092</td><td style = \"text-align: right;\">0.0</td><td style = \"text-align: right;\">0.0</td><td style = \"text-align: right;\">13.5</td><td style = \"text-align: right;\">5.8</td></tr><tr><td class = \"rowNumber\" style = \"font-weight: bold; text-align: right;\">12</td><td style = \"text-align: right;\">12</td><td style = \"text-align: left;\">PV</td><td style = \"text-align: right;\">1.04</td><td style = \"text-align: right;\">-11.0442</td><td style = \"text-align: right;\">27.0</td><td style = \"text-align: right;\">23.3853</td><td style = \"text-align: right;\">14.9</td><td style = \"text-align: right;\">5.0</td></tr></tbody></table></div>"
      ],
      "text/latex": [
       "\\begin{tabular}{r|cccccc}\n",
       "\t& Bus Number & Bus Type & Voltage Magnitude (p.u.) & Voltage Angle (degrees) & Real Power Generated (MW) & \\\\\n",
       "\t\\hline\n",
       "\t& Int64 & String & Float64 & Float64 & Float64 & \\\\\n",
       "\t\\hline\n",
       "\t1 & 1 & Slack & 1.05 & 0.0 & 147.304 & $\\dots$ \\\\\n",
       "\t2 & 2 & PV & 1.045 & -5.77744 & 42.0 & $\\dots$ \\\\\n",
       "\t3 & 3 & PV & 1.01 & -11.8509 & 23.0 & $\\dots$ \\\\\n",
       "\t4 & 4 & PQ & 1.02743 & -8.34817 & 0.0 & $\\dots$ \\\\\n",
       "\t5 & 5 & PQ & 1.03076 & -7.18907 & 0.0 & $\\dots$ \\\\\n",
       "\t6 & 6 & PQ & 1.0233 & -9.71109 & 0.0 & $\\dots$ \\\\\n",
       "\t7 & 7 & PQ & 0.989992 & -12.4482 & 0.0 & $\\dots$ \\\\\n",
       "\t8 & 8 & PQ & 0.987234 & -12.2873 & 0.0 & $\\dots$ \\\\\n",
       "\t9 & 9 & PQ & 1.0001 & -11.1763 & 0.0 & $\\dots$ \\\\\n",
       "\t10 & 10 & PV & 1.06 & -8.59017 & 33.0 & $\\dots$ \\\\\n",
       "\t11 & 11 & PQ & 1.0246 & -9.92092 & 0.0 & $\\dots$ \\\\\n",
       "\t12 & 12 & PV & 1.04 & -11.0442 & 27.0 & $\\dots$ \\\\\n",
       "\\end{tabular}\n"
      ],
      "text/plain": [
       "\u001b[1m12×8 DataFrame\u001b[0m\n",
       "\u001b[1m Row \u001b[0m│\u001b[1m Bus Number \u001b[0m\u001b[1m Bus Type \u001b[0m\u001b[1m Voltage Magnitude (p.u.) \u001b[0m\u001b[1m Voltage Angle (degrees)\u001b[0m ⋯\n",
       "     │\u001b[90m Int64      \u001b[0m\u001b[90m String   \u001b[0m\u001b[90m Float64                  \u001b[0m\u001b[90m Float64                \u001b[0m ⋯\n",
       "─────┼──────────────────────────────────────────────────────────────────────────\n",
       "   1 │          1  Slack                     1.05                      0.0     ⋯\n",
       "   2 │          2  PV                        1.045                    -5.77744\n",
       "   3 │          3  PV                        1.01                    -11.8509\n",
       "   4 │          4  PQ                        1.02743                  -8.34817\n",
       "   5 │          5  PQ                        1.03076                  -7.18907 ⋯\n",
       "   6 │          6  PQ                        1.0233                   -9.71109\n",
       "   7 │          7  PQ                        0.989992                -12.4482\n",
       "   8 │          8  PQ                        0.987234                -12.2873\n",
       "   9 │          9  PQ                        1.0001                  -11.1763  ⋯\n",
       "  10 │         10  PV                        1.06                     -8.59017\n",
       "  11 │         11  PQ                        1.0246                   -9.92092\n",
       "  12 │         12  PV                        1.04                    -11.0442\n",
       "\u001b[36m                                                               4 columns omitted\u001b[0m"
      ]
     },
     "execution_count": 9,
     "metadata": {},
     "output_type": "execute_result"
    }
   ],
   "source": [
    "# Print bus-level results\n",
    "bus_results = organize_bus_results(result, network_data)"
   ]
  },
  {
   "cell_type": "code",
   "execution_count": 10,
   "id": "3b536a01",
   "metadata": {},
   "outputs": [
    {
     "data": {
      "text/html": [
       "<div><div style = \"float: left;\"><span>17×8 DataFrame</span></div><div style = \"clear: both;\"></div></div><div class = \"data-frame\" style = \"overflow-x: scroll;\"><table class = \"data-frame\" style = \"margin-bottom: 6px;\"><thead><tr class = \"header\"><th class = \"rowNumber\" style = \"font-weight: bold; text-align: right;\">Row</th><th style = \"text-align: left;\">Bus i</th><th style = \"text-align: left;\">Bus j</th><th style = \"text-align: left;\">Real Power Flow from Bus i to Bus j (MW)</th><th style = \"text-align: left;\">Real Power Flow from Bus j to Bus i (MW)</th><th style = \"text-align: left;\">Real Power Flow Losses (MW)</th><th style = \"text-align: left;\">Reactive Power Flow from Bus i to Bus j (MVAR)</th><th style = \"text-align: left;\">Reactive Power Flow from Bus j to Bus i (MVAR)</th><th style = \"text-align: left;\">Reactive Power Flow Losses (MVAR)</th></tr><tr class = \"subheader headerLastRow\"><th class = \"rowNumber\" style = \"font-weight: bold; text-align: right;\"></th><th title = \"Int64\" style = \"text-align: left;\">Int64</th><th title = \"Int64\" style = \"text-align: left;\">Int64</th><th title = \"Float64\" style = \"text-align: left;\">Float64</th><th title = \"Float64\" style = \"text-align: left;\">Float64</th><th title = \"Float64\" style = \"text-align: left;\">Float64</th><th title = \"Float64\" style = \"text-align: left;\">Float64</th><th title = \"Float64\" style = \"text-align: left;\">Float64</th><th title = \"Float64\" style = \"text-align: left;\">Float64</th></tr></thead><tbody><tr><td class = \"rowNumber\" style = \"font-weight: bold; text-align: right;\">1</td><td style = \"text-align: right;\">1</td><td style = \"text-align: right;\">2</td><td style = \"text-align: right;\">86.999</td><td style = \"text-align: right;\">-84.2065</td><td style = \"text-align: right;\">2.79255</td><td style = \"text-align: right;\">-20.804</td><td style = \"text-align: right;\">26.4333</td><td style = \"text-align: right;\">5.62929</td></tr><tr><td class = \"rowNumber\" style = \"font-weight: bold; text-align: right;\">2</td><td style = \"text-align: right;\">1</td><td style = \"text-align: right;\">5</td><td style = \"text-align: right;\">60.3052</td><td style = \"text-align: right;\">-58.5215</td><td style = \"text-align: right;\">1.78372</td><td style = \"text-align: right;\">-4.44927</td><td style = \"text-align: right;\">6.48678</td><td style = \"text-align: right;\">2.03751</td></tr><tr><td class = \"rowNumber\" style = \"font-weight: bold; text-align: right;\">3</td><td style = \"text-align: right;\">2</td><td style = \"text-align: right;\">3</td><td style = \"text-align: right;\">58.2226</td><td style = \"text-align: right;\">-56.7387</td><td style = \"text-align: right;\">1.48383</td><td style = \"text-align: right;\">5.25625</td><td style = \"text-align: right;\">-3.63037</td><td style = \"text-align: right;\">1.62587</td></tr><tr><td class = \"rowNumber\" style = \"font-weight: bold; text-align: right;\">4</td><td style = \"text-align: right;\">2</td><td style = \"text-align: right;\">4</td><td style = \"text-align: right;\">27.9147</td><td style = \"text-align: right;\">-27.4983</td><td style = \"text-align: right;\">0.416434</td><td style = \"text-align: right;\">-0.0274472</td><td style = \"text-align: right;\">-2.35996</td><td style = \"text-align: right;\">-2.38741</td></tr><tr><td class = \"rowNumber\" style = \"font-weight: bold; text-align: right;\">5</td><td style = \"text-align: right;\">2</td><td style = \"text-align: right;\">5</td><td style = \"text-align: right;\">16.3691</td><td style = \"text-align: right;\">-16.2234</td><td style = \"text-align: right;\">0.145708</td><td style = \"text-align: right;\">1.49446</td><td style = \"text-align: right;\">-4.77686</td><td style = \"text-align: right;\">-3.2824</td></tr><tr><td class = \"rowNumber\" style = \"font-weight: bold; text-align: right;\">6</td><td style = \"text-align: right;\">3</td><td style = \"text-align: right;\">4</td><td style = \"text-align: right;\">-4.46125</td><td style = \"text-align: right;\">5.04698</td><td style = \"text-align: right;\">0.585726</td><td style = \"text-align: right;\">7.66957</td><td style = \"text-align: right;\">-8.84852</td><td style = \"text-align: right;\">-1.17895</td></tr><tr><td class = \"rowNumber\" style = \"font-weight: bold; text-align: right;\">7</td><td style = \"text-align: right;\">4</td><td style = \"text-align: right;\">5</td><td style = \"text-align: right;\">-48.4241</td><td style = \"text-align: right;\">48.7282</td><td style = \"text-align: right;\">0.304102</td><td style = \"text-align: right;\">7.72543</td><td style = \"text-align: right;\">-6.7662</td><td style = \"text-align: right;\">0.959231</td></tr><tr><td class = \"rowNumber\" style = \"font-weight: bold; text-align: right;\">8</td><td style = \"text-align: right;\">4</td><td style = \"text-align: right;\">7</td><td style = \"text-align: right;\">13.0754</td><td style = \"text-align: right;\">-13.0754</td><td style = \"text-align: right;\">0.0</td><td style = \"text-align: right;\">7.38305</td><td style = \"text-align: right;\">-6.19505</td><td style = \"text-align: right;\">1.188</td></tr><tr><td class = \"rowNumber\" style = \"font-weight: bold; text-align: right;\">9</td><td style = \"text-align: right;\">5</td><td style = \"text-align: right;\">6</td><td style = \"text-align: right;\">18.4167</td><td style = \"text-align: right;\">-18.4167</td><td style = \"text-align: right;\">0.0</td><td style = \"text-align: right;\">3.45628</td><td style = \"text-align: right;\">-2.62341</td><td style = \"text-align: right;\">0.83287</td></tr><tr><td class = \"rowNumber\" style = \"font-weight: bold; text-align: right;\">10</td><td style = \"text-align: right;\">6</td><td style = \"text-align: right;\">9</td><td style = \"text-align: right;\">15.4204</td><td style = \"text-align: right;\">-15.1843</td><td style = \"text-align: right;\">0.236074</td><td style = \"text-align: right;\">4.74133</td><td style = \"text-align: right;\">-4.24696</td><td style = \"text-align: right;\">0.494368</td></tr><tr><td class = \"rowNumber\" style = \"font-weight: bold; text-align: right;\">11</td><td style = \"text-align: right;\">6</td><td style = \"text-align: right;\">10</td><td style = \"text-align: right;\">-12.438</td><td style = \"text-align: right;\">12.7069</td><td style = \"text-align: right;\">0.268854</td><td style = \"text-align: right;\">-8.62262</td><td style = \"text-align: right;\">9.18218</td><td style = \"text-align: right;\">0.55956</td></tr><tr><td class = \"rowNumber\" style = \"font-weight: bold; text-align: right;\">12</td><td style = \"text-align: right;\">6</td><td style = \"text-align: right;\">11</td><td style = \"text-align: right;\">1.93433</td><td style = \"text-align: right;\">-1.92945</td><td style = \"text-align: right;\">0.00487865</td><td style = \"text-align: right;\">-1.9953</td><td style = \"text-align: right;\">2.00491</td><td style = \"text-align: right;\">0.00960758</td></tr><tr><td class = \"rowNumber\" style = \"font-weight: bold; text-align: right;\">13</td><td style = \"text-align: right;\">7</td><td style = \"text-align: right;\">8</td><td style = \"text-align: right;\">-1.77741</td><td style = \"text-align: right;\">1.78338</td><td style = \"text-align: right;\">0.0059753</td><td style = \"text-align: right;\">3.90526</td><td style = \"text-align: right;\">-3.88939</td><td style = \"text-align: right;\">0.0158728</td></tr><tr><td class = \"rowNumber\" style = \"font-weight: bold; text-align: right;\">14</td><td style = \"text-align: right;\">7</td><td style = \"text-align: right;\">12</td><td style = \"text-align: right;\">-14.6472</td><td style = \"text-align: right;\">15.0913</td><td style = \"text-align: right;\">0.444147</td><td style = \"text-align: right;\">-11.3102</td><td style = \"text-align: right;\">12.255</td><td style = \"text-align: right;\">0.94476</td></tr><tr><td class = \"rowNumber\" style = \"font-weight: bold; text-align: right;\">15</td><td style = \"text-align: right;\">8</td><td style = \"text-align: right;\">9</td><td style = \"text-align: right;\">-10.7834</td><td style = \"text-align: right;\">10.8843</td><td style = \"text-align: right;\">0.100966</td><td style = \"text-align: right;\">-1.91061</td><td style = \"text-align: right;\">2.14696</td><td style = \"text-align: right;\">0.236349</td></tr><tr><td class = \"rowNumber\" style = \"font-weight: bold; text-align: right;\">16</td><td style = \"text-align: right;\">10</td><td style = \"text-align: right;\">11</td><td style = \"text-align: right;\">15.0931</td><td style = \"text-align: right;\">-14.6354</td><td style = \"text-align: right;\">0.457753</td><td style = \"text-align: right;\">2.23844</td><td style = \"text-align: right;\">-1.82428</td><td style = \"text-align: right;\">0.414158</td></tr><tr><td class = \"rowNumber\" style = \"font-weight: bold; text-align: right;\">17</td><td style = \"text-align: right;\">11</td><td style = \"text-align: right;\">12</td><td style = \"text-align: right;\">3.06484</td><td style = \"text-align: right;\">-2.99131</td><td style = \"text-align: right;\">0.0735319</td><td style = \"text-align: right;\">-5.98063</td><td style = \"text-align: right;\">6.13034</td><td style = \"text-align: right;\">0.149714</td></tr></tbody></table></div>"
      ],
      "text/latex": [
       "\\begin{tabular}{r|ccccc}\n",
       "\t& Bus i & Bus j & Real Power Flow from Bus i to Bus j (MW) & Real Power Flow from Bus j to Bus i (MW) & \\\\\n",
       "\t\\hline\n",
       "\t& Int64 & Int64 & Float64 & Float64 & \\\\\n",
       "\t\\hline\n",
       "\t1 & 1 & 2 & 86.999 & -84.2065 & $\\dots$ \\\\\n",
       "\t2 & 1 & 5 & 60.3052 & -58.5215 & $\\dots$ \\\\\n",
       "\t3 & 2 & 3 & 58.2226 & -56.7387 & $\\dots$ \\\\\n",
       "\t4 & 2 & 4 & 27.9147 & -27.4983 & $\\dots$ \\\\\n",
       "\t5 & 2 & 5 & 16.3691 & -16.2234 & $\\dots$ \\\\\n",
       "\t6 & 3 & 4 & -4.46125 & 5.04698 & $\\dots$ \\\\\n",
       "\t7 & 4 & 5 & -48.4241 & 48.7282 & $\\dots$ \\\\\n",
       "\t8 & 4 & 7 & 13.0754 & -13.0754 & $\\dots$ \\\\\n",
       "\t9 & 5 & 6 & 18.4167 & -18.4167 & $\\dots$ \\\\\n",
       "\t10 & 6 & 9 & 15.4204 & -15.1843 & $\\dots$ \\\\\n",
       "\t11 & 6 & 10 & -12.438 & 12.7069 & $\\dots$ \\\\\n",
       "\t12 & 6 & 11 & 1.93433 & -1.92945 & $\\dots$ \\\\\n",
       "\t13 & 7 & 8 & -1.77741 & 1.78338 & $\\dots$ \\\\\n",
       "\t14 & 7 & 12 & -14.6472 & 15.0913 & $\\dots$ \\\\\n",
       "\t15 & 8 & 9 & -10.7834 & 10.8843 & $\\dots$ \\\\\n",
       "\t16 & 10 & 11 & 15.0931 & -14.6354 & $\\dots$ \\\\\n",
       "\t17 & 11 & 12 & 3.06484 & -2.99131 & $\\dots$ \\\\\n",
       "\\end{tabular}\n"
      ],
      "text/plain": [
       "\u001b[1m17×8 DataFrame\u001b[0m\n",
       "\u001b[1m Row \u001b[0m│\u001b[1m Bus i \u001b[0m\u001b[1m Bus j \u001b[0m\u001b[1m Real Power Flow from Bus i to Bus j (MW) \u001b[0m\u001b[1m Real Power Flow\u001b[0m ⋯\n",
       "     │\u001b[90m Int64 \u001b[0m\u001b[90m Int64 \u001b[0m\u001b[90m Float64                                  \u001b[0m\u001b[90m Float64        \u001b[0m ⋯\n",
       "─────┼──────────────────────────────────────────────────────────────────────────\n",
       "   1 │     1      2                                  86.999                    ⋯\n",
       "   2 │     1      5                                  60.3052\n",
       "   3 │     2      3                                  58.2226\n",
       "   4 │     2      4                                  27.9147\n",
       "   5 │     2      5                                  16.3691                   ⋯\n",
       "   6 │     3      4                                  -4.46125\n",
       "   7 │     4      5                                 -48.4241\n",
       "   8 │     4      7                                  13.0754\n",
       "   9 │     5      6                                  18.4167                   ⋯\n",
       "  10 │     6      9                                  15.4204\n",
       "  11 │     6     10                                 -12.438\n",
       "  12 │     6     11                                   1.93433\n",
       "  13 │     7      8                                  -1.77741                  ⋯\n",
       "  14 │     7     12                                 -14.6472\n",
       "  15 │     8      9                                 -10.7834\n",
       "  16 │    10     11                                  15.0931\n",
       "  17 │    11     12                                   3.06484                  ⋯\n",
       "\u001b[36m                                                               5 columns omitted\u001b[0m"
      ]
     },
     "execution_count": 10,
     "metadata": {},
     "output_type": "execute_result"
    }
   ],
   "source": [
    "# Print line-level results\n",
    "line_results = organize_line_results(result, network_data)"
   ]
  },
  {
   "cell_type": "markdown",
   "id": "262bd8f1",
   "metadata": {},
   "source": [
    "# Replicate Contingency Case 2 from UW's EE 454 Project"
   ]
  },
  {
   "cell_type": "markdown",
   "id": "04b173e4",
   "metadata": {},
   "source": [
    "Read in data from a MATPOWER case file, remove a line, solve the AC power-flow study using LANL's `PowerModels.jl`, and present the resulting bus- and line-level solutions. The data in this example is from UW's EE 454 course (Power System Analysis) and describes a twelve-bus test system. Contingency Case 2 describes a scenario where the line between Buses 10 and 11 is taken out of service."
   ]
  },
  {
   "cell_type": "code",
   "execution_count": 11,
   "id": "888f17fd",
   "metadata": {},
   "outputs": [
    {
     "name": "stdout",
     "output_type": "stream",
     "text": [
      "\u001b[32m[info | PowerModels]: removing 3 cost terms from generator 4: Float64[]\u001b[39m\n",
      "\u001b[32m[info | PowerModels]: removing 3 cost terms from generator 1: Float64[]\u001b[39m\n",
      "\u001b[32m[info | PowerModels]: removing 3 cost terms from generator 5: Float64[]\u001b[39m\n",
      "\u001b[32m[info | PowerModels]: removing 3 cost terms from generator 2: Float64[]\u001b[39m\n",
      "\u001b[32m[info | PowerModels]: removing 3 cost terms from generator 3: Float64[]\u001b[39m\n"
     ]
    },
    {
     "data": {
      "text/plain": [
       "Dict{String, Any} with 13 entries:\n",
       "  \"bus\"            => Dict{String, Any}(\"4\"=>Dict{String, Any}(\"zone\"=>1, \"bus_…\n",
       "  \"source_type\"    => \"matpower\"\n",
       "  \"name\"           => \"uw_ee_454_project_data\"\n",
       "  \"dcline\"         => Dict{String, Any}()\n",
       "  \"source_version\" => \"2\"\n",
       "  \"gen\"            => Dict{String, Any}(\"4\"=>Dict{String, Any}(\"ncost\"=>0, \"qc1…\n",
       "  \"branch\"         => Dict{String, Any}(\"4\"=>Dict{String, Any}(\"br_r\"=>0.05811,…\n",
       "  \"storage\"        => Dict{String, Any}()\n",
       "  \"switch\"         => Dict{String, Any}()\n",
       "  \"baseMVA\"        => 100\n",
       "  \"per_unit\"       => true\n",
       "  \"shunt\"          => Dict{String, Any}()\n",
       "  \"load\"           => Dict{String, Any}(\"4\"=>Dict{String, Any}(\"source_id\"=>Any…"
      ]
     },
     "execution_count": 11,
     "metadata": {},
     "output_type": "execute_result"
    }
   ],
   "source": [
    "# Define the data directory and case name\n",
    "file_path = joinpath(@__DIR__, \"..\", \"data\")\n",
    "case_name = \"uw_ee_454_project_data\"\n",
    "file_type = \".m\"\n",
    "\n",
    "# Load the network data\n",
    "network_data = load_network_data(file_path, case_name, file_type)"
   ]
  },
  {
   "cell_type": "code",
   "execution_count": 12,
   "id": "4603d409",
   "metadata": {},
   "outputs": [
    {
     "name": "stdout",
     "output_type": "stream",
     "text": [
      "Bus 10 is not stranded.\n",
      "Bus 11 is not stranded.\n"
     ]
    }
   ],
   "source": [
    "# Delete the line between Buses 10 and 11 to appropriately reflect the contingency\n",
    "delete_line!(10, 11, network_data)"
   ]
  },
  {
   "cell_type": "code",
   "execution_count": 13,
   "id": "8e5c4abc",
   "metadata": {},
   "outputs": [
    {
     "data": {
      "text/plain": [
       "Dict{String, Any} with 5 entries:\n",
       "  \"optimizer\"          => \"NLsolve\"\n",
       "  \"termination_status\" => true\n",
       "  \"objective\"          => 0.0\n",
       "  \"solution\"           => Dict{String, Any}(\"gen\"=>Dict{String, Any}(\"4\"=>Dict(…\n",
       "  \"solve_time\"         => 0.0119998"
      ]
     },
     "execution_count": 13,
     "metadata": {},
     "output_type": "execute_result"
    }
   ],
   "source": [
    "# Solve the power-flow problem\n",
    "result = compute_ac_pf(network_data)"
   ]
  },
  {
   "cell_type": "code",
   "execution_count": 14,
   "id": "2f8388b7",
   "metadata": {},
   "outputs": [
    {
     "data": {
      "text/html": [
       "<div><div style = \"float: left;\"><span>12×8 DataFrame</span></div><div style = \"clear: both;\"></div></div><div class = \"data-frame\" style = \"overflow-x: scroll;\"><table class = \"data-frame\" style = \"margin-bottom: 6px;\"><thead><tr class = \"header\"><th class = \"rowNumber\" style = \"font-weight: bold; text-align: right;\">Row</th><th style = \"text-align: left;\">Bus Number</th><th style = \"text-align: left;\">Bus Type</th><th style = \"text-align: left;\">Voltage Magnitude (p.u.)</th><th style = \"text-align: left;\">Voltage Angle (degrees)</th><th style = \"text-align: left;\">Real Power Generated (MW)</th><th style = \"text-align: left;\">Reactive Power Generated (MVAR)</th><th style = \"text-align: left;\">Real Power Load (MW)</th><th style = \"text-align: left;\">Reactive Power Load (MVAR)</th></tr><tr class = \"subheader headerLastRow\"><th class = \"rowNumber\" style = \"font-weight: bold; text-align: right;\"></th><th title = \"Int64\" style = \"text-align: left;\">Int64</th><th title = \"String\" style = \"text-align: left;\">String</th><th title = \"Float64\" style = \"text-align: left;\">Float64</th><th title = \"Float64\" style = \"text-align: left;\">Float64</th><th title = \"Float64\" style = \"text-align: left;\">Float64</th><th title = \"Float64\" style = \"text-align: left;\">Float64</th><th title = \"Float64\" style = \"text-align: left;\">Float64</th><th title = \"Float64\" style = \"text-align: left;\">Float64</th></tr></thead><tbody><tr><td class = \"rowNumber\" style = \"font-weight: bold; text-align: right;\">1</td><td style = \"text-align: right;\">1</td><td style = \"text-align: left;\">Slack</td><td style = \"text-align: right;\">1.05</td><td style = \"text-align: right;\">0.0</td><td style = \"text-align: right;\">146.134</td><td style = \"text-align: right;\">-25.4496</td><td style = \"text-align: right;\">0.0</td><td style = \"text-align: right;\">0.0</td></tr><tr><td class = \"rowNumber\" style = \"font-weight: bold; text-align: right;\">2</td><td style = \"text-align: right;\">2</td><td style = \"text-align: left;\">PV</td><td style = \"text-align: right;\">1.045</td><td style = \"text-align: right;\">-3.30357</td><td style = \"text-align: right;\">42.0</td><td style = \"text-align: right;\">44.0911</td><td style = \"text-align: right;\">23.7</td><td style = \"text-align: right;\">15.3</td></tr><tr><td class = \"rowNumber\" style = \"font-weight: bold; text-align: right;\">3</td><td style = \"text-align: right;\">3</td><td style = \"text-align: left;\">PV</td><td style = \"text-align: right;\">1.01</td><td style = \"text-align: right;\">-9.44406</td><td style = \"text-align: right;\">23.0</td><td style = \"text-align: right;\">21.9696</td><td style = \"text-align: right;\">84.2</td><td style = \"text-align: right;\">19.0</td></tr><tr><td class = \"rowNumber\" style = \"font-weight: bold; text-align: right;\">4</td><td style = \"text-align: right;\">4</td><td style = \"text-align: left;\">PQ</td><td style = \"text-align: right;\">1.02525</td><td style = \"text-align: right;\">-6.46057</td><td style = \"text-align: right;\">0.0</td><td style = \"text-align: right;\">0.0</td><td style = \"text-align: right;\">57.8</td><td style = \"text-align: right;\">-3.9</td></tr><tr><td class = \"rowNumber\" style = \"font-weight: bold; text-align: right;\">5</td><td style = \"text-align: right;\">5</td><td style = \"text-align: left;\">PQ</td><td style = \"text-align: right;\">1.02881</td><td style = \"text-align: right;\">-5.43219</td><td style = \"text-align: right;\">0.0</td><td style = \"text-align: right;\">0.0</td><td style = \"text-align: right;\">7.6</td><td style = \"text-align: right;\">1.6</td></tr><tr><td class = \"rowNumber\" style = \"font-weight: bold; text-align: right;\">6</td><td style = \"text-align: right;\">6</td><td style = \"text-align: left;\">PQ</td><td style = \"text-align: right;\">1.01579</td><td style = \"text-align: right;\">-7.84067</td><td style = \"text-align: right;\">0.0</td><td style = \"text-align: right;\">0.0</td><td style = \"text-align: right;\">13.5</td><td style = \"text-align: right;\">8.5</td></tr><tr><td class = \"rowNumber\" style = \"font-weight: bold; text-align: right;\">7</td><td style = \"text-align: right;\">7</td><td style = \"text-align: left;\">PQ</td><td style = \"text-align: right;\">0.988031</td><td style = \"text-align: right;\">-11.0079</td><td style = \"text-align: right;\">0.0</td><td style = \"text-align: right;\">0.0</td><td style = \"text-align: right;\">29.5</td><td style = \"text-align: right;\">13.6</td></tr><tr><td class = \"rowNumber\" style = \"font-weight: bold; text-align: right;\">8</td><td style = \"text-align: right;\">8</td><td style = \"text-align: left;\">PQ</td><td style = \"text-align: right;\">0.984161</td><td style = \"text-align: right;\">-10.7784</td><td style = \"text-align: right;\">0.0</td><td style = \"text-align: right;\">0.0</td><td style = \"text-align: right;\">9.0</td><td style = \"text-align: right;\">5.8</td></tr><tr><td class = \"rowNumber\" style = \"font-weight: bold; text-align: right;\">9</td><td style = \"text-align: right;\">9</td><td style = \"text-align: left;\">PQ</td><td style = \"text-align: right;\">0.994708</td><td style = \"text-align: right;\">-9.49595</td><td style = \"text-align: right;\">0.0</td><td style = \"text-align: right;\">0.0</td><td style = \"text-align: right;\">4.3</td><td style = \"text-align: right;\">2.1</td></tr><tr><td class = \"rowNumber\" style = \"font-weight: bold; text-align: right;\">10</td><td style = \"text-align: right;\">10</td><td style = \"text-align: left;\">PV</td><td style = \"text-align: right;\">1.06</td><td style = \"text-align: right;\">-4.42782</td><td style = \"text-align: right;\">33.0</td><td style = \"text-align: right;\">7.30904</td><td style = \"text-align: right;\">5.2</td><td style = \"text-align: right;\">1.6</td></tr><tr><td class = \"rowNumber\" style = \"font-weight: bold; text-align: right;\">11</td><td style = \"text-align: right;\">11</td><td style = \"text-align: left;\">PQ</td><td style = \"text-align: right;\">1.01029</td><td style = \"text-align: right;\">-9.01448</td><td style = \"text-align: right;\">0.0</td><td style = \"text-align: right;\">0.0</td><td style = \"text-align: right;\">13.5</td><td style = \"text-align: right;\">5.8</td></tr><tr><td class = \"rowNumber\" style = \"font-weight: bold; text-align: right;\">12</td><td style = \"text-align: right;\">12</td><td style = \"text-align: left;\">PV</td><td style = \"text-align: right;\">1.04</td><td style = \"text-align: right;\">-10.0455</td><td style = \"text-align: right;\">27.0</td><td style = \"text-align: right;\">28.2988</td><td style = \"text-align: right;\">14.9</td><td style = \"text-align: right;\">5.0</td></tr></tbody></table></div>"
      ],
      "text/latex": [
       "\\begin{tabular}{r|cccccc}\n",
       "\t& Bus Number & Bus Type & Voltage Magnitude (p.u.) & Voltage Angle (degrees) & Real Power Generated (MW) & \\\\\n",
       "\t\\hline\n",
       "\t& Int64 & String & Float64 & Float64 & Float64 & \\\\\n",
       "\t\\hline\n",
       "\t1 & 1 & Slack & 1.05 & 0.0 & 146.134 & $\\dots$ \\\\\n",
       "\t2 & 2 & PV & 1.045 & -3.30357 & 42.0 & $\\dots$ \\\\\n",
       "\t3 & 3 & PV & 1.01 & -9.44406 & 23.0 & $\\dots$ \\\\\n",
       "\t4 & 4 & PQ & 1.02525 & -6.46057 & 0.0 & $\\dots$ \\\\\n",
       "\t5 & 5 & PQ & 1.02881 & -5.43219 & 0.0 & $\\dots$ \\\\\n",
       "\t6 & 6 & PQ & 1.01579 & -7.84067 & 0.0 & $\\dots$ \\\\\n",
       "\t7 & 7 & PQ & 0.988031 & -11.0079 & 0.0 & $\\dots$ \\\\\n",
       "\t8 & 8 & PQ & 0.984161 & -10.7784 & 0.0 & $\\dots$ \\\\\n",
       "\t9 & 9 & PQ & 0.994708 & -9.49595 & 0.0 & $\\dots$ \\\\\n",
       "\t10 & 10 & PV & 1.06 & -4.42782 & 33.0 & $\\dots$ \\\\\n",
       "\t11 & 11 & PQ & 1.01029 & -9.01448 & 0.0 & $\\dots$ \\\\\n",
       "\t12 & 12 & PV & 1.04 & -10.0455 & 27.0 & $\\dots$ \\\\\n",
       "\\end{tabular}\n"
      ],
      "text/plain": [
       "\u001b[1m12×8 DataFrame\u001b[0m\n",
       "\u001b[1m Row \u001b[0m│\u001b[1m Bus Number \u001b[0m\u001b[1m Bus Type \u001b[0m\u001b[1m Voltage Magnitude (p.u.) \u001b[0m\u001b[1m Voltage Angle (degrees)\u001b[0m ⋯\n",
       "     │\u001b[90m Int64      \u001b[0m\u001b[90m String   \u001b[0m\u001b[90m Float64                  \u001b[0m\u001b[90m Float64                \u001b[0m ⋯\n",
       "─────┼──────────────────────────────────────────────────────────────────────────\n",
       "   1 │          1  Slack                     1.05                      0.0     ⋯\n",
       "   2 │          2  PV                        1.045                    -3.30357\n",
       "   3 │          3  PV                        1.01                     -9.44406\n",
       "   4 │          4  PQ                        1.02525                  -6.46057\n",
       "   5 │          5  PQ                        1.02881                  -5.43219 ⋯\n",
       "   6 │          6  PQ                        1.01579                  -7.84067\n",
       "   7 │          7  PQ                        0.988031                -11.0079\n",
       "   8 │          8  PQ                        0.984161                -10.7784\n",
       "   9 │          9  PQ                        0.994708                 -9.49595 ⋯\n",
       "  10 │         10  PV                        1.06                     -4.42782\n",
       "  11 │         11  PQ                        1.01029                  -9.01448\n",
       "  12 │         12  PV                        1.04                    -10.0455\n",
       "\u001b[36m                                                               4 columns omitted\u001b[0m"
      ]
     },
     "execution_count": 14,
     "metadata": {},
     "output_type": "execute_result"
    }
   ],
   "source": [
    "# Print bus-level results\n",
    "bus_results = organize_bus_results(result, network_data)"
   ]
  },
  {
   "cell_type": "code",
   "execution_count": 15,
   "id": "d7156962",
   "metadata": {},
   "outputs": [
    {
     "data": {
      "text/html": [
       "<div><div style = \"float: left;\"><span>16×8 DataFrame</span></div><div style = \"clear: both;\"></div></div><div class = \"data-frame\" style = \"overflow-x: scroll;\"><table class = \"data-frame\" style = \"margin-bottom: 6px;\"><thead><tr class = \"header\"><th class = \"rowNumber\" style = \"font-weight: bold; text-align: right;\">Row</th><th style = \"text-align: left;\">Bus i</th><th style = \"text-align: left;\">Bus j</th><th style = \"text-align: left;\">Real Power Flow from Bus i to Bus j (MW)</th><th style = \"text-align: left;\">Real Power Flow from Bus j to Bus i (MW)</th><th style = \"text-align: left;\">Real Power Flow Losses (MW)</th><th style = \"text-align: left;\">Reactive Power Flow from Bus i to Bus j (MVAR)</th><th style = \"text-align: left;\">Reactive Power Flow from Bus j to Bus i (MVAR)</th><th style = \"text-align: left;\">Reactive Power Flow Losses (MVAR)</th></tr><tr class = \"subheader headerLastRow\"><th class = \"rowNumber\" style = \"font-weight: bold; text-align: right;\"></th><th title = \"Int64\" style = \"text-align: left;\">Int64</th><th title = \"Int64\" style = \"text-align: left;\">Int64</th><th title = \"Float64\" style = \"text-align: left;\">Float64</th><th title = \"Float64\" style = \"text-align: left;\">Float64</th><th title = \"Float64\" style = \"text-align: left;\">Float64</th><th title = \"Float64\" style = \"text-align: left;\">Float64</th><th title = \"Float64\" style = \"text-align: left;\">Float64</th><th title = \"Float64\" style = \"text-align: left;\">Float64</th></tr></thead><tbody><tr><td class = \"rowNumber\" style = \"font-weight: bold; text-align: right;\">1</td><td style = \"text-align: right;\">1</td><td style = \"text-align: right;\">2</td><td style = \"text-align: right;\">100.045</td><td style = \"text-align: right;\">-98.2095</td><td style = \"text-align: right;\">1.83556</td><td style = \"text-align: right;\">-23.7241</td><td style = \"text-align: right;\">23.5348</td><td style = \"text-align: right;\">-0.189324</td></tr><tr><td class = \"rowNumber\" style = \"font-weight: bold; text-align: right;\">2</td><td style = \"text-align: right;\">1</td><td style = \"text-align: right;\">5</td><td style = \"text-align: right;\">46.0894</td><td style = \"text-align: right;\">-45.0479</td><td style = \"text-align: right;\">1.04149</td><td style = \"text-align: right;\">-1.7255</td><td style = \"text-align: right;\">0.70894</td><td style = \"text-align: right;\">-1.01656</td></tr><tr><td class = \"rowNumber\" style = \"font-weight: bold; text-align: right;\">3</td><td style = \"text-align: right;\">2</td><td style = \"text-align: right;\">3</td><td style = \"text-align: right;\">58.825</td><td style = \"text-align: right;\">-57.3113</td><td style = \"text-align: right;\">1.51367</td><td style = \"text-align: right;\">5.17965</td><td style = \"text-align: right;\">-3.42806</td><td style = \"text-align: right;\">1.75159</td></tr><tr><td class = \"rowNumber\" style = \"font-weight: bold; text-align: right;\">4</td><td style = \"text-align: right;\">2</td><td style = \"text-align: right;\">4</td><td style = \"text-align: right;\">33.9391</td><td style = \"text-align: right;\">-33.3251</td><td style = \"text-align: right;\">0.614049</td><td style = \"text-align: right;\">-0.414608</td><td style = \"text-align: right;\">-1.36559</td><td style = \"text-align: right;\">-1.7802</td></tr><tr><td class = \"rowNumber\" style = \"font-weight: bold; text-align: right;\">5</td><td style = \"text-align: right;\">2</td><td style = \"text-align: right;\">5</td><td style = \"text-align: right;\">23.7453</td><td style = \"text-align: right;\">-23.4483</td><td style = \"text-align: right;\">0.297002</td><td style = \"text-align: right;\">0.491289</td><td style = \"text-align: right;\">-3.3048</td><td style = \"text-align: right;\">-2.81351</td></tr><tr><td class = \"rowNumber\" style = \"font-weight: bold; text-align: right;\">6</td><td style = \"text-align: right;\">3</td><td style = \"text-align: right;\">4</td><td style = \"text-align: right;\">-3.88865</td><td style = \"text-align: right;\">4.31452</td><td style = \"text-align: right;\">0.425874</td><td style = \"text-align: right;\">6.39764</td><td style = \"text-align: right;\">-7.61453</td><td style = \"text-align: right;\">-1.2169</td></tr><tr><td class = \"rowNumber\" style = \"font-weight: bold; text-align: right;\">7</td><td style = \"text-align: right;\">4</td><td style = \"text-align: right;\">5</td><td style = \"text-align: right;\">-43.2292</td><td style = \"text-align: right;\">43.4703</td><td style = \"text-align: right;\">0.241109</td><td style = \"text-align: right;\">5.44582</td><td style = \"text-align: right;\">-4.68529</td><td style = \"text-align: right;\">0.760533</td></tr><tr><td class = \"rowNumber\" style = \"font-weight: bold; text-align: right;\">8</td><td style = \"text-align: right;\">4</td><td style = \"text-align: right;\">7</td><td style = \"text-align: right;\">14.4398</td><td style = \"text-align: right;\">-14.4398</td><td style = \"text-align: right;\">0.0</td><td style = \"text-align: right;\">7.43431</td><td style = \"text-align: right;\">-6.03861</td><td style = \"text-align: right;\">1.3957</td></tr><tr><td class = \"rowNumber\" style = \"font-weight: bold; text-align: right;\">9</td><td style = \"text-align: right;\">5</td><td style = \"text-align: right;\">6</td><td style = \"text-align: right;\">17.4259</td><td style = \"text-align: right;\">-17.4259</td><td style = \"text-align: right;\">0.0</td><td style = \"text-align: right;\">5.68114</td><td style = \"text-align: right;\">-4.88127</td><td style = \"text-align: right;\">0.799875</td></tr><tr><td class = \"rowNumber\" style = \"font-weight: bold; text-align: right;\">10</td><td style = \"text-align: right;\">6</td><td style = \"text-align: right;\">9</td><td style = \"text-align: right;\">16.2182</td><td style = \"text-align: right;\">-15.9665</td><td style = \"text-align: right;\">0.251744</td><td style = \"text-align: right;\">3.23332</td><td style = \"text-align: right;\">-2.70614</td><td style = \"text-align: right;\">0.527183</td></tr><tr><td class = \"rowNumber\" style = \"font-weight: bold; text-align: right;\">11</td><td style = \"text-align: right;\">6</td><td style = \"text-align: right;\">10</td><td style = \"text-align: right;\">-26.9189</td><td style = \"text-align: right;\">27.8</td><td style = \"text-align: right;\">0.881059</td><td style = \"text-align: right;\">-3.87531</td><td style = \"text-align: right;\">5.70904</td><td style = \"text-align: right;\">1.83373</td></tr><tr><td class = \"rowNumber\" style = \"font-weight: bold; text-align: right;\">12</td><td style = \"text-align: right;\">6</td><td style = \"text-align: right;\">11</td><td style = \"text-align: right;\">14.6266</td><td style = \"text-align: right;\">-14.4837</td><td style = \"text-align: right;\">0.142834</td><td style = \"text-align: right;\">-2.97674</td><td style = \"text-align: right;\">3.25803</td><td style = \"text-align: right;\">0.281286</td></tr><tr><td class = \"rowNumber\" style = \"font-weight: bold; text-align: right;\">13</td><td style = \"text-align: right;\">7</td><td style = \"text-align: right;\">8</td><td style = \"text-align: right;\">-2.54138</td><td style = \"text-align: right;\">2.55331</td><td style = \"text-align: right;\">0.0119275</td><td style = \"text-align: right;\">5.49047</td><td style = \"text-align: right;\">-5.45879</td><td style = \"text-align: right;\">0.0316842</td></tr><tr><td class = \"rowNumber\" style = \"font-weight: bold; text-align: right;\">14</td><td style = \"text-align: right;\">7</td><td style = \"text-align: right;\">12</td><td style = \"text-align: right;\">-12.5188</td><td style = \"text-align: right;\">12.9447</td><td style = \"text-align: right;\">0.425875</td><td style = \"text-align: right;\">-13.0519</td><td style = \"text-align: right;\">13.9578</td><td style = \"text-align: right;\">0.905894</td></tr><tr><td class = \"rowNumber\" style = \"font-weight: bold; text-align: right;\">15</td><td style = \"text-align: right;\">8</td><td style = \"text-align: right;\">9</td><td style = \"text-align: right;\">-11.5533</td><td style = \"text-align: right;\">11.6665</td><td style = \"text-align: right;\">0.113172</td><td style = \"text-align: right;\">-0.341213</td><td style = \"text-align: right;\">0.606136</td><td style = \"text-align: right;\">0.264922</td></tr><tr><td class = \"rowNumber\" style = \"font-weight: bold; text-align: right;\">16</td><td style = \"text-align: right;\">11</td><td style = \"text-align: right;\">12</td><td style = \"text-align: right;\">0.983733</td><td style = \"text-align: right;\">-0.844711</td><td style = \"text-align: right;\">0.139022</td><td style = \"text-align: right;\">-9.05803</td><td style = \"text-align: right;\">9.34108</td><td style = \"text-align: right;\">0.283054</td></tr></tbody></table></div>"
      ],
      "text/latex": [
       "\\begin{tabular}{r|ccccc}\n",
       "\t& Bus i & Bus j & Real Power Flow from Bus i to Bus j (MW) & Real Power Flow from Bus j to Bus i (MW) & \\\\\n",
       "\t\\hline\n",
       "\t& Int64 & Int64 & Float64 & Float64 & \\\\\n",
       "\t\\hline\n",
       "\t1 & 1 & 2 & 100.045 & -98.2095 & $\\dots$ \\\\\n",
       "\t2 & 1 & 5 & 46.0894 & -45.0479 & $\\dots$ \\\\\n",
       "\t3 & 2 & 3 & 58.825 & -57.3113 & $\\dots$ \\\\\n",
       "\t4 & 2 & 4 & 33.9391 & -33.3251 & $\\dots$ \\\\\n",
       "\t5 & 2 & 5 & 23.7453 & -23.4483 & $\\dots$ \\\\\n",
       "\t6 & 3 & 4 & -3.88865 & 4.31452 & $\\dots$ \\\\\n",
       "\t7 & 4 & 5 & -43.2292 & 43.4703 & $\\dots$ \\\\\n",
       "\t8 & 4 & 7 & 14.4398 & -14.4398 & $\\dots$ \\\\\n",
       "\t9 & 5 & 6 & 17.4259 & -17.4259 & $\\dots$ \\\\\n",
       "\t10 & 6 & 9 & 16.2182 & -15.9665 & $\\dots$ \\\\\n",
       "\t11 & 6 & 10 & -26.9189 & 27.8 & $\\dots$ \\\\\n",
       "\t12 & 6 & 11 & 14.6266 & -14.4837 & $\\dots$ \\\\\n",
       "\t13 & 7 & 8 & -2.54138 & 2.55331 & $\\dots$ \\\\\n",
       "\t14 & 7 & 12 & -12.5188 & 12.9447 & $\\dots$ \\\\\n",
       "\t15 & 8 & 9 & -11.5533 & 11.6665 & $\\dots$ \\\\\n",
       "\t16 & 11 & 12 & 0.983733 & -0.844711 & $\\dots$ \\\\\n",
       "\\end{tabular}\n"
      ],
      "text/plain": [
       "\u001b[1m16×8 DataFrame\u001b[0m\n",
       "\u001b[1m Row \u001b[0m│\u001b[1m Bus i \u001b[0m\u001b[1m Bus j \u001b[0m\u001b[1m Real Power Flow from Bus i to Bus j (MW) \u001b[0m\u001b[1m Real Power Flow\u001b[0m ⋯\n",
       "     │\u001b[90m Int64 \u001b[0m\u001b[90m Int64 \u001b[0m\u001b[90m Float64                                  \u001b[0m\u001b[90m Float64        \u001b[0m ⋯\n",
       "─────┼──────────────────────────────────────────────────────────────────────────\n",
       "   1 │     1      2                                100.045                     ⋯\n",
       "   2 │     1      5                                 46.0894\n",
       "   3 │     2      3                                 58.825\n",
       "   4 │     2      4                                 33.9391\n",
       "   5 │     2      5                                 23.7453                    ⋯\n",
       "   6 │     3      4                                 -3.88865\n",
       "   7 │     4      5                                -43.2292\n",
       "   8 │     4      7                                 14.4398\n",
       "   9 │     5      6                                 17.4259                    ⋯\n",
       "  10 │     6      9                                 16.2182\n",
       "  11 │     6     10                                -26.9189\n",
       "  12 │     6     11                                 14.6266\n",
       "  13 │     7      8                                 -2.54138                   ⋯\n",
       "  14 │     7     12                                -12.5188\n",
       "  15 │     8      9                                -11.5533\n",
       "  16 │    11     12                                  0.983733\n",
       "\u001b[36m                                                               5 columns omitted\u001b[0m"
      ]
     },
     "execution_count": 15,
     "metadata": {},
     "output_type": "execute_result"
    }
   ],
   "source": [
    "# Print line-level results\n",
    "line_results = organize_line_results(result, network_data)"
   ]
  },
  {
   "cell_type": "markdown",
   "id": "f78d56c5",
   "metadata": {},
   "source": [
    "# Create a Three-Bus Network and Solve the Power-Flow Problem"
   ]
  },
  {
   "cell_type": "markdown",
   "id": "3ca7adc4",
   "metadata": {},
   "source": [
    "Create a three-bus network from scratch (i.e., create a blank network-data representation and add buses, loads, generators, and lines), solve the AC power-flow study using LANL's `PowerModels.jl`, and present the resulting bus- and line-level solutions. The three-bus system is a modified version of the two-bus system provided as an example in the Power Flow notes of UW's EE 454 (Power System Analysis)."
   ]
  },
  {
   "cell_type": "code",
   "execution_count": 16,
   "id": "d612b80d",
   "metadata": {},
   "outputs": [
    {
     "data": {
      "text/plain": [
       "Dict{String, Any} with 28 entries:\n",
       "  \"apf\"        => 0.0\n",
       "  \"qc1max\"     => 0.0\n",
       "  \"pg\"         => 0.25\n",
       "  \"model\"      => 2\n",
       "  \"shutdown\"   => 0.0\n",
       "  \"startup\"    => 0.0\n",
       "  \"qc2max\"     => 0.0\n",
       "  \"ramp_agc\"   => 0.0\n",
       "  \"qg\"         => 0.1\n",
       "  \"gen_bus\"    => 2\n",
       "  \"pmax\"       => 0.5\n",
       "  \"ramp_10\"    => 0.0\n",
       "  \"vg\"         => 1.01\n",
       "  \"mbase\"      => 100.0\n",
       "  \"source_id\"  => Any[\"gen\", 2]\n",
       "  \"pc2\"        => 0.0\n",
       "  \"index\"      => 2\n",
       "  \"cost\"       => Float64[]\n",
       "  \"qmax\"       => 0.5\n",
       "  \"gen_status\" => 1\n",
       "  \"qmin\"       => -0.5\n",
       "  \"qc1min\"     => 0.0\n",
       "  \"qc2min\"     => 0.0\n",
       "  \"pc1\"        => 0.0\n",
       "  \"ramp_q\"     => 0.0\n",
       "  ⋮            => ⋮"
      ]
     },
     "execution_count": 16,
     "metadata": {},
     "output_type": "execute_result"
    }
   ],
   "source": [
    "# Create a blank network-data representation\n",
    "network_data = create_blank_network(\"test_3_bus_case\", 100)\n",
    "\n",
    "# Create the three buses\n",
    "create_bus!(\n",
    "    network_data;\n",
    "    bus_type=\"slack\",\n",
    "    vm=1.0,\n",
    "    va=0.0,\n",
    "    base_kv=230,\n",
    "    vmin=0.95,\n",
    "    vmax=1.05,\n",
    ")\n",
    "create_bus!(\n",
    "    network_data;\n",
    "    bus_type=\"pv\",\n",
    "    vm=1.01,\n",
    "    va=0.0,\n",
    "    base_kv=230,\n",
    "    vmin=0.95,\n",
    "    vmax=1.05,\n",
    ")\n",
    "create_bus!(\n",
    "    network_data;\n",
    "    bus_type=\"pq\",\n",
    "    vm=1.0,\n",
    "    va=0.0,\n",
    "    base_kv=230,\n",
    "    vmin=0.95,\n",
    "    vmax=1.05,\n",
    ")\n",
    "\n",
    "# Create the lines between the three buses\n",
    "create_line!(\n",
    "    network_data;\n",
    "    bus_from=1,\n",
    "    bus_to=2,\n",
    "    r=0,\n",
    "    x=0.05,\n",
    "    b=0,\n",
    ")\n",
    "create_line!(\n",
    "    network_data;\n",
    "    bus_from=1,\n",
    "    bus_to=3,\n",
    "    r=0,\n",
    "    x=0.1,\n",
    "    b=0,\n",
    ")\n",
    "create_line!(\n",
    "    network_data;\n",
    "    bus_from=2,\n",
    "    bus_to=3,\n",
    "    r=0,\n",
    "    x=0.5,\n",
    "    b=0,\n",
    ")\n",
    "\n",
    "# Add a load to Bus 3\n",
    "create_load!(\n",
    "    network_data;\n",
    "    bus=3,\n",
    "    pd=50,\n",
    "    qd=50,\n",
    ")\n",
    "\n",
    "# Add generators to Buses 1 and 2\n",
    "create_generator!(\n",
    "    network_data;\n",
    "    bus=1,\n",
    "    vg=1.0,\n",
    "    pg=0,\n",
    "    qg=0,\n",
    "    pmin=0,\n",
    "    pmax=50,\n",
    "    qmin=-50,\n",
    "    qmax=50,\n",
    ")\n",
    "create_generator!(\n",
    "    network_data;\n",
    "    bus=2,\n",
    "    vg=1.01,\n",
    "    pg=25,\n",
    "    qg=10,\n",
    "    pmin=0,\n",
    "    pmax=50,\n",
    "    qmin=-50,\n",
    "    qmax=50,\n",
    ")"
   ]
  },
  {
   "cell_type": "code",
   "execution_count": 17,
   "id": "2ab7d155",
   "metadata": {},
   "outputs": [
    {
     "data": {
      "text/plain": [
       "Dict{String, Any} with 5 entries:\n",
       "  \"optimizer\"          => \"NLsolve\"\n",
       "  \"termination_status\" => true\n",
       "  \"objective\"          => 0.0\n",
       "  \"solution\"           => Dict{String, Any}(\"gen\"=>Dict{String, Any}(\"1\"=>Dict(…\n",
       "  \"solve_time\"         => 0.0"
      ]
     },
     "execution_count": 17,
     "metadata": {},
     "output_type": "execute_result"
    }
   ],
   "source": [
    "# Solve the power-flow problem\n",
    "result = compute_ac_pf(network_data)"
   ]
  },
  {
   "cell_type": "code",
   "execution_count": 18,
   "id": "d1da695f",
   "metadata": {},
   "outputs": [
    {
     "data": {
      "text/html": [
       "<div><div style = \"float: left;\"><span>3×8 DataFrame</span></div><div style = \"clear: both;\"></div></div><div class = \"data-frame\" style = \"overflow-x: scroll;\"><table class = \"data-frame\" style = \"margin-bottom: 6px;\"><thead><tr class = \"header\"><th class = \"rowNumber\" style = \"font-weight: bold; text-align: right;\">Row</th><th style = \"text-align: left;\">Bus Number</th><th style = \"text-align: left;\">Bus Type</th><th style = \"text-align: left;\">Voltage Magnitude (p.u.)</th><th style = \"text-align: left;\">Voltage Angle (degrees)</th><th style = \"text-align: left;\">Real Power Generated (MW)</th><th style = \"text-align: left;\">Reactive Power Generated (MVAR)</th><th style = \"text-align: left;\">Real Power Load (MW)</th><th style = \"text-align: left;\">Reactive Power Load (MVAR)</th></tr><tr class = \"subheader headerLastRow\"><th class = \"rowNumber\" style = \"font-weight: bold; text-align: right;\"></th><th title = \"Int64\" style = \"text-align: left;\">Int64</th><th title = \"String\" style = \"text-align: left;\">String</th><th title = \"Float64\" style = \"text-align: left;\">Float64</th><th title = \"Float64\" style = \"text-align: left;\">Float64</th><th title = \"Float64\" style = \"text-align: left;\">Float64</th><th title = \"Float64\" style = \"text-align: left;\">Float64</th><th title = \"Float64\" style = \"text-align: left;\">Float64</th><th title = \"Float64\" style = \"text-align: left;\">Float64</th></tr></thead><tbody><tr><td class = \"rowNumber\" style = \"font-weight: bold; text-align: right;\">1</td><td style = \"text-align: right;\">1</td><td style = \"text-align: left;\">Slack</td><td style = \"text-align: right;\">1.0</td><td style = \"text-align: right;\">0.0</td><td style = \"text-align: right;\">25.0</td><td style = \"text-align: right;\">23.7245</td><td style = \"text-align: right;\">0.0</td><td style = \"text-align: right;\">0.0</td></tr><tr><td class = \"rowNumber\" style = \"font-weight: bold; text-align: right;\">2</td><td style = \"text-align: right;\">2</td><td style = \"text-align: left;\">PV</td><td style = \"text-align: right;\">1.01</td><td style = \"text-align: right;\">0.436085</td><td style = \"text-align: right;\">25.0</td><td style = \"text-align: right;\">31.1667</td><td style = \"text-align: right;\">0.0</td><td style = \"text-align: right;\">0.0</td></tr><tr><td class = \"rowNumber\" style = \"font-weight: bold; text-align: right;\">3</td><td style = \"text-align: right;\">3</td><td style = \"text-align: left;\">PQ</td><td style = \"text-align: right;\">0.957186</td><td style = \"text-align: right;\">-2.41747</td><td style = \"text-align: right;\">0.0</td><td style = \"text-align: right;\">0.0</td><td style = \"text-align: right;\">50.0</td><td style = \"text-align: right;\">50.0</td></tr></tbody></table></div>"
      ],
      "text/latex": [
       "\\begin{tabular}{r|cccccc}\n",
       "\t& Bus Number & Bus Type & Voltage Magnitude (p.u.) & Voltage Angle (degrees) & Real Power Generated (MW) & \\\\\n",
       "\t\\hline\n",
       "\t& Int64 & String & Float64 & Float64 & Float64 & \\\\\n",
       "\t\\hline\n",
       "\t1 & 1 & Slack & 1.0 & 0.0 & 25.0 & $\\dots$ \\\\\n",
       "\t2 & 2 & PV & 1.01 & 0.436085 & 25.0 & $\\dots$ \\\\\n",
       "\t3 & 3 & PQ & 0.957186 & -2.41747 & 0.0 & $\\dots$ \\\\\n",
       "\\end{tabular}\n"
      ],
      "text/plain": [
       "\u001b[1m3×8 DataFrame\u001b[0m\n",
       "\u001b[1m Row \u001b[0m│\u001b[1m Bus Number \u001b[0m\u001b[1m Bus Type \u001b[0m\u001b[1m Voltage Magnitude (p.u.) \u001b[0m\u001b[1m Voltage Angle (degrees)\u001b[0m ⋯\n",
       "     │\u001b[90m Int64      \u001b[0m\u001b[90m String   \u001b[0m\u001b[90m Float64                  \u001b[0m\u001b[90m Float64                \u001b[0m ⋯\n",
       "─────┼──────────────────────────────────────────────────────────────────────────\n",
       "   1 │          1  Slack                     1.0                      0.0      ⋯\n",
       "   2 │          2  PV                        1.01                     0.436085\n",
       "   3 │          3  PQ                        0.957186                -2.41747\n",
       "\u001b[36m                                                               4 columns omitted\u001b[0m"
      ]
     },
     "execution_count": 18,
     "metadata": {},
     "output_type": "execute_result"
    }
   ],
   "source": [
    "# Print bus-level results\n",
    "bus_results = organize_bus_results(result, network_data)"
   ]
  },
  {
   "cell_type": "code",
   "execution_count": 19,
   "id": "176f8463",
   "metadata": {},
   "outputs": [
    {
     "data": {
      "text/html": [
       "<div><div style = \"float: left;\"><span>3×8 DataFrame</span></div><div style = \"clear: both;\"></div></div><div class = \"data-frame\" style = \"overflow-x: scroll;\"><table class = \"data-frame\" style = \"margin-bottom: 6px;\"><thead><tr class = \"header\"><th class = \"rowNumber\" style = \"font-weight: bold; text-align: right;\">Row</th><th style = \"text-align: left;\">Bus i</th><th style = \"text-align: left;\">Bus j</th><th style = \"text-align: left;\">Real Power Flow from Bus i to Bus j (MW)</th><th style = \"text-align: left;\">Real Power Flow from Bus j to Bus i (MW)</th><th style = \"text-align: left;\">Real Power Flow Losses (MW)</th><th style = \"text-align: left;\">Reactive Power Flow from Bus i to Bus j (MVAR)</th><th style = \"text-align: left;\">Reactive Power Flow from Bus j to Bus i (MVAR)</th><th style = \"text-align: left;\">Reactive Power Flow Losses (MVAR)</th></tr><tr class = \"subheader headerLastRow\"><th class = \"rowNumber\" style = \"font-weight: bold; text-align: right;\"></th><th title = \"Int64\" style = \"text-align: left;\">Int64</th><th title = \"Int64\" style = \"text-align: left;\">Int64</th><th title = \"Float64\" style = \"text-align: left;\">Float64</th><th title = \"Float64\" style = \"text-align: left;\">Float64</th><th title = \"Float64\" style = \"text-align: left;\">Float64</th><th title = \"Float64\" style = \"text-align: left;\">Float64</th><th title = \"Float64\" style = \"text-align: left;\">Float64</th><th title = \"Float64\" style = \"text-align: left;\">Float64</th></tr></thead><tbody><tr><td class = \"rowNumber\" style = \"font-weight: bold; text-align: right;\">1</td><td style = \"text-align: right;\">1</td><td style = \"text-align: right;\">2</td><td style = \"text-align: right;\">-15.3743</td><td style = \"text-align: right;\">15.3743</td><td style = \"text-align: right;\">0.0</td><td style = \"text-align: right;\">-19.9415</td><td style = \"text-align: right;\">20.2585</td><td style = \"text-align: right;\">0.317016</td></tr><tr><td class = \"rowNumber\" style = \"font-weight: bold; text-align: right;\">2</td><td style = \"text-align: right;\">1</td><td style = \"text-align: right;\">3</td><td style = \"text-align: right;\">40.3743</td><td style = \"text-align: right;\">-40.3743</td><td style = \"text-align: right;\">0.0</td><td style = \"text-align: right;\">43.666</td><td style = \"text-align: right;\">-40.1292</td><td style = \"text-align: right;\">3.5368</td></tr><tr><td class = \"rowNumber\" style = \"font-weight: bold; text-align: right;\">3</td><td style = \"text-align: right;\">2</td><td style = \"text-align: right;\">3</td><td style = \"text-align: right;\">9.62568</td><td style = \"text-align: right;\">-9.62568</td><td style = \"text-align: right;\">0.0</td><td style = \"text-align: right;\">10.9082</td><td style = \"text-align: right;\">-9.87083</td><td style = \"text-align: right;\">1.03736</td></tr></tbody></table></div>"
      ],
      "text/latex": [
       "\\begin{tabular}{r|ccccc}\n",
       "\t& Bus i & Bus j & Real Power Flow from Bus i to Bus j (MW) & Real Power Flow from Bus j to Bus i (MW) & \\\\\n",
       "\t\\hline\n",
       "\t& Int64 & Int64 & Float64 & Float64 & \\\\\n",
       "\t\\hline\n",
       "\t1 & 1 & 2 & -15.3743 & 15.3743 & $\\dots$ \\\\\n",
       "\t2 & 1 & 3 & 40.3743 & -40.3743 & $\\dots$ \\\\\n",
       "\t3 & 2 & 3 & 9.62568 & -9.62568 & $\\dots$ \\\\\n",
       "\\end{tabular}\n"
      ],
      "text/plain": [
       "\u001b[1m3×8 DataFrame\u001b[0m\n",
       "\u001b[1m Row \u001b[0m│\u001b[1m Bus i \u001b[0m\u001b[1m Bus j \u001b[0m\u001b[1m Real Power Flow from Bus i to Bus j (MW) \u001b[0m\u001b[1m Real Power Flow\u001b[0m ⋯\n",
       "     │\u001b[90m Int64 \u001b[0m\u001b[90m Int64 \u001b[0m\u001b[90m Float64                                  \u001b[0m\u001b[90m Float64        \u001b[0m ⋯\n",
       "─────┼──────────────────────────────────────────────────────────────────────────\n",
       "   1 │     1      2                                 -15.3743                   ⋯\n",
       "   2 │     1      3                                  40.3743\n",
       "   3 │     2      3                                   9.62568\n",
       "\u001b[36m                                                               5 columns omitted\u001b[0m"
      ]
     },
     "execution_count": 19,
     "metadata": {},
     "output_type": "execute_result"
    }
   ],
   "source": [
    "# Print line-level results\n",
    "line_results = organize_line_results(result, network_data)"
   ]
  },
  {
   "cell_type": "code",
   "execution_count": 20,
   "id": "322313ea",
   "metadata": {},
   "outputs": [
    {
     "name": "stdout",
     "output_type": "stream",
     "text": [
      "Bus 2 is not stranded.\n",
      "Bus 3 is not stranded.\n",
      "Bus 1 is not stranded.\n"
     ]
    },
    {
     "name": "stderr",
     "output_type": "stream",
     "text": [
      "┌ Warning: Bus 2 is stranded. Please update your network so that all buses are connected prior to computing the power flow solution.\n",
      "└ @ TextbookSimulations C:\\Users\\lanes\\repos\\Power-Systems-Textbook\\TextbookSimulations\\src\\tools\\helpers.jl:146\n"
     ]
    }
   ],
   "source": [
    "# Now delete Bus 2 (the PV bus) and its associated components (i.e., the connected generator and all connected lines)\n",
    "delete_bus!(\n",
    "    2,\n",
    "    network_data;\n",
    "    auto_delete_load=true,\n",
    "    auto_delete_generator=true,\n",
    "    auto_delete_lines=true\n",
    ")"
   ]
  },
  {
   "cell_type": "code",
   "execution_count": 21,
   "id": "e890103f",
   "metadata": {},
   "outputs": [
    {
     "data": {
      "text/plain": [
       "Dict{String, Any} with 5 entries:\n",
       "  \"optimizer\"          => \"NLsolve\"\n",
       "  \"termination_status\" => true\n",
       "  \"objective\"          => 0.0\n",
       "  \"solution\"           => Dict{String, Any}(\"gen\"=>Dict{String, Any}(\"1\"=>Dict(…\n",
       "  \"solve_time\"         => 0.0"
      ]
     },
     "execution_count": 21,
     "metadata": {},
     "output_type": "execute_result"
    }
   ],
   "source": [
    "# Re-solve the power-flow problem\n",
    "result = compute_ac_pf(network_data)"
   ]
  },
  {
   "cell_type": "code",
   "execution_count": 22,
   "id": "f608cec1",
   "metadata": {},
   "outputs": [
    {
     "data": {
      "text/html": [
       "<div><div style = \"float: left;\"><span>2×8 DataFrame</span></div><div style = \"clear: both;\"></div></div><div class = \"data-frame\" style = \"overflow-x: scroll;\"><table class = \"data-frame\" style = \"margin-bottom: 6px;\"><thead><tr class = \"header\"><th class = \"rowNumber\" style = \"font-weight: bold; text-align: right;\">Row</th><th style = \"text-align: left;\">Bus Number</th><th style = \"text-align: left;\">Bus Type</th><th style = \"text-align: left;\">Voltage Magnitude (p.u.)</th><th style = \"text-align: left;\">Voltage Angle (degrees)</th><th style = \"text-align: left;\">Real Power Generated (MW)</th><th style = \"text-align: left;\">Reactive Power Generated (MVAR)</th><th style = \"text-align: left;\">Real Power Load (MW)</th><th style = \"text-align: left;\">Reactive Power Load (MVAR)</th></tr><tr class = \"subheader headerLastRow\"><th class = \"rowNumber\" style = \"font-weight: bold; text-align: right;\"></th><th title = \"Int64\" style = \"text-align: left;\">Int64</th><th title = \"String\" style = \"text-align: left;\">String</th><th title = \"Float64\" style = \"text-align: left;\">Float64</th><th title = \"Float64\" style = \"text-align: left;\">Float64</th><th title = \"Float64\" style = \"text-align: left;\">Float64</th><th title = \"Float64\" style = \"text-align: left;\">Float64</th><th title = \"Float64\" style = \"text-align: left;\">Float64</th><th title = \"Float64\" style = \"text-align: left;\">Float64</th></tr></thead><tbody><tr><td class = \"rowNumber\" style = \"font-weight: bold; text-align: right;\">1</td><td style = \"text-align: right;\">1</td><td style = \"text-align: left;\">Slack</td><td style = \"text-align: right;\">1.0</td><td style = \"text-align: right;\">0.0</td><td style = \"text-align: right;\">50.0</td><td style = \"text-align: right;\">55.5903</td><td style = \"text-align: right;\">0.0</td><td style = \"text-align: right;\">0.0</td></tr><tr><td class = \"rowNumber\" style = \"font-weight: bold; text-align: right;\">2</td><td style = \"text-align: right;\">2</td><td style = \"text-align: left;\">PQ</td><td style = \"text-align: right;\">0.945732</td><td style = \"text-align: right;\">-3.03059</td><td style = \"text-align: right;\">0.0</td><td style = \"text-align: right;\">0.0</td><td style = \"text-align: right;\">50.0</td><td style = \"text-align: right;\">50.0</td></tr></tbody></table></div>"
      ],
      "text/latex": [
       "\\begin{tabular}{r|cccccc}\n",
       "\t& Bus Number & Bus Type & Voltage Magnitude (p.u.) & Voltage Angle (degrees) & Real Power Generated (MW) & \\\\\n",
       "\t\\hline\n",
       "\t& Int64 & String & Float64 & Float64 & Float64 & \\\\\n",
       "\t\\hline\n",
       "\t1 & 1 & Slack & 1.0 & 0.0 & 50.0 & $\\dots$ \\\\\n",
       "\t2 & 2 & PQ & 0.945732 & -3.03059 & 0.0 & $\\dots$ \\\\\n",
       "\\end{tabular}\n"
      ],
      "text/plain": [
       "\u001b[1m2×8 DataFrame\u001b[0m\n",
       "\u001b[1m Row \u001b[0m│\u001b[1m Bus Number \u001b[0m\u001b[1m Bus Type \u001b[0m\u001b[1m Voltage Magnitude (p.u.) \u001b[0m\u001b[1m Voltage Angle (degrees)\u001b[0m ⋯\n",
       "     │\u001b[90m Int64      \u001b[0m\u001b[90m String   \u001b[0m\u001b[90m Float64                  \u001b[0m\u001b[90m Float64                \u001b[0m ⋯\n",
       "─────┼──────────────────────────────────────────────────────────────────────────\n",
       "   1 │          1  Slack                     1.0                       0.0     ⋯\n",
       "   2 │          2  PQ                        0.945732                 -3.03059\n",
       "\u001b[36m                                                               4 columns omitted\u001b[0m"
      ]
     },
     "execution_count": 22,
     "metadata": {},
     "output_type": "execute_result"
    }
   ],
   "source": [
    "# Print bus-level results\n",
    "bus_results = organize_bus_results(result, network_data)"
   ]
  },
  {
   "cell_type": "code",
   "execution_count": 23,
   "id": "e3bdbf5a",
   "metadata": {},
   "outputs": [
    {
     "data": {
      "text/html": [
       "<div><div style = \"float: left;\"><span>1×8 DataFrame</span></div><div style = \"clear: both;\"></div></div><div class = \"data-frame\" style = \"overflow-x: scroll;\"><table class = \"data-frame\" style = \"margin-bottom: 6px;\"><thead><tr class = \"header\"><th class = \"rowNumber\" style = \"font-weight: bold; text-align: right;\">Row</th><th style = \"text-align: left;\">Bus i</th><th style = \"text-align: left;\">Bus j</th><th style = \"text-align: left;\">Real Power Flow from Bus i to Bus j (MW)</th><th style = \"text-align: left;\">Real Power Flow from Bus j to Bus i (MW)</th><th style = \"text-align: left;\">Real Power Flow Losses (MW)</th><th style = \"text-align: left;\">Reactive Power Flow from Bus i to Bus j (MVAR)</th><th style = \"text-align: left;\">Reactive Power Flow from Bus j to Bus i (MVAR)</th><th style = \"text-align: left;\">Reactive Power Flow Losses (MVAR)</th></tr><tr class = \"subheader headerLastRow\"><th class = \"rowNumber\" style = \"font-weight: bold; text-align: right;\"></th><th title = \"Int64\" style = \"text-align: left;\">Int64</th><th title = \"Int64\" style = \"text-align: left;\">Int64</th><th title = \"Float64\" style = \"text-align: left;\">Float64</th><th title = \"Float64\" style = \"text-align: left;\">Float64</th><th title = \"Float64\" style = \"text-align: left;\">Float64</th><th title = \"Float64\" style = \"text-align: left;\">Float64</th><th title = \"Float64\" style = \"text-align: left;\">Float64</th><th title = \"Float64\" style = \"text-align: left;\">Float64</th></tr></thead><tbody><tr><td class = \"rowNumber\" style = \"font-weight: bold; text-align: right;\">1</td><td style = \"text-align: right;\">1</td><td style = \"text-align: right;\">2</td><td style = \"text-align: right;\">50.0</td><td style = \"text-align: right;\">-50.0</td><td style = \"text-align: right;\">0.0</td><td style = \"text-align: right;\">55.5903</td><td style = \"text-align: right;\">-50.0</td><td style = \"text-align: right;\">5.59028</td></tr></tbody></table></div>"
      ],
      "text/latex": [
       "\\begin{tabular}{r|ccccc}\n",
       "\t& Bus i & Bus j & Real Power Flow from Bus i to Bus j (MW) & Real Power Flow from Bus j to Bus i (MW) & \\\\\n",
       "\t\\hline\n",
       "\t& Int64 & Int64 & Float64 & Float64 & \\\\\n",
       "\t\\hline\n",
       "\t1 & 1 & 2 & 50.0 & -50.0 & $\\dots$ \\\\\n",
       "\\end{tabular}\n"
      ],
      "text/plain": [
       "\u001b[1m1×8 DataFrame\u001b[0m\n",
       "\u001b[1m Row \u001b[0m│\u001b[1m Bus i \u001b[0m\u001b[1m Bus j \u001b[0m\u001b[1m Real Power Flow from Bus i to Bus j (MW) \u001b[0m\u001b[1m Real Power Flow\u001b[0m ⋯\n",
       "     │\u001b[90m Int64 \u001b[0m\u001b[90m Int64 \u001b[0m\u001b[90m Float64                                  \u001b[0m\u001b[90m Float64        \u001b[0m ⋯\n",
       "─────┼──────────────────────────────────────────────────────────────────────────\n",
       "   1 │     1      2                                      50.0                  ⋯\n",
       "\u001b[36m                                                               5 columns omitted\u001b[0m"
      ]
     },
     "execution_count": 23,
     "metadata": {},
     "output_type": "execute_result"
    }
   ],
   "source": [
    "# Print line-level results\n",
    "line_results = organize_line_results(result, network_data)"
   ]
  },
  {
   "cell_type": "code",
   "execution_count": 24,
   "id": "b6aeb0e1",
   "metadata": {},
   "outputs": [
    {
     "name": "stdout",
     "output_type": "stream",
     "text": [
      "\u001b[32m[info | PowerModels]: updated generator 1 cost function with order 0 to a function of order 1: [0.0]\u001b[39m\n"
     ]
    }
   ],
   "source": [
    "# Save the network data, if desired\n",
    "file_path = joinpath(@__DIR__, \"..\", \"data\")\n",
    "case_name = \"test_3_bus_case\"\n",
    "file_type = \".m\"\n",
    "save_network_data(network_data, file_path, case_name, file_type)"
   ]
  },
  {
   "cell_type": "code",
   "execution_count": 25,
   "id": "1cb5e6b7",
   "metadata": {},
   "outputs": [],
   "source": [
    "# Clean up the directory by deleting the file saved in the previous cell\n",
    "file_path = joinpath(@__DIR__, \"..\", \"data\")\n",
    "rm(joinpath(file_path, \"test_3_bus_case.m\"))"
   ]
  },
  {
   "cell_type": "code",
   "execution_count": null,
   "id": "1c2b54e5",
   "metadata": {},
   "outputs": [],
   "source": []
  }
 ],
 "metadata": {
  "kernelspec": {
   "display_name": "Julia 1.7.3",
   "language": "julia",
   "name": "julia-1.7"
  },
  "language_info": {
   "file_extension": ".jl",
   "mimetype": "application/julia",
   "name": "julia",
   "version": "1.7.3"
  }
 },
 "nbformat": 4,
 "nbformat_minor": 5
}
