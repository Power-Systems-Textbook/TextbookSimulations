{
 "cells": [
  {
   "cell_type": "markdown",
   "id": "3ff28e09",
   "metadata": {},
   "source": [
    "# Access the Tools located in TextbookSimulations"
   ]
  },
  {
   "cell_type": "code",
   "execution_count": 1,
   "id": "4c858f22",
   "metadata": {},
   "outputs": [],
   "source": [
    "using TextbookSimulations"
   ]
  },
  {
   "cell_type": "markdown",
   "id": "3202fbed",
   "metadata": {},
   "source": [
    "# Solve a Power-Flow Problem using PowerModels.jl"
   ]
  },
  {
   "cell_type": "markdown",
   "id": "bc25da26",
   "metadata": {},
   "source": [
    "Read in data from a MATPOWER case file, solve the AC power-flow study using Los Alamos National Laboratory's (LANL's) `PowerModels.jl`, and present the resulting bus- and line-level solutions. The data in this example is from the University of Washington's (UW's) EE 454 course (Power System Analysis) and describes a twelve-bus test system."
   ]
  },
  {
   "cell_type": "code",
   "execution_count": 2,
   "id": "16e22e22",
   "metadata": {},
   "outputs": [
    {
     "name": "stdout",
     "output_type": "stream",
     "text": [
      "\u001b[32m[info | PowerModels]: removing 3 cost terms from generator 4: Float64[]\u001b[39m\n",
      "\u001b[32m[info | PowerModels]: removing 3 cost terms from generator 1: Float64[]\u001b[39m\n",
      "\u001b[32m[info | PowerModels]: removing 3 cost terms from generator 5: Float64[]\u001b[39m\n",
      "\u001b[32m[info | PowerModels]: removing 3 cost terms from generator 2: Float64[]\u001b[39m\n",
      "\u001b[32m[info | PowerModels]: removing 3 cost terms from generator 3: Float64[]\u001b[39m\n"
     ]
    },
    {
     "data": {
      "text/plain": [
       "Dict{String, Any} with 13 entries:\n",
       "  \"bus\"            => Dict{String, Any}(\"4\"=>Dict{String, Any}(\"zone\"=>1, \"bus_…\n",
       "  \"source_type\"    => \"matpower\"\n",
       "  \"name\"           => \"uw_ee_454_project_data_modified\"\n",
       "  \"dcline\"         => Dict{String, Any}()\n",
       "  \"source_version\" => \"2\"\n",
       "  \"gen\"            => Dict{String, Any}(\"4\"=>Dict{String, Any}(\"ncost\"=>0, \"qc1…\n",
       "  \"branch\"         => Dict{String, Any}(\"4\"=>Dict{String, Any}(\"br_r\"=>0.05811,…\n",
       "  \"storage\"        => Dict{String, Any}()\n",
       "  \"switch\"         => Dict{String, Any}()\n",
       "  \"baseMVA\"        => 100\n",
       "  \"per_unit\"       => true\n",
       "  \"shunt\"          => Dict{String, Any}()\n",
       "  \"load\"           => Dict{String, Any}(\"4\"=>Dict{String, Any}(\"source_id\"=>Any…"
      ]
     },
     "execution_count": 2,
     "metadata": {},
     "output_type": "execute_result"
    }
   ],
   "source": [
    "# Define the data directory and case name\n",
    "file_path = joinpath(@__DIR__, \"..\", \"data\")\n",
    "case_name = \"uw_ee_454_project_data_modified\"\n",
    "file_type = \".m\"\n",
    "\n",
    "# Load the network data\n",
    "network_data = load_network_data(file_path, case_name, file_type)\n"
   ]
  },
  {
   "cell_type": "code",
   "execution_count": 3,
   "id": "fdd77233",
   "metadata": {},
   "outputs": [
    {
     "data": {
      "text/plain": [
       "Dict{String, Any} with 5 entries:\n",
       "  \"optimizer\"          => \"NLsolve\"\n",
       "  \"termination_status\" => true\n",
       "  \"objective\"          => 0.0\n",
       "  \"solution\"           => Dict{String, Any}(\"gen\"=>Dict{String, Any}(\"4\"=>Dict(…\n",
       "  \"solve_time\"         => 4.293"
      ]
     },
     "execution_count": 3,
     "metadata": {},
     "output_type": "execute_result"
    }
   ],
   "source": [
    "# Solve the power-flow problem\n",
    "show_trace = true\n",
    "result = compute_ac_pf(network_data)"
   ]
  },
  {
   "cell_type": "code",
   "execution_count": 4,
   "id": "94202dd3",
   "metadata": {},
   "outputs": [
    {
     "data": {
      "text/html": [
       "<div><div style = \"float: left;\"><span>12×8 DataFrame</span></div><div style = \"clear: both;\"></div></div><div class = \"data-frame\" style = \"overflow-x: scroll;\"><table class = \"data-frame\" style = \"margin-bottom: 6px;\"><thead><tr class = \"header\"><th class = \"rowNumber\" style = \"font-weight: bold; text-align: right;\">Row</th><th style = \"text-align: left;\">Bus Number</th><th style = \"text-align: left;\">Bus Type</th><th style = \"text-align: left;\">Voltage Magnitude (p.u.)</th><th style = \"text-align: left;\">Voltage Angle (degrees)</th><th style = \"text-align: left;\">Real Power Generated (MW)</th><th style = \"text-align: left;\">Reactive Power Generated (MVAR)</th><th style = \"text-align: left;\">Real Power Load (MW)</th><th style = \"text-align: left;\">Reactive Power Load (MVAR)</th></tr><tr class = \"subheader headerLastRow\"><th class = \"rowNumber\" style = \"font-weight: bold; text-align: right;\"></th><th title = \"Int64\" style = \"text-align: left;\">Int64</th><th title = \"String\" style = \"text-align: left;\">String</th><th title = \"Float64\" style = \"text-align: left;\">Float64</th><th title = \"Float64\" style = \"text-align: left;\">Float64</th><th title = \"Float64\" style = \"text-align: left;\">Float64</th><th title = \"Float64\" style = \"text-align: left;\">Float64</th><th title = \"Float64\" style = \"text-align: left;\">Float64</th><th title = \"Float64\" style = \"text-align: left;\">Float64</th></tr></thead><tbody><tr><td class = \"rowNumber\" style = \"font-weight: bold; text-align: right;\">1</td><td style = \"text-align: right;\">1</td><td style = \"text-align: left;\">Slack</td><td style = \"text-align: right;\">1.04</td><td style = \"text-align: right;\">0.0</td><td style = \"text-align: right;\">106.36</td><td style = \"text-align: right;\">7.26011</td><td style = \"text-align: right;\">0.0</td><td style = \"text-align: right;\">0.0</td></tr><tr><td class = \"rowNumber\" style = \"font-weight: bold; text-align: right;\">2</td><td style = \"text-align: right;\">2</td><td style = \"text-align: left;\">PQ</td><td style = \"text-align: right;\">1.02354</td><td style = \"text-align: right;\">-2.29928</td><td style = \"text-align: right;\">0.0</td><td style = \"text-align: right;\">0.0</td><td style = \"text-align: right;\">20.1</td><td style = \"text-align: right;\">12.5</td></tr><tr><td class = \"rowNumber\" style = \"font-weight: bold; text-align: right;\">3</td><td style = \"text-align: right;\">3</td><td style = \"text-align: left;\">PV</td><td style = \"text-align: right;\">1.025</td><td style = \"text-align: right;\">-3.12535</td><td style = \"text-align: right;\">42.0</td><td style = \"text-align: right;\">13.2755</td><td style = \"text-align: right;\">45.2</td><td style = \"text-align: right;\">16.0</td></tr><tr><td class = \"rowNumber\" style = \"font-weight: bold; text-align: right;\">4</td><td style = \"text-align: right;\">4</td><td style = \"text-align: left;\">PQ</td><td style = \"text-align: right;\">1.00377</td><td style = \"text-align: right;\">-4.32592</td><td style = \"text-align: right;\">0.0</td><td style = \"text-align: right;\">0.0</td><td style = \"text-align: right;\">60.8</td><td style = \"text-align: right;\">10.9</td></tr><tr><td class = \"rowNumber\" style = \"font-weight: bold; text-align: right;\">5</td><td style = \"text-align: right;\">5</td><td style = \"text-align: left;\">PQ</td><td style = \"text-align: right;\">1.01257</td><td style = \"text-align: right;\">-3.36874</td><td style = \"text-align: right;\">0.0</td><td style = \"text-align: right;\">0.0</td><td style = \"text-align: right;\">7.6</td><td style = \"text-align: right;\">-1.6</td></tr><tr><td class = \"rowNumber\" style = \"font-weight: bold; text-align: right;\">6</td><td style = \"text-align: right;\">6</td><td style = \"text-align: left;\">PQ</td><td style = \"text-align: right;\">1.0095</td><td style = \"text-align: right;\">-4.0492</td><td style = \"text-align: right;\">0.0</td><td style = \"text-align: right;\">0.0</td><td style = \"text-align: right;\">13.5</td><td style = \"text-align: right;\">8.5</td></tr><tr><td class = \"rowNumber\" style = \"font-weight: bold; text-align: right;\">7</td><td style = \"text-align: right;\">7</td><td style = \"text-align: left;\">PQ</td><td style = \"text-align: right;\">0.993515</td><td style = \"text-align: right;\">-6.67027</td><td style = \"text-align: right;\">0.0</td><td style = \"text-align: right;\">0.0</td><td style = \"text-align: right;\">33.5</td><td style = \"text-align: right;\">11.6</td></tr><tr><td class = \"rowNumber\" style = \"font-weight: bold; text-align: right;\">8</td><td style = \"text-align: right;\">8</td><td style = \"text-align: left;\">PQ</td><td style = \"text-align: right;\">0.997421</td><td style = \"text-align: right;\">-6.21869</td><td style = \"text-align: right;\">0.0</td><td style = \"text-align: right;\">0.0</td><td style = \"text-align: right;\">9.0</td><td style = \"text-align: right;\">5.8</td></tr><tr><td class = \"rowNumber\" style = \"font-weight: bold; text-align: right;\">9</td><td style = \"text-align: right;\">9</td><td style = \"text-align: left;\">PV</td><td style = \"text-align: right;\">1.02</td><td style = \"text-align: right;\">-4.36466</td><td style = \"text-align: right;\">23.0</td><td style = \"text-align: right;\">9.51487</td><td style = \"text-align: right;\">4.3</td><td style = \"text-align: right;\">2.1</td></tr><tr><td class = \"rowNumber\" style = \"font-weight: bold; text-align: right;\">10</td><td style = \"text-align: right;\">10</td><td style = \"text-align: left;\">PV</td><td style = \"text-align: right;\">1.02</td><td style = \"text-align: right;\">-2.38501</td><td style = \"text-align: right;\">27.0</td><td style = \"text-align: right;\">-6.7786</td><td style = \"text-align: right;\">5.2</td><td style = \"text-align: right;\">1.6</td></tr><tr><td class = \"rowNumber\" style = \"font-weight: bold; text-align: right;\">11</td><td style = \"text-align: right;\">11</td><td style = \"text-align: left;\">PQ</td><td style = \"text-align: right;\">1.00729</td><td style = \"text-align: right;\">-4.18028</td><td style = \"text-align: right;\">0.0</td><td style = \"text-align: right;\">0.0</td><td style = \"text-align: right;\">13.5</td><td style = \"text-align: right;\">5.8</td></tr><tr><td class = \"rowNumber\" style = \"font-weight: bold; text-align: right;\">12</td><td style = \"text-align: right;\">12</td><td style = \"text-align: left;\">PV</td><td style = \"text-align: right;\">1.03</td><td style = \"text-align: right;\">-4.54296</td><td style = \"text-align: right;\">33.0</td><td style = \"text-align: right;\">13.7322</td><td style = \"text-align: right;\">14.9</td><td style = \"text-align: right;\">5.0</td></tr></tbody></table></div>"
      ],
      "text/latex": [
       "\\begin{tabular}{r|cccccc}\n",
       "\t& Bus Number & Bus Type & Voltage Magnitude (p.u.) & Voltage Angle (degrees) & Real Power Generated (MW) & \\\\\n",
       "\t\\hline\n",
       "\t& Int64 & String & Float64 & Float64 & Float64 & \\\\\n",
       "\t\\hline\n",
       "\t1 & 1 & Slack & 1.04 & 0.0 & 106.36 & $\\dots$ \\\\\n",
       "\t2 & 2 & PQ & 1.02354 & -2.29928 & 0.0 & $\\dots$ \\\\\n",
       "\t3 & 3 & PV & 1.025 & -3.12535 & 42.0 & $\\dots$ \\\\\n",
       "\t4 & 4 & PQ & 1.00377 & -4.32592 & 0.0 & $\\dots$ \\\\\n",
       "\t5 & 5 & PQ & 1.01257 & -3.36874 & 0.0 & $\\dots$ \\\\\n",
       "\t6 & 6 & PQ & 1.0095 & -4.0492 & 0.0 & $\\dots$ \\\\\n",
       "\t7 & 7 & PQ & 0.993515 & -6.67027 & 0.0 & $\\dots$ \\\\\n",
       "\t8 & 8 & PQ & 0.997421 & -6.21869 & 0.0 & $\\dots$ \\\\\n",
       "\t9 & 9 & PV & 1.02 & -4.36466 & 23.0 & $\\dots$ \\\\\n",
       "\t10 & 10 & PV & 1.02 & -2.38501 & 27.0 & $\\dots$ \\\\\n",
       "\t11 & 11 & PQ & 1.00729 & -4.18028 & 0.0 & $\\dots$ \\\\\n",
       "\t12 & 12 & PV & 1.03 & -4.54296 & 33.0 & $\\dots$ \\\\\n",
       "\\end{tabular}\n"
      ],
      "text/plain": [
       "\u001b[1m12×8 DataFrame\u001b[0m\n",
       "\u001b[1m Row \u001b[0m│\u001b[1m Bus Number \u001b[0m\u001b[1m Bus Type \u001b[0m\u001b[1m Voltage Magnitude (p.u.) \u001b[0m\u001b[1m Voltage Angle (degrees)\u001b[0m ⋯\n",
       "     │\u001b[90m Int64      \u001b[0m\u001b[90m String   \u001b[0m\u001b[90m Float64                  \u001b[0m\u001b[90m Float64                \u001b[0m ⋯\n",
       "─────┼──────────────────────────────────────────────────────────────────────────\n",
       "   1 │          1  Slack                     1.04                      0.0     ⋯\n",
       "   2 │          2  PQ                        1.02354                  -2.29928\n",
       "   3 │          3  PV                        1.025                    -3.12535\n",
       "   4 │          4  PQ                        1.00377                  -4.32592\n",
       "   5 │          5  PQ                        1.01257                  -3.36874 ⋯\n",
       "   6 │          6  PQ                        1.0095                   -4.0492\n",
       "   7 │          7  PQ                        0.993515                 -6.67027\n",
       "   8 │          8  PQ                        0.997421                 -6.21869\n",
       "   9 │          9  PV                        1.02                     -4.36466 ⋯\n",
       "  10 │         10  PV                        1.02                     -2.38501\n",
       "  11 │         11  PQ                        1.00729                  -4.18028\n",
       "  12 │         12  PV                        1.03                     -4.54296\n",
       "\u001b[36m                                                               4 columns omitted\u001b[0m"
      ]
     },
     "execution_count": 4,
     "metadata": {},
     "output_type": "execute_result"
    }
   ],
   "source": [
    "# Print bus-level results\n",
    "bus_results = organize_bus_results(result, network_data)"
   ]
  },
  {
   "cell_type": "code",
   "execution_count": 5,
   "id": "ff7163f2",
   "metadata": {},
   "outputs": [
    {
     "data": {
      "text/html": [
       "<div><div style = \"float: left;\"><span>17×8 DataFrame</span></div><div style = \"clear: both;\"></div></div><div class = \"data-frame\" style = \"overflow-x: scroll;\"><table class = \"data-frame\" style = \"margin-bottom: 6px;\"><thead><tr class = \"header\"><th class = \"rowNumber\" style = \"font-weight: bold; text-align: right;\">Row</th><th style = \"text-align: left;\">Bus i</th><th style = \"text-align: left;\">Bus j</th><th style = \"text-align: left;\">Real Power Flow from Bus i to Bus j (MW)</th><th style = \"text-align: left;\">Real Power Flow from Bus j to Bus i (MW)</th><th style = \"text-align: left;\">Real Power Flow Losses (MW)</th><th style = \"text-align: left;\">Reactive Power Flow from Bus i to Bus j (MVAR)</th><th style = \"text-align: left;\">Reactive Power Flow from Bus j to Bus i (MVAR)</th><th style = \"text-align: left;\">Reactive Power Flow Losses (MVAR)</th></tr><tr class = \"subheader headerLastRow\"><th class = \"rowNumber\" style = \"font-weight: bold; text-align: right;\"></th><th title = \"Int64\" style = \"text-align: left;\">Int64</th><th title = \"Int64\" style = \"text-align: left;\">Int64</th><th title = \"Float64\" style = \"text-align: left;\">Float64</th><th title = \"Float64\" style = \"text-align: left;\">Float64</th><th title = \"Float64\" style = \"text-align: left;\">Float64</th><th title = \"Float64\" style = \"text-align: left;\">Float64</th><th title = \"Float64\" style = \"text-align: left;\">Float64</th><th title = \"Float64\" style = \"text-align: left;\">Float64</th></tr></thead><tbody><tr><td class = \"rowNumber\" style = \"font-weight: bold; text-align: right;\">1</td><td style = \"text-align: right;\">1</td><td style = \"text-align: right;\">2</td><td style = \"text-align: right;\">74.1673</td><td style = \"text-align: right;\">-73.1751</td><td style = \"text-align: right;\">0.992253</td><td style = \"text-align: right;\">3.22563</td><td style = \"text-align: right;\">-5.81733</td><td style = \"text-align: right;\">-2.5917</td></tr><tr><td class = \"rowNumber\" style = \"font-weight: bold; text-align: right;\">2</td><td style = \"text-align: right;\">1</td><td style = \"text-align: right;\">5</td><td style = \"text-align: right;\">32.1927</td><td style = \"text-align: right;\">-31.6726</td><td style = \"text-align: right;\">0.520105</td><td style = \"text-align: right;\">4.03449</td><td style = \"text-align: right;\">-7.18783</td><td style = \"text-align: right;\">-3.15335</td></tr><tr><td class = \"rowNumber\" style = \"font-weight: bold; text-align: right;\">3</td><td style = \"text-align: right;\">2</td><td style = \"text-align: right;\">3</td><td style = \"text-align: right;\">7.07601</td><td style = \"text-align: right;\">-7.05102</td><td style = \"text-align: right;\">0.0249933</td><td style = \"text-align: right;\">-4.67186</td><td style = \"text-align: right;\">0.181951</td><td style = \"text-align: right;\">-4.48991</td></tr><tr><td class = \"rowNumber\" style = \"font-weight: bold; text-align: right;\">4</td><td style = \"text-align: right;\">2</td><td style = \"text-align: right;\">4</td><td style = \"text-align: right;\">22.1079</td><td style = \"text-align: right;\">-21.8253</td><td style = \"text-align: right;\">0.282615</td><td style = \"text-align: right;\">2.77486</td><td style = \"text-align: right;\">-5.41118</td><td style = \"text-align: right;\">-2.63632</td></tr><tr><td class = \"rowNumber\" style = \"font-weight: bold; text-align: right;\">5</td><td style = \"text-align: right;\">2</td><td style = \"text-align: right;\">5</td><td style = \"text-align: right;\">23.8912</td><td style = \"text-align: right;\">-23.5761</td><td style = \"text-align: right;\">0.315088</td><td style = \"text-align: right;\">-4.78568</td><td style = \"text-align: right;\">1.60824</td><td style = \"text-align: right;\">-3.17744</td></tr><tr><td class = \"rowNumber\" style = \"font-weight: bold; text-align: right;\">6</td><td style = \"text-align: right;\">3</td><td style = \"text-align: right;\">4</td><td style = \"text-align: right;\">3.85102</td><td style = \"text-align: right;\">-3.72459</td><td style = \"text-align: right;\">0.126424</td><td style = \"text-align: right;\">-2.90649</td><td style = \"text-align: right;\">1.62152</td><td style = \"text-align: right;\">-1.28497</td></tr><tr><td class = \"rowNumber\" style = \"font-weight: bold; text-align: right;\">7</td><td style = \"text-align: right;\">4</td><td style = \"text-align: right;\">5</td><td style = \"text-align: right;\">-42.5847</td><td style = \"text-align: right;\">42.8317</td><td style = \"text-align: right;\">0.247038</td><td style = \"text-align: right;\">-9.11152</td><td style = \"text-align: right;\">5.91651</td><td style = \"text-align: right;\">-3.19501</td></tr><tr><td class = \"rowNumber\" style = \"font-weight: bold; text-align: right;\">8</td><td style = \"text-align: right;\">4</td><td style = \"text-align: right;\">7</td><td style = \"text-align: right;\">7.33456</td><td style = \"text-align: right;\">-7.33456</td><td style = \"text-align: right;\">0.0</td><td style = \"text-align: right;\">2.00118</td><td style = \"text-align: right;\">-1.68211</td><td style = \"text-align: right;\">0.319063</td></tr><tr><td class = \"rowNumber\" style = \"font-weight: bold; text-align: right;\">9</td><td style = \"text-align: right;\">5</td><td style = \"text-align: right;\">6</td><td style = \"text-align: right;\">4.81694</td><td style = \"text-align: right;\">-4.81694</td><td style = \"text-align: right;\">0.0</td><td style = \"text-align: right;\">1.26309</td><td style = \"text-align: right;\">-1.20213</td><td style = \"text-align: right;\">0.0609543</td></tr><tr><td class = \"rowNumber\" style = \"font-weight: bold; text-align: right;\">10</td><td style = \"text-align: right;\">6</td><td style = \"text-align: right;\">9</td><td style = \"text-align: right;\">0.251897</td><td style = \"text-align: right;\">-0.224242</td><td style = \"text-align: right;\">0.027655</td><td style = \"text-align: right;\">-6.33822</td><td style = \"text-align: right;\">4.58378</td><td style = \"text-align: right;\">-1.75444</td></tr><tr><td class = \"rowNumber\" style = \"font-weight: bold; text-align: right;\">11</td><td style = \"text-align: right;\">6</td><td style = \"text-align: right;\">10</td><td style = \"text-align: right;\">-11.0485</td><td style = \"text-align: right;\">11.1978</td><td style = \"text-align: right;\">0.149373</td><td style = \"text-align: right;\">-0.0256445</td><td style = \"text-align: right;\">-2.41289</td><td style = \"text-align: right;\">-2.43853</td></tr><tr><td class = \"rowNumber\" style = \"font-weight: bold; text-align: right;\">12</td><td style = \"text-align: right;\">6</td><td style = \"text-align: right;\">11</td><td style = \"text-align: right;\">2.11352</td><td style = \"text-align: right;\">-2.11035</td><td style = \"text-align: right;\">0.00317008</td><td style = \"text-align: right;\">-0.934003</td><td style = \"text-align: right;\">-2.21201</td><td style = \"text-align: right;\">-3.14601</td></tr><tr><td class = \"rowNumber\" style = \"font-weight: bold; text-align: right;\">13</td><td style = \"text-align: right;\">7</td><td style = \"text-align: right;\">8</td><td style = \"text-align: right;\">-9.59803</td><td style = \"text-align: right;\">9.62801</td><td style = \"text-align: right;\">0.0299746</td><td style = \"text-align: right;\">-2.96677</td><td style = \"text-align: right;\">-1.01655</td><td style = \"text-align: right;\">-3.98331</td></tr><tr><td class = \"rowNumber\" style = \"font-weight: bold; text-align: right;\">14</td><td style = \"text-align: right;\">7</td><td style = \"text-align: right;\">12</td><td style = \"text-align: right;\">-16.5674</td><td style = \"text-align: right;\">16.9578</td><td style = \"text-align: right;\">0.390415</td><td style = \"text-align: right;\">-6.95112</td><td style = \"text-align: right;\">4.47411</td><td style = \"text-align: right;\">-2.47701</td></tr><tr><td class = \"rowNumber\" style = \"font-weight: bold; text-align: right;\">15</td><td style = \"text-align: right;\">8</td><td style = \"text-align: right;\">9</td><td style = \"text-align: right;\">-18.628</td><td style = \"text-align: right;\">18.9242</td><td style = \"text-align: right;\">0.296236</td><td style = \"text-align: right;\">-4.78345</td><td style = \"text-align: right;\">2.83109</td><td style = \"text-align: right;\">-1.95237</td></tr><tr><td class = \"rowNumber\" style = \"font-weight: bold; text-align: right;\">16</td><td style = \"text-align: right;\">10</td><td style = \"text-align: right;\">11</td><td style = \"text-align: right;\">10.6022</td><td style = \"text-align: right;\">-10.3109</td><td style = \"text-align: right;\">0.291289</td><td style = \"text-align: right;\">-5.96571</td><td style = \"text-align: right;\">4.27698</td><td style = \"text-align: right;\">-1.68873</td></tr><tr><td class = \"rowNumber\" style = \"font-weight: bold; text-align: right;\">17</td><td style = \"text-align: right;\">11</td><td style = \"text-align: right;\">12</td><td style = \"text-align: right;\">-1.07879</td><td style = \"text-align: right;\">1.14218</td><td style = \"text-align: right;\">0.0633924</td><td style = \"text-align: right;\">-7.86497</td><td style = \"text-align: right;\">4.2581</td><td style = \"text-align: right;\">-3.60687</td></tr></tbody></table></div>"
      ],
      "text/latex": [
       "\\begin{tabular}{r|ccccc}\n",
       "\t& Bus i & Bus j & Real Power Flow from Bus i to Bus j (MW) & Real Power Flow from Bus j to Bus i (MW) & \\\\\n",
       "\t\\hline\n",
       "\t& Int64 & Int64 & Float64 & Float64 & \\\\\n",
       "\t\\hline\n",
       "\t1 & 1 & 2 & 74.1673 & -73.1751 & $\\dots$ \\\\\n",
       "\t2 & 1 & 5 & 32.1927 & -31.6726 & $\\dots$ \\\\\n",
       "\t3 & 2 & 3 & 7.07601 & -7.05102 & $\\dots$ \\\\\n",
       "\t4 & 2 & 4 & 22.1079 & -21.8253 & $\\dots$ \\\\\n",
       "\t5 & 2 & 5 & 23.8912 & -23.5761 & $\\dots$ \\\\\n",
       "\t6 & 3 & 4 & 3.85102 & -3.72459 & $\\dots$ \\\\\n",
       "\t7 & 4 & 5 & -42.5847 & 42.8317 & $\\dots$ \\\\\n",
       "\t8 & 4 & 7 & 7.33456 & -7.33456 & $\\dots$ \\\\\n",
       "\t9 & 5 & 6 & 4.81694 & -4.81694 & $\\dots$ \\\\\n",
       "\t10 & 6 & 9 & 0.251897 & -0.224242 & $\\dots$ \\\\\n",
       "\t11 & 6 & 10 & -11.0485 & 11.1978 & $\\dots$ \\\\\n",
       "\t12 & 6 & 11 & 2.11352 & -2.11035 & $\\dots$ \\\\\n",
       "\t13 & 7 & 8 & -9.59803 & 9.62801 & $\\dots$ \\\\\n",
       "\t14 & 7 & 12 & -16.5674 & 16.9578 & $\\dots$ \\\\\n",
       "\t15 & 8 & 9 & -18.628 & 18.9242 & $\\dots$ \\\\\n",
       "\t16 & 10 & 11 & 10.6022 & -10.3109 & $\\dots$ \\\\\n",
       "\t17 & 11 & 12 & -1.07879 & 1.14218 & $\\dots$ \\\\\n",
       "\\end{tabular}\n"
      ],
      "text/plain": [
       "\u001b[1m17×8 DataFrame\u001b[0m\n",
       "\u001b[1m Row \u001b[0m│\u001b[1m Bus i \u001b[0m\u001b[1m Bus j \u001b[0m\u001b[1m Real Power Flow from Bus i to Bus j (MW) \u001b[0m\u001b[1m Real Power Flow\u001b[0m ⋯\n",
       "     │\u001b[90m Int64 \u001b[0m\u001b[90m Int64 \u001b[0m\u001b[90m Float64                                  \u001b[0m\u001b[90m Float64        \u001b[0m ⋯\n",
       "─────┼──────────────────────────────────────────────────────────────────────────\n",
       "   1 │     1      2                                 74.1673                    ⋯\n",
       "   2 │     1      5                                 32.1927\n",
       "   3 │     2      3                                  7.07601\n",
       "   4 │     2      4                                 22.1079\n",
       "   5 │     2      5                                 23.8912                    ⋯\n",
       "   6 │     3      4                                  3.85102\n",
       "   7 │     4      5                                -42.5847\n",
       "   8 │     4      7                                  7.33456\n",
       "   9 │     5      6                                  4.81694                   ⋯\n",
       "  10 │     6      9                                  0.251897\n",
       "  11 │     6     10                                -11.0485\n",
       "  12 │     6     11                                  2.11352\n",
       "  13 │     7      8                                 -9.59803                   ⋯\n",
       "  14 │     7     12                                -16.5674\n",
       "  15 │     8      9                                -18.628\n",
       "  16 │    10     11                                 10.6022\n",
       "  17 │    11     12                                 -1.07879                   ⋯\n",
       "\u001b[36m                                                               5 columns omitted\u001b[0m"
      ]
     },
     "execution_count": 5,
     "metadata": {},
     "output_type": "execute_result"
    }
   ],
   "source": [
    "# Print line-level results\n",
    "line_results = organize_line_results(result, network_data)"
   ]
  },
  {
   "cell_type": "markdown",
   "id": "3f5cd7c6",
   "metadata": {},
   "source": [
    "# Contingency Case 1 for UW's EE 454 Project"
   ]
  },
  {
   "cell_type": "markdown",
   "id": "0383addb",
   "metadata": {},
   "source": [
    "Read in data from a MATPOWER case file, change the impedance of one line, solve the AC power-flow study using LANL's `PowerModels.jl`, and present the resulting bus- and line-level solutions. The data in this example is from UW's EE 454 course (Power System Analysis) and describes a twelve-bus test system. Contingency Case 1 describes a scenario where the line between Buses 10 and 11 is taken out of service and the load at Bus 11 is increased."
   ]
  },
  {
   "cell_type": "code",
   "execution_count": 6,
   "id": "b2bd79d0",
   "metadata": {},
   "outputs": [
    {
     "name": "stdout",
     "output_type": "stream",
     "text": [
      "\u001b[32m[info | PowerModels]: removing 3 cost terms from generator 4: Float64[]\u001b[39m\n",
      "\u001b[32m[info | PowerModels]: removing 3 cost terms from generator 1: Float64[]\u001b[39m\n",
      "\u001b[32m[info | PowerModels]: removing 3 cost terms from generator 5: Float64[]\u001b[39m\n",
      "\u001b[32m[info | PowerModels]: removing 3 cost terms from generator 2: Float64[]\u001b[39m\n",
      "\u001b[32m[info | PowerModels]: removing 3 cost terms from generator 3: Float64[]\u001b[39m\n"
     ]
    },
    {
     "data": {
      "text/plain": [
       "Dict{String, Any} with 13 entries:\n",
       "  \"bus\"            => Dict{String, Any}(\"4\"=>Dict{String, Any}(\"zone\"=>1, \"bus_…\n",
       "  \"source_type\"    => \"matpower\"\n",
       "  \"name\"           => \"uw_ee_454_project_data_modified\"\n",
       "  \"dcline\"         => Dict{String, Any}()\n",
       "  \"source_version\" => \"2\"\n",
       "  \"gen\"            => Dict{String, Any}(\"4\"=>Dict{String, Any}(\"ncost\"=>0, \"qc1…\n",
       "  \"branch\"         => Dict{String, Any}(\"4\"=>Dict{String, Any}(\"br_r\"=>0.05811,…\n",
       "  \"storage\"        => Dict{String, Any}()\n",
       "  \"switch\"         => Dict{String, Any}()\n",
       "  \"baseMVA\"        => 100\n",
       "  \"per_unit\"       => true\n",
       "  \"shunt\"          => Dict{String, Any}()\n",
       "  \"load\"           => Dict{String, Any}(\"4\"=>Dict{String, Any}(\"source_id\"=>Any…"
      ]
     },
     "execution_count": 6,
     "metadata": {},
     "output_type": "execute_result"
    }
   ],
   "source": [
    "# Define the data directory and case name\n",
    "file_path = joinpath(@__DIR__, \"..\", \"data\")\n",
    "case_name = \"uw_ee_454_project_data_modified\"\n",
    "file_type = \".m\"\n",
    "\n",
    "# Load the network data\n",
    "network_data = load_network_data(file_path, case_name, file_type)"
   ]
  },
  {
   "cell_type": "code",
   "execution_count": 7,
   "id": "a085c187",
   "metadata": {},
   "outputs": [
    {
     "name": "stdout",
     "output_type": "stream",
     "text": [
      "Bus 10 is not stranded.\n",
      "Bus 11 is not stranded.\n"
     ]
    }
   ],
   "source": [
    "# Delete the line between Buses 10 and 11 to appropriately reflect the contingency\n",
    "delete_line!(10,11, network_data)"
   ]
  },
  {
   "cell_type": "code",
   "execution_count": 8,
   "id": "da489f87",
   "metadata": {},
   "outputs": [
    {
     "data": {
      "text/plain": [
       "0.25"
      ]
     },
     "execution_count": 8,
     "metadata": {},
     "output_type": "execute_result"
    }
   ],
   "source": [
    "#increase active and reactive load on bus 11 from 13.5 MW and 5.8 MVAr\n",
    "change_bus_real_power_demand!(0.6, 11, network_data)\n",
    "change_bus_reactive_power_demand!(0.25, 11, network_data)"
   ]
  },
  {
   "cell_type": "code",
   "execution_count": 9,
   "id": "df07a313",
   "metadata": {},
   "outputs": [
    {
     "data": {
      "text/plain": [
       "Dict{String, Any} with 5 entries:\n",
       "  \"optimizer\"          => \"NLsolve\"\n",
       "  \"termination_status\" => true\n",
       "  \"objective\"          => 0.0\n",
       "  \"solution\"           => Dict{String, Any}(\"gen\"=>Dict{String, Any}(\"4\"=>Dict(…\n",
       "  \"solve_time\"         => 0.0"
      ]
     },
     "execution_count": 9,
     "metadata": {},
     "output_type": "execute_result"
    }
   ],
   "source": [
    "# Solve the power-flow problem\n",
    "result = compute_ac_pf(network_data)"
   ]
  },
  {
   "cell_type": "code",
   "execution_count": 10,
   "id": "0c31aed8",
   "metadata": {},
   "outputs": [
    {
     "data": {
      "text/html": [
       "<div><div style = \"float: left;\"><span>12×8 DataFrame</span></div><div style = \"clear: both;\"></div></div><div class = \"data-frame\" style = \"overflow-x: scroll;\"><table class = \"data-frame\" style = \"margin-bottom: 6px;\"><thead><tr class = \"header\"><th class = \"rowNumber\" style = \"font-weight: bold; text-align: right;\">Row</th><th style = \"text-align: left;\">Bus Number</th><th style = \"text-align: left;\">Bus Type</th><th style = \"text-align: left;\">Voltage Magnitude (p.u.)</th><th style = \"text-align: left;\">Voltage Angle (degrees)</th><th style = \"text-align: left;\">Real Power Generated (MW)</th><th style = \"text-align: left;\">Reactive Power Generated (MVAR)</th><th style = \"text-align: left;\">Real Power Load (MW)</th><th style = \"text-align: left;\">Reactive Power Load (MVAR)</th></tr><tr class = \"subheader headerLastRow\"><th class = \"rowNumber\" style = \"font-weight: bold; text-align: right;\"></th><th title = \"Int64\" style = \"text-align: left;\">Int64</th><th title = \"String\" style = \"text-align: left;\">String</th><th title = \"Float64\" style = \"text-align: left;\">Float64</th><th title = \"Float64\" style = \"text-align: left;\">Float64</th><th title = \"Float64\" style = \"text-align: left;\">Float64</th><th title = \"Float64\" style = \"text-align: left;\">Float64</th><th title = \"Float64\" style = \"text-align: left;\">Float64</th><th title = \"Float64\" style = \"text-align: left;\">Float64</th></tr></thead><tbody><tr><td class = \"rowNumber\" style = \"font-weight: bold; text-align: right;\">1</td><td style = \"text-align: right;\">1</td><td style = \"text-align: left;\">Slack</td><td style = \"text-align: right;\">1.04</td><td style = \"text-align: right;\">0.0</td><td style = \"text-align: right;\">158.442</td><td style = \"text-align: right;\">13.7956</td><td style = \"text-align: right;\">0.0</td><td style = \"text-align: right;\">0.0</td></tr><tr><td class = \"rowNumber\" style = \"font-weight: bold; text-align: right;\">2</td><td style = \"text-align: right;\">2</td><td style = \"text-align: left;\">PQ</td><td style = \"text-align: right;\">1.01734</td><td style = \"text-align: right;\">-3.38376</td><td style = \"text-align: right;\">0.0</td><td style = \"text-align: right;\">0.0</td><td style = \"text-align: right;\">20.1</td><td style = \"text-align: right;\">12.5</td></tr><tr><td class = \"rowNumber\" style = \"font-weight: bold; text-align: right;\">3</td><td style = \"text-align: right;\">3</td><td style = \"text-align: left;\">PV</td><td style = \"text-align: right;\">1.025</td><td style = \"text-align: right;\">-4.6052</td><td style = \"text-align: right;\">42.0</td><td style = \"text-align: right;\">16.3526</td><td style = \"text-align: right;\">45.2</td><td style = \"text-align: right;\">16.0</td></tr><tr><td class = \"rowNumber\" style = \"font-weight: bold; text-align: right;\">4</td><td style = \"text-align: right;\">4</td><td style = \"text-align: left;\">PQ</td><td style = \"text-align: right;\">0.988023</td><td style = \"text-align: right;\">-6.39683</td><td style = \"text-align: right;\">0.0</td><td style = \"text-align: right;\">0.0</td><td style = \"text-align: right;\">60.8</td><td style = \"text-align: right;\">10.9</td></tr><tr><td class = \"rowNumber\" style = \"font-weight: bold; text-align: right;\">5</td><td style = \"text-align: right;\">5</td><td style = \"text-align: left;\">PQ</td><td style = \"text-align: right;\">0.99614</td><td style = \"text-align: right;\">-5.33185</td><td style = \"text-align: right;\">0.0</td><td style = \"text-align: right;\">0.0</td><td style = \"text-align: right;\">7.6</td><td style = \"text-align: right;\">-1.6</td></tr><tr><td class = \"rowNumber\" style = \"font-weight: bold; text-align: right;\">6</td><td style = \"text-align: right;\">6</td><td style = \"text-align: left;\">PQ</td><td style = \"text-align: right;\">0.990955</td><td style = \"text-align: right;\">-11.0615</td><td style = \"text-align: right;\">0.0</td><td style = \"text-align: right;\">0.0</td><td style = \"text-align: right;\">13.5</td><td style = \"text-align: right;\">8.5</td></tr><tr><td class = \"rowNumber\" style = \"font-weight: bold; text-align: right;\">7</td><td style = \"text-align: right;\">7</td><td style = \"text-align: left;\">PQ</td><td style = \"text-align: right;\">0.996965</td><td style = \"text-align: right;\">-13.5015</td><td style = \"text-align: right;\">0.0</td><td style = \"text-align: right;\">0.0</td><td style = \"text-align: right;\">33.5</td><td style = \"text-align: right;\">11.6</td></tr><tr><td class = \"rowNumber\" style = \"font-weight: bold; text-align: right;\">8</td><td style = \"text-align: right;\">8</td><td style = \"text-align: left;\">PQ</td><td style = \"text-align: right;\">0.999958</td><td style = \"text-align: right;\">-13.1636</td><td style = \"text-align: right;\">0.0</td><td style = \"text-align: right;\">0.0</td><td style = \"text-align: right;\">9.0</td><td style = \"text-align: right;\">5.8</td></tr><tr><td class = \"rowNumber\" style = \"font-weight: bold; text-align: right;\">9</td><td style = \"text-align: right;\">9</td><td style = \"text-align: left;\">PV</td><td style = \"text-align: right;\">1.02</td><td style = \"text-align: right;\">-11.5591</td><td style = \"text-align: right;\">23.0</td><td style = \"text-align: right;\">17.4982</td><td style = \"text-align: right;\">4.3</td><td style = \"text-align: right;\">2.1</td></tr><tr><td class = \"rowNumber\" style = \"font-weight: bold; text-align: right;\">10</td><td style = \"text-align: right;\">10</td><td style = \"text-align: left;\">PV</td><td style = \"text-align: right;\">1.02</td><td style = \"text-align: right;\">-8.01498</td><td style = \"text-align: right;\">27.0</td><td style = \"text-align: right;\">1.87626</td><td style = \"text-align: right;\">5.2</td><td style = \"text-align: right;\">1.6</td></tr><tr><td class = \"rowNumber\" style = \"font-weight: bold; text-align: right;\">11</td><td style = \"text-align: right;\">11</td><td style = \"text-align: left;\">PQ</td><td style = \"text-align: right;\">0.947952</td><td style = \"text-align: right;\">-14.573</td><td style = \"text-align: right;\">0.0</td><td style = \"text-align: right;\">0.0</td><td style = \"text-align: right;\">60.0</td><td style = \"text-align: right;\">25.0</td></tr><tr><td class = \"rowNumber\" style = \"font-weight: bold; text-align: right;\">12</td><td style = \"text-align: right;\">12</td><td style = \"text-align: left;\">PV</td><td style = \"text-align: right;\">1.03</td><td style = \"text-align: right;\">-13.5653</td><td style = \"text-align: right;\">33.0</td><td style = \"text-align: right;\">29.4931</td><td style = \"text-align: right;\">14.9</td><td style = \"text-align: right;\">5.0</td></tr></tbody></table></div>"
      ],
      "text/latex": [
       "\\begin{tabular}{r|cccccc}\n",
       "\t& Bus Number & Bus Type & Voltage Magnitude (p.u.) & Voltage Angle (degrees) & Real Power Generated (MW) & \\\\\n",
       "\t\\hline\n",
       "\t& Int64 & String & Float64 & Float64 & Float64 & \\\\\n",
       "\t\\hline\n",
       "\t1 & 1 & Slack & 1.04 & 0.0 & 158.442 & $\\dots$ \\\\\n",
       "\t2 & 2 & PQ & 1.01734 & -3.38376 & 0.0 & $\\dots$ \\\\\n",
       "\t3 & 3 & PV & 1.025 & -4.6052 & 42.0 & $\\dots$ \\\\\n",
       "\t4 & 4 & PQ & 0.988023 & -6.39683 & 0.0 & $\\dots$ \\\\\n",
       "\t5 & 5 & PQ & 0.99614 & -5.33185 & 0.0 & $\\dots$ \\\\\n",
       "\t6 & 6 & PQ & 0.990955 & -11.0615 & 0.0 & $\\dots$ \\\\\n",
       "\t7 & 7 & PQ & 0.996965 & -13.5015 & 0.0 & $\\dots$ \\\\\n",
       "\t8 & 8 & PQ & 0.999958 & -13.1636 & 0.0 & $\\dots$ \\\\\n",
       "\t9 & 9 & PV & 1.02 & -11.5591 & 23.0 & $\\dots$ \\\\\n",
       "\t10 & 10 & PV & 1.02 & -8.01498 & 27.0 & $\\dots$ \\\\\n",
       "\t11 & 11 & PQ & 0.947952 & -14.573 & 0.0 & $\\dots$ \\\\\n",
       "\t12 & 12 & PV & 1.03 & -13.5653 & 33.0 & $\\dots$ \\\\\n",
       "\\end{tabular}\n"
      ],
      "text/plain": [
       "\u001b[1m12×8 DataFrame\u001b[0m\n",
       "\u001b[1m Row \u001b[0m│\u001b[1m Bus Number \u001b[0m\u001b[1m Bus Type \u001b[0m\u001b[1m Voltage Magnitude (p.u.) \u001b[0m\u001b[1m Voltage Angle (degrees)\u001b[0m ⋯\n",
       "     │\u001b[90m Int64      \u001b[0m\u001b[90m String   \u001b[0m\u001b[90m Float64                  \u001b[0m\u001b[90m Float64                \u001b[0m ⋯\n",
       "─────┼──────────────────────────────────────────────────────────────────────────\n",
       "   1 │          1  Slack                     1.04                      0.0     ⋯\n",
       "   2 │          2  PQ                        1.01734                  -3.38376\n",
       "   3 │          3  PV                        1.025                    -4.6052\n",
       "   4 │          4  PQ                        0.988023                 -6.39683\n",
       "   5 │          5  PQ                        0.99614                  -5.33185 ⋯\n",
       "   6 │          6  PQ                        0.990955                -11.0615\n",
       "   7 │          7  PQ                        0.996965                -13.5015\n",
       "   8 │          8  PQ                        0.999958                -13.1636\n",
       "   9 │          9  PV                        1.02                    -11.5591  ⋯\n",
       "  10 │         10  PV                        1.02                     -8.01498\n",
       "  11 │         11  PQ                        0.947952                -14.573\n",
       "  12 │         12  PV                        1.03                    -13.5653\n",
       "\u001b[36m                                                               4 columns omitted\u001b[0m"
      ]
     },
     "execution_count": 10,
     "metadata": {},
     "output_type": "execute_result"
    }
   ],
   "source": [
    "# Print bus-level results\n",
    "bus_results = organize_bus_results(result, network_data)"
   ]
  },
  {
   "cell_type": "code",
   "execution_count": 11,
   "id": "3b536a01",
   "metadata": {},
   "outputs": [
    {
     "data": {
      "text/html": [
       "<div><div style = \"float: left;\"><span>16×8 DataFrame</span></div><div style = \"clear: both;\"></div></div><div class = \"data-frame\" style = \"overflow-x: scroll;\"><table class = \"data-frame\" style = \"margin-bottom: 6px;\"><thead><tr class = \"header\"><th class = \"rowNumber\" style = \"font-weight: bold; text-align: right;\">Row</th><th style = \"text-align: left;\">Bus i</th><th style = \"text-align: left;\">Bus j</th><th style = \"text-align: left;\">Real Power Flow from Bus i to Bus j (MW)</th><th style = \"text-align: left;\">Real Power Flow from Bus j to Bus i (MW)</th><th style = \"text-align: left;\">Real Power Flow Losses (MW)</th><th style = \"text-align: left;\">Reactive Power Flow from Bus i to Bus j (MVAR)</th><th style = \"text-align: left;\">Reactive Power Flow from Bus j to Bus i (MVAR)</th><th style = \"text-align: left;\">Reactive Power Flow Losses (MVAR)</th></tr><tr class = \"subheader headerLastRow\"><th class = \"rowNumber\" style = \"font-weight: bold; text-align: right;\"></th><th title = \"Int64\" style = \"text-align: left;\">Int64</th><th title = \"Int64\" style = \"text-align: left;\">Int64</th><th title = \"Float64\" style = \"text-align: left;\">Float64</th><th title = \"Float64\" style = \"text-align: left;\">Float64</th><th title = \"Float64\" style = \"text-align: left;\">Float64</th><th title = \"Float64\" style = \"text-align: left;\">Float64</th><th title = \"Float64\" style = \"text-align: left;\">Float64</th><th title = \"Float64\" style = \"text-align: left;\">Float64</th></tr></thead><tbody><tr><td class = \"rowNumber\" style = \"font-weight: bold; text-align: right;\">1</td><td style = \"text-align: right;\">1</td><td style = \"text-align: right;\">2</td><td style = \"text-align: right;\">108.018</td><td style = \"text-align: right;\">-105.917</td><td style = \"text-align: right;\">2.10087</td><td style = \"text-align: right;\">4.70439</td><td style = \"text-align: right;\">-3.87793</td><td style = \"text-align: right;\">0.82646</td></tr><tr><td class = \"rowNumber\" style = \"font-weight: bold; text-align: right;\">2</td><td style = \"text-align: right;\">1</td><td style = \"text-align: right;\">5</td><td style = \"text-align: right;\">50.4248</td><td style = \"text-align: right;\">-49.1352</td><td style = \"text-align: right;\">1.28957</td><td style = \"text-align: right;\">9.09116</td><td style = \"text-align: right;\">-9.16056</td><td style = \"text-align: right;\">-0.0694005</td></tr><tr><td class = \"rowNumber\" style = \"font-weight: bold; text-align: right;\">3</td><td style = \"text-align: right;\">2</td><td style = \"text-align: right;\">3</td><td style = \"text-align: right;\">9.77222</td><td style = \"text-align: right;\">-9.71178</td><td style = \"text-align: right;\">0.0604407</td><td style = \"text-align: right;\">-8.40086</td><td style = \"text-align: right;\">4.088</td><td style = \"text-align: right;\">-4.31286</td></tr><tr><td class = \"rowNumber\" style = \"font-weight: bold; text-align: right;\">4</td><td style = \"text-align: right;\">2</td><td style = \"text-align: right;\">4</td><td style = \"text-align: right;\">32.2932</td><td style = \"text-align: right;\">-31.6797</td><td style = \"text-align: right;\">0.613525</td><td style = \"text-align: right;\">5.30357</td><td style = \"text-align: right;\">-6.86099</td><td style = \"text-align: right;\">-1.55742</td></tr><tr><td class = \"rowNumber\" style = \"font-weight: bold; text-align: right;\">5</td><td style = \"text-align: right;\">2</td><td style = \"text-align: right;\">5</td><td style = \"text-align: right;\">43.7513</td><td style = \"text-align: right;\">-42.6904</td><td style = \"text-align: right;\">1.06094</td><td style = \"text-align: right;\">-5.52478</td><td style = \"text-align: right;\">3.39392</td><td style = \"text-align: right;\">-2.13086</td></tr><tr><td class = \"rowNumber\" style = \"font-weight: bold; text-align: right;\">6</td><td style = \"text-align: right;\">3</td><td style = \"text-align: right;\">4</td><td style = \"text-align: right;\">6.51178</td><td style = \"text-align: right;\">-6.18149</td><td style = \"text-align: right;\">0.330294</td><td style = \"text-align: right;\">-3.73545</td><td style = \"text-align: right;\">2.52259</td><td style = \"text-align: right;\">-1.21286</td></tr><tr><td class = \"rowNumber\" style = \"font-weight: bold; text-align: right;\">7</td><td style = \"text-align: right;\">4</td><td style = \"text-align: right;\">5</td><td style = \"text-align: right;\">-44.8437</td><td style = \"text-align: right;\">45.1214</td><td style = \"text-align: right;\">0.277688</td><td style = \"text-align: right;\">-6.33299</td><td style = \"text-align: right;\">3.36052</td><td style = \"text-align: right;\">-2.97247</td></tr><tr><td class = \"rowNumber\" style = \"font-weight: bold; text-align: right;\">8</td><td style = \"text-align: right;\">4</td><td style = \"text-align: right;\">7</td><td style = \"text-align: right;\">21.9049</td><td style = \"text-align: right;\">-21.9049</td><td style = \"text-align: right;\">0.0</td><td style = \"text-align: right;\">-0.228599</td><td style = \"text-align: right;\">2.96267</td><td style = \"text-align: right;\">2.73407</td></tr><tr><td class = \"rowNumber\" style = \"font-weight: bold; text-align: right;\">9</td><td style = \"text-align: right;\">5</td><td style = \"text-align: right;\">6</td><td style = \"text-align: right;\">39.1042</td><td style = \"text-align: right;\">-39.1042</td><td style = \"text-align: right;\">0.0</td><td style = \"text-align: right;\">4.00612</td><td style = \"text-align: right;\">-0.0817</td><td style = \"text-align: right;\">3.92442</td></tr><tr><td class = \"rowNumber\" style = \"font-weight: bold; text-align: right;\">10</td><td style = \"text-align: right;\">6</td><td style = \"text-align: right;\">9</td><td style = \"text-align: right;\">-2.02553</td><td style = \"text-align: right;\">2.20536</td><td style = \"text-align: right;\">0.17983</td><td style = \"text-align: right;\">-14.3483</td><td style = \"text-align: right;\">12.9452</td><td style = \"text-align: right;\">-1.40312</td></tr><tr><td class = \"rowNumber\" style = \"font-weight: bold; text-align: right;\">11</td><td style = \"text-align: right;\">6</td><td style = \"text-align: right;\">10</td><td style = \"text-align: right;\">-21.2353</td><td style = \"text-align: right;\">21.8</td><td style = \"text-align: right;\">0.564711</td><td style = \"text-align: right;\">-1.80083</td><td style = \"text-align: right;\">0.276256</td><td style = \"text-align: right;\">-1.52457</td></tr><tr><td class = \"rowNumber\" style = \"font-weight: bold; text-align: right;\">12</td><td style = \"text-align: right;\">6</td><td style = \"text-align: right;\">11</td><td style = \"text-align: right;\">48.865</td><td style = \"text-align: right;\">-47.1988</td><td style = \"text-align: right;\">1.66616</td><td style = \"text-align: right;\">7.73084</td><td style = \"text-align: right;\">-7.36459</td><td style = \"text-align: right;\">0.366253</td></tr><tr><td class = \"rowNumber\" style = \"font-weight: bold; text-align: right;\">13</td><td style = \"text-align: right;\">7</td><td style = \"text-align: right;\">8</td><td style = \"text-align: right;\">-7.25162</td><td style = \"text-align: right;\">7.26865</td><td style = \"text-align: right;\">0.0170249</td><td style = \"text-align: right;\">-2.81857</td><td style = \"text-align: right;\">-1.2236</td><td style = \"text-align: right;\">-4.04217</td></tr><tr><td class = \"rowNumber\" style = \"font-weight: bold; text-align: right;\">14</td><td style = \"text-align: right;\">7</td><td style = \"text-align: right;\">12</td><td style = \"text-align: right;\">-4.34351</td><td style = \"text-align: right;\">4.4991</td><td style = \"text-align: right;\">0.155589</td><td style = \"text-align: right;\">-11.7441</td><td style = \"text-align: right;\">8.75649</td><td style = \"text-align: right;\">-2.9876</td></tr><tr><td class = \"rowNumber\" style = \"font-weight: bold; text-align: right;\">15</td><td style = \"text-align: right;\">8</td><td style = \"text-align: right;\">9</td><td style = \"text-align: right;\">-16.2686</td><td style = \"text-align: right;\">16.4946</td><td style = \"text-align: right;\">0.225989</td><td style = \"text-align: right;\">-4.5764</td><td style = \"text-align: right;\">2.453</td><td style = \"text-align: right;\">-2.1234</td></tr><tr><td class = \"rowNumber\" style = \"font-weight: bold; text-align: right;\">16</td><td style = \"text-align: right;\">11</td><td style = \"text-align: right;\">12</td><td style = \"text-align: right;\">-12.8012</td><td style = \"text-align: right;\">13.6009</td><td style = \"text-align: right;\">0.799747</td><td style = \"text-align: right;\">-17.6354</td><td style = \"text-align: right;\">15.7366</td><td style = \"text-align: right;\">-1.89881</td></tr></tbody></table></div>"
      ],
      "text/latex": [
       "\\begin{tabular}{r|ccccc}\n",
       "\t& Bus i & Bus j & Real Power Flow from Bus i to Bus j (MW) & Real Power Flow from Bus j to Bus i (MW) & \\\\\n",
       "\t\\hline\n",
       "\t& Int64 & Int64 & Float64 & Float64 & \\\\\n",
       "\t\\hline\n",
       "\t1 & 1 & 2 & 108.018 & -105.917 & $\\dots$ \\\\\n",
       "\t2 & 1 & 5 & 50.4248 & -49.1352 & $\\dots$ \\\\\n",
       "\t3 & 2 & 3 & 9.77222 & -9.71178 & $\\dots$ \\\\\n",
       "\t4 & 2 & 4 & 32.2932 & -31.6797 & $\\dots$ \\\\\n",
       "\t5 & 2 & 5 & 43.7513 & -42.6904 & $\\dots$ \\\\\n",
       "\t6 & 3 & 4 & 6.51178 & -6.18149 & $\\dots$ \\\\\n",
       "\t7 & 4 & 5 & -44.8437 & 45.1214 & $\\dots$ \\\\\n",
       "\t8 & 4 & 7 & 21.9049 & -21.9049 & $\\dots$ \\\\\n",
       "\t9 & 5 & 6 & 39.1042 & -39.1042 & $\\dots$ \\\\\n",
       "\t10 & 6 & 9 & -2.02553 & 2.20536 & $\\dots$ \\\\\n",
       "\t11 & 6 & 10 & -21.2353 & 21.8 & $\\dots$ \\\\\n",
       "\t12 & 6 & 11 & 48.865 & -47.1988 & $\\dots$ \\\\\n",
       "\t13 & 7 & 8 & -7.25162 & 7.26865 & $\\dots$ \\\\\n",
       "\t14 & 7 & 12 & -4.34351 & 4.4991 & $\\dots$ \\\\\n",
       "\t15 & 8 & 9 & -16.2686 & 16.4946 & $\\dots$ \\\\\n",
       "\t16 & 11 & 12 & -12.8012 & 13.6009 & $\\dots$ \\\\\n",
       "\\end{tabular}\n"
      ],
      "text/plain": [
       "\u001b[1m16×8 DataFrame\u001b[0m\n",
       "\u001b[1m Row \u001b[0m│\u001b[1m Bus i \u001b[0m\u001b[1m Bus j \u001b[0m\u001b[1m Real Power Flow from Bus i to Bus j (MW) \u001b[0m\u001b[1m Real Power Flow\u001b[0m ⋯\n",
       "     │\u001b[90m Int64 \u001b[0m\u001b[90m Int64 \u001b[0m\u001b[90m Float64                                  \u001b[0m\u001b[90m Float64        \u001b[0m ⋯\n",
       "─────┼──────────────────────────────────────────────────────────────────────────\n",
       "   1 │     1      2                                 108.018                    ⋯\n",
       "   2 │     1      5                                  50.4248\n",
       "   3 │     2      3                                   9.77222\n",
       "   4 │     2      4                                  32.2932\n",
       "   5 │     2      5                                  43.7513                   ⋯\n",
       "   6 │     3      4                                   6.51178\n",
       "   7 │     4      5                                 -44.8437\n",
       "   8 │     4      7                                  21.9049\n",
       "   9 │     5      6                                  39.1042                   ⋯\n",
       "  10 │     6      9                                  -2.02553\n",
       "  11 │     6     10                                 -21.2353\n",
       "  12 │     6     11                                  48.865\n",
       "  13 │     7      8                                  -7.25162                  ⋯\n",
       "  14 │     7     12                                  -4.34351\n",
       "  15 │     8      9                                 -16.2686\n",
       "  16 │    11     12                                 -12.8012\n",
       "\u001b[36m                                                               5 columns omitted\u001b[0m"
      ]
     },
     "execution_count": 11,
     "metadata": {},
     "output_type": "execute_result"
    }
   ],
   "source": [
    "# Print line-level results\n",
    "line_results = organize_line_results(result, network_data)"
   ]
  },
  {
   "cell_type": "code",
   "execution_count": 12,
   "id": "471555c6",
   "metadata": {},
   "outputs": [
    {
     "data": {
      "text/plain": [
       "0.1"
      ]
     },
     "execution_count": 12,
     "metadata": {},
     "output_type": "execute_result"
    }
   ],
   "source": [
    "#add a capacitor bank at bus 11 to help compensate for increased load and disconnected line\n",
    "change_bus_reactive_power_demand!(0.1, 11, network_data)"
   ]
  },
  {
   "cell_type": "code",
   "execution_count": 13,
   "id": "83033963",
   "metadata": {},
   "outputs": [
    {
     "data": {
      "text/plain": [
       "Dict{String, Any} with 5 entries:\n",
       "  \"optimizer\"          => \"NLsolve\"\n",
       "  \"termination_status\" => true\n",
       "  \"objective\"          => 0.0\n",
       "  \"solution\"           => Dict{String, Any}(\"gen\"=>Dict{String, Any}(\"4\"=>Dict(…\n",
       "  \"solve_time\"         => 0.0"
      ]
     },
     "execution_count": 13,
     "metadata": {},
     "output_type": "execute_result"
    }
   ],
   "source": [
    "# Solve the power-flow problem\n",
    "result = compute_ac_pf(network_data)"
   ]
  },
  {
   "cell_type": "code",
   "execution_count": 14,
   "id": "66e373a8",
   "metadata": {},
   "outputs": [
    {
     "data": {
      "text/html": [
       "<div><div style = \"float: left;\"><span>12×8 DataFrame</span></div><div style = \"clear: both;\"></div></div><div class = \"data-frame\" style = \"overflow-x: scroll;\"><table class = \"data-frame\" style = \"margin-bottom: 6px;\"><thead><tr class = \"header\"><th class = \"rowNumber\" style = \"font-weight: bold; text-align: right;\">Row</th><th style = \"text-align: left;\">Bus Number</th><th style = \"text-align: left;\">Bus Type</th><th style = \"text-align: left;\">Voltage Magnitude (p.u.)</th><th style = \"text-align: left;\">Voltage Angle (degrees)</th><th style = \"text-align: left;\">Real Power Generated (MW)</th><th style = \"text-align: left;\">Reactive Power Generated (MVAR)</th><th style = \"text-align: left;\">Real Power Load (MW)</th><th style = \"text-align: left;\">Reactive Power Load (MVAR)</th></tr><tr class = \"subheader headerLastRow\"><th class = \"rowNumber\" style = \"font-weight: bold; text-align: right;\"></th><th title = \"Int64\" style = \"text-align: left;\">Int64</th><th title = \"String\" style = \"text-align: left;\">String</th><th title = \"Float64\" style = \"text-align: left;\">Float64</th><th title = \"Float64\" style = \"text-align: left;\">Float64</th><th title = \"Float64\" style = \"text-align: left;\">Float64</th><th title = \"Float64\" style = \"text-align: left;\">Float64</th><th title = \"Float64\" style = \"text-align: left;\">Float64</th><th title = \"Float64\" style = \"text-align: left;\">Float64</th></tr></thead><tbody><tr><td class = \"rowNumber\" style = \"font-weight: bold; text-align: right;\">1</td><td style = \"text-align: right;\">1</td><td style = \"text-align: left;\">Slack</td><td style = \"text-align: right;\">1.04</td><td style = \"text-align: right;\">0.0</td><td style = \"text-align: right;\">157.898</td><td style = \"text-align: right;\">11.7425</td><td style = \"text-align: right;\">0.0</td><td style = \"text-align: right;\">0.0</td></tr><tr><td class = \"rowNumber\" style = \"font-weight: bold; text-align: right;\">2</td><td style = \"text-align: right;\">2</td><td style = \"text-align: left;\">PQ</td><td style = \"text-align: right;\">1.01811</td><td style = \"text-align: right;\">-3.37689</td><td style = \"text-align: right;\">0.0</td><td style = \"text-align: right;\">0.0</td><td style = \"text-align: right;\">20.1</td><td style = \"text-align: right;\">12.5</td></tr><tr><td class = \"rowNumber\" style = \"font-weight: bold; text-align: right;\">3</td><td style = \"text-align: right;\">3</td><td style = \"text-align: left;\">PV</td><td style = \"text-align: right;\">1.025</td><td style = \"text-align: right;\">-4.56524</td><td style = \"text-align: right;\">42.0</td><td style = \"text-align: right;\">15.7568</td><td style = \"text-align: right;\">45.2</td><td style = \"text-align: right;\">16.0</td></tr><tr><td class = \"rowNumber\" style = \"font-weight: bold; text-align: right;\">4</td><td style = \"text-align: right;\">4</td><td style = \"text-align: left;\">PQ</td><td style = \"text-align: right;\">0.989537</td><td style = \"text-align: right;\">-6.39255</td><td style = \"text-align: right;\">0.0</td><td style = \"text-align: right;\">0.0</td><td style = \"text-align: right;\">60.8</td><td style = \"text-align: right;\">10.9</td></tr><tr><td class = \"rowNumber\" style = \"font-weight: bold; text-align: right;\">5</td><td style = \"text-align: right;\">5</td><td style = \"text-align: left;\">PQ</td><td style = \"text-align: right;\">0.997889</td><td style = \"text-align: right;\">-5.34504</td><td style = \"text-align: right;\">0.0</td><td style = \"text-align: right;\">0.0</td><td style = \"text-align: right;\">7.6</td><td style = \"text-align: right;\">-1.6</td></tr><tr><td class = \"rowNumber\" style = \"font-weight: bold; text-align: right;\">6</td><td style = \"text-align: right;\">6</td><td style = \"text-align: left;\">PQ</td><td style = \"text-align: right;\">0.99927</td><td style = \"text-align: right;\">-11.0294</td><td style = \"text-align: right;\">0.0</td><td style = \"text-align: right;\">0.0</td><td style = \"text-align: right;\">13.5</td><td style = \"text-align: right;\">8.5</td></tr><tr><td class = \"rowNumber\" style = \"font-weight: bold; text-align: right;\">7</td><td style = \"text-align: right;\">7</td><td style = \"text-align: left;\">PQ</td><td style = \"text-align: right;\">0.997058</td><td style = \"text-align: right;\">-13.3019</td><td style = \"text-align: right;\">0.0</td><td style = \"text-align: right;\">0.0</td><td style = \"text-align: right;\">33.5</td><td style = \"text-align: right;\">11.6</td></tr><tr><td class = \"rowNumber\" style = \"font-weight: bold; text-align: right;\">8</td><td style = \"text-align: right;\">8</td><td style = \"text-align: left;\">PQ</td><td style = \"text-align: right;\">1.00001</td><td style = \"text-align: right;\">-12.9525</td><td style = \"text-align: right;\">0.0</td><td style = \"text-align: right;\">0.0</td><td style = \"text-align: right;\">9.0</td><td style = \"text-align: right;\">5.8</td></tr><tr><td class = \"rowNumber\" style = \"font-weight: bold; text-align: right;\">9</td><td style = \"text-align: right;\">9</td><td style = \"text-align: left;\">PV</td><td style = \"text-align: right;\">1.02</td><td style = \"text-align: right;\">-11.3218</td><td style = \"text-align: right;\">23.0</td><td style = \"text-align: right;\">13.2096</td><td style = \"text-align: right;\">4.3</td><td style = \"text-align: right;\">2.1</td></tr><tr><td class = \"rowNumber\" style = \"font-weight: bold; text-align: right;\">10</td><td style = \"text-align: right;\">10</td><td style = \"text-align: left;\">PV</td><td style = \"text-align: right;\">1.02</td><td style = \"text-align: right;\">-7.78437</td><td style = \"text-align: right;\">27.0</td><td style = \"text-align: right;\">-1.35881</td><td style = \"text-align: right;\">5.2</td><td style = \"text-align: right;\">1.6</td></tr><tr><td class = \"rowNumber\" style = \"font-weight: bold; text-align: right;\">11</td><td style = \"text-align: right;\">11</td><td style = \"text-align: left;\">PQ</td><td style = \"text-align: right;\">0.969685</td><td style = \"text-align: right;\">-14.8135</td><td style = \"text-align: right;\">0.0</td><td style = \"text-align: right;\">0.0</td><td style = \"text-align: right;\">60.0</td><td style = \"text-align: right;\">10.0</td></tr><tr><td class = \"rowNumber\" style = \"font-weight: bold; text-align: right;\">12</td><td style = \"text-align: right;\">12</td><td style = \"text-align: left;\">PV</td><td style = \"text-align: right;\">1.03</td><td style = \"text-align: right;\">-13.295</td><td style = \"text-align: right;\">33.0</td><td style = \"text-align: right;\">23.0906</td><td style = \"text-align: right;\">14.9</td><td style = \"text-align: right;\">5.0</td></tr></tbody></table></div>"
      ],
      "text/latex": [
       "\\begin{tabular}{r|cccccc}\n",
       "\t& Bus Number & Bus Type & Voltage Magnitude (p.u.) & Voltage Angle (degrees) & Real Power Generated (MW) & \\\\\n",
       "\t\\hline\n",
       "\t& Int64 & String & Float64 & Float64 & Float64 & \\\\\n",
       "\t\\hline\n",
       "\t1 & 1 & Slack & 1.04 & 0.0 & 157.898 & $\\dots$ \\\\\n",
       "\t2 & 2 & PQ & 1.01811 & -3.37689 & 0.0 & $\\dots$ \\\\\n",
       "\t3 & 3 & PV & 1.025 & -4.56524 & 42.0 & $\\dots$ \\\\\n",
       "\t4 & 4 & PQ & 0.989537 & -6.39255 & 0.0 & $\\dots$ \\\\\n",
       "\t5 & 5 & PQ & 0.997889 & -5.34504 & 0.0 & $\\dots$ \\\\\n",
       "\t6 & 6 & PQ & 0.99927 & -11.0294 & 0.0 & $\\dots$ \\\\\n",
       "\t7 & 7 & PQ & 0.997058 & -13.3019 & 0.0 & $\\dots$ \\\\\n",
       "\t8 & 8 & PQ & 1.00001 & -12.9525 & 0.0 & $\\dots$ \\\\\n",
       "\t9 & 9 & PV & 1.02 & -11.3218 & 23.0 & $\\dots$ \\\\\n",
       "\t10 & 10 & PV & 1.02 & -7.78437 & 27.0 & $\\dots$ \\\\\n",
       "\t11 & 11 & PQ & 0.969685 & -14.8135 & 0.0 & $\\dots$ \\\\\n",
       "\t12 & 12 & PV & 1.03 & -13.295 & 33.0 & $\\dots$ \\\\\n",
       "\\end{tabular}\n"
      ],
      "text/plain": [
       "\u001b[1m12×8 DataFrame\u001b[0m\n",
       "\u001b[1m Row \u001b[0m│\u001b[1m Bus Number \u001b[0m\u001b[1m Bus Type \u001b[0m\u001b[1m Voltage Magnitude (p.u.) \u001b[0m\u001b[1m Voltage Angle (degrees)\u001b[0m ⋯\n",
       "     │\u001b[90m Int64      \u001b[0m\u001b[90m String   \u001b[0m\u001b[90m Float64                  \u001b[0m\u001b[90m Float64                \u001b[0m ⋯\n",
       "─────┼──────────────────────────────────────────────────────────────────────────\n",
       "   1 │          1  Slack                     1.04                      0.0     ⋯\n",
       "   2 │          2  PQ                        1.01811                  -3.37689\n",
       "   3 │          3  PV                        1.025                    -4.56524\n",
       "   4 │          4  PQ                        0.989537                 -6.39255\n",
       "   5 │          5  PQ                        0.997889                 -5.34504 ⋯\n",
       "   6 │          6  PQ                        0.99927                 -11.0294\n",
       "   7 │          7  PQ                        0.997058                -13.3019\n",
       "   8 │          8  PQ                        1.00001                 -12.9525\n",
       "   9 │          9  PV                        1.02                    -11.3218  ⋯\n",
       "  10 │         10  PV                        1.02                     -7.78437\n",
       "  11 │         11  PQ                        0.969685                -14.8135\n",
       "  12 │         12  PV                        1.03                    -13.295\n",
       "\u001b[36m                                                               4 columns omitted\u001b[0m"
      ]
     },
     "execution_count": 14,
     "metadata": {},
     "output_type": "execute_result"
    }
   ],
   "source": [
    "# Print bus-level results\n",
    "bus_results = organize_bus_results(result, network_data)"
   ]
  },
  {
   "cell_type": "code",
   "execution_count": 15,
   "id": "8f7851e2",
   "metadata": {},
   "outputs": [
    {
     "data": {
      "text/html": [
       "<div><div style = \"float: left;\"><span>16×8 DataFrame</span></div><div style = \"clear: both;\"></div></div><div class = \"data-frame\" style = \"overflow-x: scroll;\"><table class = \"data-frame\" style = \"margin-bottom: 6px;\"><thead><tr class = \"header\"><th class = \"rowNumber\" style = \"font-weight: bold; text-align: right;\">Row</th><th style = \"text-align: left;\">Bus i</th><th style = \"text-align: left;\">Bus j</th><th style = \"text-align: left;\">Real Power Flow from Bus i to Bus j (MW)</th><th style = \"text-align: left;\">Real Power Flow from Bus j to Bus i (MW)</th><th style = \"text-align: left;\">Real Power Flow Losses (MW)</th><th style = \"text-align: left;\">Reactive Power Flow from Bus i to Bus j (MVAR)</th><th style = \"text-align: left;\">Reactive Power Flow from Bus j to Bus i (MVAR)</th><th style = \"text-align: left;\">Reactive Power Flow Losses (MVAR)</th></tr><tr class = \"subheader headerLastRow\"><th class = \"rowNumber\" style = \"font-weight: bold; text-align: right;\"></th><th title = \"Int64\" style = \"text-align: left;\">Int64</th><th title = \"Int64\" style = \"text-align: left;\">Int64</th><th title = \"Float64\" style = \"text-align: left;\">Float64</th><th title = \"Float64\" style = \"text-align: left;\">Float64</th><th title = \"Float64\" style = \"text-align: left;\">Float64</th><th title = \"Float64\" style = \"text-align: left;\">Float64</th><th title = \"Float64\" style = \"text-align: left;\">Float64</th><th title = \"Float64\" style = \"text-align: left;\">Float64</th></tr></thead><tbody><tr><td class = \"rowNumber\" style = \"font-weight: bold; text-align: right;\">1</td><td style = \"text-align: right;\">1</td><td style = \"text-align: right;\">2</td><td style = \"text-align: right;\">107.497</td><td style = \"text-align: right;\">-105.419</td><td style = \"text-align: right;\">2.07781</td><td style = \"text-align: right;\">3.52626</td><td style = \"text-align: right;\">-2.77428</td><td style = \"text-align: right;\">0.751983</td></tr><tr><td class = \"rowNumber\" style = \"font-weight: bold; text-align: right;\">2</td><td style = \"text-align: right;\">1</td><td style = \"text-align: right;\">5</td><td style = \"text-align: right;\">50.401</td><td style = \"text-align: right;\">-49.1221</td><td style = \"text-align: right;\">1.27889</td><td style = \"text-align: right;\">8.21619</td><td style = \"text-align: right;\">-8.33584</td><td style = \"text-align: right;\">-0.119652</td></tr><tr><td class = \"rowNumber\" style = \"font-weight: bold; text-align: right;\">3</td><td style = \"text-align: right;\">2</td><td style = \"text-align: right;\">3</td><td style = \"text-align: right;\">9.57783</td><td style = \"text-align: right;\">-9.52149</td><td style = \"text-align: right;\">0.0563453</td><td style = \"text-align: right;\">-7.97577</td><td style = \"text-align: right;\">3.64226</td><td style = \"text-align: right;\">-4.3335</td></tr><tr><td class = \"rowNumber\" style = \"font-weight: bold; text-align: right;\">4</td><td style = \"text-align: right;\">2</td><td style = \"text-align: right;\">4</td><td style = \"text-align: right;\">32.2535</td><td style = \"text-align: right;\">-31.6454</td><td style = \"text-align: right;\">0.608046</td><td style = \"text-align: right;\">4.89501</td><td style = \"text-align: right;\">-6.47678</td><td style = \"text-align: right;\">-1.58177</td></tr><tr><td class = \"rowNumber\" style = \"font-weight: bold; text-align: right;\">5</td><td style = \"text-align: right;\">2</td><td style = \"text-align: right;\">5</td><td style = \"text-align: right;\">43.4877</td><td style = \"text-align: right;\">-42.4357</td><td style = \"text-align: right;\">1.052</td><td style = \"text-align: right;\">-6.64497</td><td style = \"text-align: right;\">4.49378</td><td style = \"text-align: right;\">-2.15118</td></tr><tr><td class = \"rowNumber\" style = \"font-weight: bold; text-align: right;\">6</td><td style = \"text-align: right;\">3</td><td style = \"text-align: right;\">4</td><td style = \"text-align: right;\">6.32149</td><td style = \"text-align: right;\">-6.00076</td><td style = \"text-align: right;\">0.320723</td><td style = \"text-align: right;\">-3.88546</td><td style = \"text-align: right;\">2.66824</td><td style = \"text-align: right;\">-1.21722</td></tr><tr><td class = \"rowNumber\" style = \"font-weight: bold; text-align: right;\">7</td><td style = \"text-align: right;\">4</td><td style = \"text-align: right;\">5</td><td style = \"text-align: right;\">-44.4942</td><td style = \"text-align: right;\">44.7677</td><td style = \"text-align: right;\">0.273497</td><td style = \"text-align: right;\">-7.04179</td><td style = \"text-align: right;\">4.04342</td><td style = \"text-align: right;\">-2.99837</td></tr><tr><td class = \"rowNumber\" style = \"font-weight: bold; text-align: right;\">8</td><td style = \"text-align: right;\">4</td><td style = \"text-align: right;\">7</td><td style = \"text-align: right;\">21.3404</td><td style = \"text-align: right;\">-21.3404</td><td style = \"text-align: right;\">0.0</td><td style = \"text-align: right;\">-0.0496698</td><td style = \"text-align: right;\">2.63644</td><td style = \"text-align: right;\">2.58677</td></tr><tr><td class = \"rowNumber\" style = \"font-weight: bold; text-align: right;\">9</td><td style = \"text-align: right;\">5</td><td style = \"text-align: right;\">6</td><td style = \"text-align: right;\">39.1901</td><td style = \"text-align: right;\">-39.1901</td><td style = \"text-align: right;\">0.0</td><td style = \"text-align: right;\">1.39863</td><td style = \"text-align: right;\">2.4934</td><td style = \"text-align: right;\">3.89203</td></tr><tr><td class = \"rowNumber\" style = \"font-weight: bold; text-align: right;\">10</td><td style = \"text-align: right;\">6</td><td style = \"text-align: right;\">9</td><td style = \"text-align: right;\">-1.91765</td><td style = \"text-align: right;\">2.00685</td><td style = \"text-align: right;\">0.0892002</td><td style = \"text-align: right;\">-10.3708</td><td style = \"text-align: right;\">8.76336</td><td style = \"text-align: right;\">-1.60747</td></tr><tr><td class = \"rowNumber\" style = \"font-weight: bold; text-align: right;\">11</td><td style = \"text-align: right;\">6</td><td style = \"text-align: right;\">10</td><td style = \"text-align: right;\">-21.2357</td><td style = \"text-align: right;\">21.8</td><td style = \"text-align: right;\">0.564347</td><td style = \"text-align: right;\">1.41138</td><td style = \"text-align: right;\">-2.95881</td><td style = \"text-align: right;\">-1.54742</td></tr><tr><td class = \"rowNumber\" style = \"font-weight: bold; text-align: right;\">12</td><td style = \"text-align: right;\">6</td><td style = \"text-align: right;\">11</td><td style = \"text-align: right;\">48.8434</td><td style = \"text-align: right;\">-47.2628</td><td style = \"text-align: right;\">1.58059</td><td style = \"text-align: right;\">-2.03395</td><td style = \"text-align: right;\">2.14144</td><td style = \"text-align: right;\">0.107488</td></tr><tr><td class = \"rowNumber\" style = \"font-weight: bold; text-align: right;\">13</td><td style = \"text-align: right;\">7</td><td style = \"text-align: right;\">8</td><td style = \"text-align: right;\">-7.44472</td><td style = \"text-align: right;\">7.4626</td><td style = \"text-align: right;\">0.0178746</td><td style = \"text-align: right;\">-2.69958</td><td style = \"text-align: right;\">-1.34095</td><td style = \"text-align: right;\">-4.04052</td></tr><tr><td class = \"rowNumber\" style = \"font-weight: bold; text-align: right;\">14</td><td style = \"text-align: right;\">7</td><td style = \"text-align: right;\">12</td><td style = \"text-align: right;\">-4.71491</td><td style = \"text-align: right;\">4.86945</td><td style = \"text-align: right;\">0.154536</td><td style = \"text-align: right;\">-11.5369</td><td style = \"text-align: right;\">8.54672</td><td style = \"text-align: right;\">-2.99014</td></tr><tr><td class = \"rowNumber\" style = \"font-weight: bold; text-align: right;\">15</td><td style = \"text-align: right;\">8</td><td style = \"text-align: right;\">9</td><td style = \"text-align: right;\">-16.4626</td><td style = \"text-align: right;\">16.6931</td><td style = \"text-align: right;\">0.230552</td><td style = \"text-align: right;\">-4.45905</td><td style = \"text-align: right;\">2.3462</td><td style = \"text-align: right;\">-2.11285</td></tr><tr><td class = \"rowNumber\" style = \"font-weight: bold; text-align: right;\">16</td><td style = \"text-align: right;\">11</td><td style = \"text-align: right;\">12</td><td style = \"text-align: right;\">-12.7372</td><td style = \"text-align: right;\">13.2306</td><td style = \"text-align: right;\">0.493391</td><td style = \"text-align: right;\">-12.1414</td><td style = \"text-align: right;\">9.54386</td><td style = \"text-align: right;\">-2.59758</td></tr></tbody></table></div>"
      ],
      "text/latex": [
       "\\begin{tabular}{r|ccccc}\n",
       "\t& Bus i & Bus j & Real Power Flow from Bus i to Bus j (MW) & Real Power Flow from Bus j to Bus i (MW) & \\\\\n",
       "\t\\hline\n",
       "\t& Int64 & Int64 & Float64 & Float64 & \\\\\n",
       "\t\\hline\n",
       "\t1 & 1 & 2 & 107.497 & -105.419 & $\\dots$ \\\\\n",
       "\t2 & 1 & 5 & 50.401 & -49.1221 & $\\dots$ \\\\\n",
       "\t3 & 2 & 3 & 9.57783 & -9.52149 & $\\dots$ \\\\\n",
       "\t4 & 2 & 4 & 32.2535 & -31.6454 & $\\dots$ \\\\\n",
       "\t5 & 2 & 5 & 43.4877 & -42.4357 & $\\dots$ \\\\\n",
       "\t6 & 3 & 4 & 6.32149 & -6.00076 & $\\dots$ \\\\\n",
       "\t7 & 4 & 5 & -44.4942 & 44.7677 & $\\dots$ \\\\\n",
       "\t8 & 4 & 7 & 21.3404 & -21.3404 & $\\dots$ \\\\\n",
       "\t9 & 5 & 6 & 39.1901 & -39.1901 & $\\dots$ \\\\\n",
       "\t10 & 6 & 9 & -1.91765 & 2.00685 & $\\dots$ \\\\\n",
       "\t11 & 6 & 10 & -21.2357 & 21.8 & $\\dots$ \\\\\n",
       "\t12 & 6 & 11 & 48.8434 & -47.2628 & $\\dots$ \\\\\n",
       "\t13 & 7 & 8 & -7.44472 & 7.4626 & $\\dots$ \\\\\n",
       "\t14 & 7 & 12 & -4.71491 & 4.86945 & $\\dots$ \\\\\n",
       "\t15 & 8 & 9 & -16.4626 & 16.6931 & $\\dots$ \\\\\n",
       "\t16 & 11 & 12 & -12.7372 & 13.2306 & $\\dots$ \\\\\n",
       "\\end{tabular}\n"
      ],
      "text/plain": [
       "\u001b[1m16×8 DataFrame\u001b[0m\n",
       "\u001b[1m Row \u001b[0m│\u001b[1m Bus i \u001b[0m\u001b[1m Bus j \u001b[0m\u001b[1m Real Power Flow from Bus i to Bus j (MW) \u001b[0m\u001b[1m Real Power Flow\u001b[0m ⋯\n",
       "     │\u001b[90m Int64 \u001b[0m\u001b[90m Int64 \u001b[0m\u001b[90m Float64                                  \u001b[0m\u001b[90m Float64        \u001b[0m ⋯\n",
       "─────┼──────────────────────────────────────────────────────────────────────────\n",
       "   1 │     1      2                                 107.497                    ⋯\n",
       "   2 │     1      5                                  50.401\n",
       "   3 │     2      3                                   9.57783\n",
       "   4 │     2      4                                  32.2535\n",
       "   5 │     2      5                                  43.4877                   ⋯\n",
       "   6 │     3      4                                   6.32149\n",
       "   7 │     4      5                                 -44.4942\n",
       "   8 │     4      7                                  21.3404\n",
       "   9 │     5      6                                  39.1901                   ⋯\n",
       "  10 │     6      9                                  -1.91765\n",
       "  11 │     6     10                                 -21.2357\n",
       "  12 │     6     11                                  48.8434\n",
       "  13 │     7      8                                  -7.44472                  ⋯\n",
       "  14 │     7     12                                  -4.71491\n",
       "  15 │     8      9                                 -16.4626\n",
       "  16 │    11     12                                 -12.7372\n",
       "\u001b[36m                                                               5 columns omitted\u001b[0m"
      ]
     },
     "execution_count": 15,
     "metadata": {},
     "output_type": "execute_result"
    }
   ],
   "source": [
    "# Print line-level results\n",
    "line_results = organize_line_results(result, network_data)"
   ]
  },
  {
   "cell_type": "code",
   "execution_count": 16,
   "id": "b71799f1",
   "metadata": {},
   "outputs": [
    {
     "data": {
      "text/plain": [
       "0.5"
      ]
     },
     "execution_count": 16,
     "metadata": {},
     "output_type": "execute_result"
    }
   ],
   "source": [
    "#increase generation at bus 10 to help with line over-flow\n",
    "change_bus_real_power_generation!(0.5, 10, network_data)"
   ]
  },
  {
   "cell_type": "code",
   "execution_count": 17,
   "id": "50ffd3b9",
   "metadata": {},
   "outputs": [
    {
     "data": {
      "text/plain": [
       "Dict{String, Any} with 5 entries:\n",
       "  \"optimizer\"          => \"NLsolve\"\n",
       "  \"termination_status\" => true\n",
       "  \"objective\"          => 0.0\n",
       "  \"solution\"           => Dict{String, Any}(\"gen\"=>Dict{String, Any}(\"4\"=>Dict(…\n",
       "  \"solve_time\"         => 0.0"
      ]
     },
     "execution_count": 17,
     "metadata": {},
     "output_type": "execute_result"
    }
   ],
   "source": [
    "# Solve the power-flow problem\n",
    "result = compute_ac_pf(network_data)"
   ]
  },
  {
   "cell_type": "code",
   "execution_count": 18,
   "id": "e2cfeabb",
   "metadata": {},
   "outputs": [
    {
     "data": {
      "text/html": [
       "<div><div style = \"float: left;\"><span>12×8 DataFrame</span></div><div style = \"clear: both;\"></div></div><div class = \"data-frame\" style = \"overflow-x: scroll;\"><table class = \"data-frame\" style = \"margin-bottom: 6px;\"><thead><tr class = \"header\"><th class = \"rowNumber\" style = \"font-weight: bold; text-align: right;\">Row</th><th style = \"text-align: left;\">Bus Number</th><th style = \"text-align: left;\">Bus Type</th><th style = \"text-align: left;\">Voltage Magnitude (p.u.)</th><th style = \"text-align: left;\">Voltage Angle (degrees)</th><th style = \"text-align: left;\">Real Power Generated (MW)</th><th style = \"text-align: left;\">Reactive Power Generated (MVAR)</th><th style = \"text-align: left;\">Real Power Load (MW)</th><th style = \"text-align: left;\">Reactive Power Load (MVAR)</th></tr><tr class = \"subheader headerLastRow\"><th class = \"rowNumber\" style = \"font-weight: bold; text-align: right;\"></th><th title = \"Int64\" style = \"text-align: left;\">Int64</th><th title = \"String\" style = \"text-align: left;\">String</th><th title = \"Float64\" style = \"text-align: left;\">Float64</th><th title = \"Float64\" style = \"text-align: left;\">Float64</th><th title = \"Float64\" style = \"text-align: left;\">Float64</th><th title = \"Float64\" style = \"text-align: left;\">Float64</th><th title = \"Float64\" style = \"text-align: left;\">Float64</th><th title = \"Float64\" style = \"text-align: left;\">Float64</th></tr></thead><tbody><tr><td class = \"rowNumber\" style = \"font-weight: bold; text-align: right;\">1</td><td style = \"text-align: right;\">1</td><td style = \"text-align: left;\">Slack</td><td style = \"text-align: right;\">1.04</td><td style = \"text-align: right;\">0.0</td><td style = \"text-align: right;\">135.609</td><td style = \"text-align: right;\">11.4132</td><td style = \"text-align: right;\">0.0</td><td style = \"text-align: right;\">0.0</td></tr><tr><td class = \"rowNumber\" style = \"font-weight: bold; text-align: right;\">2</td><td style = \"text-align: right;\">2</td><td style = \"text-align: left;\">PQ</td><td style = \"text-align: right;\">1.01984</td><td style = \"text-align: right;\">-2.90756</td><td style = \"text-align: right;\">0.0</td><td style = \"text-align: right;\">0.0</td><td style = \"text-align: right;\">20.1</td><td style = \"text-align: right;\">12.5</td></tr><tr><td class = \"rowNumber\" style = \"font-weight: bold; text-align: right;\">3</td><td style = \"text-align: right;\">3</td><td style = \"text-align: left;\">PV</td><td style = \"text-align: right;\">1.025</td><td style = \"text-align: right;\">-3.96689</td><td style = \"text-align: right;\">42.0</td><td style = \"text-align: right;\">15.1488</td><td style = \"text-align: right;\">45.2</td><td style = \"text-align: right;\">16.0</td></tr><tr><td class = \"rowNumber\" style = \"font-weight: bold; text-align: right;\">4</td><td style = \"text-align: right;\">4</td><td style = \"text-align: left;\">PQ</td><td style = \"text-align: right;\">0.994401</td><td style = \"text-align: right;\">-5.50021</td><td style = \"text-align: right;\">0.0</td><td style = \"text-align: right;\">0.0</td><td style = \"text-align: right;\">60.8</td><td style = \"text-align: right;\">10.9</td></tr><tr><td class = \"rowNumber\" style = \"font-weight: bold; text-align: right;\">5</td><td style = \"text-align: right;\">5</td><td style = \"text-align: left;\">PQ</td><td style = \"text-align: right;\">1.00283</td><td style = \"text-align: right;\">-4.44759</td><td style = \"text-align: right;\">0.0</td><td style = \"text-align: right;\">0.0</td><td style = \"text-align: right;\">7.6</td><td style = \"text-align: right;\">-1.6</td></tr><tr><td class = \"rowNumber\" style = \"font-weight: bold; text-align: right;\">6</td><td style = \"text-align: right;\">6</td><td style = \"text-align: left;\">PQ</td><td style = \"text-align: right;\">0.994212</td><td style = \"text-align: right;\">-7.72952</td><td style = \"text-align: right;\">0.0</td><td style = \"text-align: right;\">0.0</td><td style = \"text-align: right;\">13.5</td><td style = \"text-align: right;\">8.5</td></tr><tr><td class = \"rowNumber\" style = \"font-weight: bold; text-align: right;\">7</td><td style = \"text-align: right;\">7</td><td style = \"text-align: left;\">PQ</td><td style = \"text-align: right;\">0.996361</td><td style = \"text-align: right;\">-11.0075</td><td style = \"text-align: right;\">0.0</td><td style = \"text-align: right;\">0.0</td><td style = \"text-align: right;\">33.5</td><td style = \"text-align: right;\">11.6</td></tr><tr><td class = \"rowNumber\" style = \"font-weight: bold; text-align: right;\">8</td><td style = \"text-align: right;\">8</td><td style = \"text-align: left;\">PQ</td><td style = \"text-align: right;\">0.999373</td><td style = \"text-align: right;\">-10.5102</td><td style = \"text-align: right;\">0.0</td><td style = \"text-align: right;\">0.0</td><td style = \"text-align: right;\">9.0</td><td style = \"text-align: right;\">5.8</td></tr><tr><td class = \"rowNumber\" style = \"font-weight: bold; text-align: right;\">9</td><td style = \"text-align: right;\">9</td><td style = \"text-align: left;\">PV</td><td style = \"text-align: right;\">1.02</td><td style = \"text-align: right;\">-8.54595</td><td style = \"text-align: right;\">23.0</td><td style = \"text-align: right;\">16.4236</td><td style = \"text-align: right;\">4.3</td><td style = \"text-align: right;\">2.1</td></tr><tr><td class = \"rowNumber\" style = \"font-weight: bold; text-align: right;\">10</td><td style = \"text-align: right;\">10</td><td style = \"text-align: left;\">PV</td><td style = \"text-align: right;\">1.02</td><td style = \"text-align: right;\">-0.664911</td><td style = \"text-align: right;\">50.0</td><td style = \"text-align: right;\">-8.02207</td><td style = \"text-align: right;\">5.2</td><td style = \"text-align: right;\">1.6</td></tr><tr><td class = \"rowNumber\" style = \"font-weight: bold; text-align: right;\">11</td><td style = \"text-align: right;\">11</td><td style = \"text-align: left;\">PQ</td><td style = \"text-align: right;\">0.965664</td><td style = \"text-align: right;\">-11.7468</td><td style = \"text-align: right;\">0.0</td><td style = \"text-align: right;\">0.0</td><td style = \"text-align: right;\">60.0</td><td style = \"text-align: right;\">10.0</td></tr><tr><td class = \"rowNumber\" style = \"font-weight: bold; text-align: right;\">12</td><td style = \"text-align: right;\">12</td><td style = \"text-align: left;\">PV</td><td style = \"text-align: right;\">1.03</td><td style = \"text-align: right;\">-10.7278</td><td style = \"text-align: right;\">33.0</td><td style = \"text-align: right;\">24.5284</td><td style = \"text-align: right;\">14.9</td><td style = \"text-align: right;\">5.0</td></tr></tbody></table></div>"
      ],
      "text/latex": [
       "\\begin{tabular}{r|cccccc}\n",
       "\t& Bus Number & Bus Type & Voltage Magnitude (p.u.) & Voltage Angle (degrees) & Real Power Generated (MW) & \\\\\n",
       "\t\\hline\n",
       "\t& Int64 & String & Float64 & Float64 & Float64 & \\\\\n",
       "\t\\hline\n",
       "\t1 & 1 & Slack & 1.04 & 0.0 & 135.609 & $\\dots$ \\\\\n",
       "\t2 & 2 & PQ & 1.01984 & -2.90756 & 0.0 & $\\dots$ \\\\\n",
       "\t3 & 3 & PV & 1.025 & -3.96689 & 42.0 & $\\dots$ \\\\\n",
       "\t4 & 4 & PQ & 0.994401 & -5.50021 & 0.0 & $\\dots$ \\\\\n",
       "\t5 & 5 & PQ & 1.00283 & -4.44759 & 0.0 & $\\dots$ \\\\\n",
       "\t6 & 6 & PQ & 0.994212 & -7.72952 & 0.0 & $\\dots$ \\\\\n",
       "\t7 & 7 & PQ & 0.996361 & -11.0075 & 0.0 & $\\dots$ \\\\\n",
       "\t8 & 8 & PQ & 0.999373 & -10.5102 & 0.0 & $\\dots$ \\\\\n",
       "\t9 & 9 & PV & 1.02 & -8.54595 & 23.0 & $\\dots$ \\\\\n",
       "\t10 & 10 & PV & 1.02 & -0.664911 & 50.0 & $\\dots$ \\\\\n",
       "\t11 & 11 & PQ & 0.965664 & -11.7468 & 0.0 & $\\dots$ \\\\\n",
       "\t12 & 12 & PV & 1.03 & -10.7278 & 33.0 & $\\dots$ \\\\\n",
       "\\end{tabular}\n"
      ],
      "text/plain": [
       "\u001b[1m12×8 DataFrame\u001b[0m\n",
       "\u001b[1m Row \u001b[0m│\u001b[1m Bus Number \u001b[0m\u001b[1m Bus Type \u001b[0m\u001b[1m Voltage Magnitude (p.u.) \u001b[0m\u001b[1m Voltage Angle (degrees)\u001b[0m ⋯\n",
       "     │\u001b[90m Int64      \u001b[0m\u001b[90m String   \u001b[0m\u001b[90m Float64                  \u001b[0m\u001b[90m Float64                \u001b[0m ⋯\n",
       "─────┼──────────────────────────────────────────────────────────────────────────\n",
       "   1 │          1  Slack                     1.04                     0.0      ⋯\n",
       "   2 │          2  PQ                        1.01984                 -2.90756\n",
       "   3 │          3  PV                        1.025                   -3.96689\n",
       "   4 │          4  PQ                        0.994401                -5.50021\n",
       "   5 │          5  PQ                        1.00283                 -4.44759  ⋯\n",
       "   6 │          6  PQ                        0.994212                -7.72952\n",
       "   7 │          7  PQ                        0.996361               -11.0075\n",
       "   8 │          8  PQ                        0.999373               -10.5102\n",
       "   9 │          9  PV                        1.02                    -8.54595  ⋯\n",
       "  10 │         10  PV                        1.02                    -0.664911\n",
       "  11 │         11  PQ                        0.965664               -11.7468\n",
       "  12 │         12  PV                        1.03                   -10.7278\n",
       "\u001b[36m                                                               4 columns omitted\u001b[0m"
      ]
     },
     "execution_count": 18,
     "metadata": {},
     "output_type": "execute_result"
    }
   ],
   "source": [
    "# Print bus-level results\n",
    "bus_results = organize_bus_results(result, network_data)"
   ]
  },
  {
   "cell_type": "code",
   "execution_count": 19,
   "id": "c85cce95",
   "metadata": {},
   "outputs": [
    {
     "data": {
      "text/html": [
       "<div><div style = \"float: left;\"><span>16×8 DataFrame</span></div><div style = \"clear: both;\"></div></div><div class = \"data-frame\" style = \"overflow-x: scroll;\"><table class = \"data-frame\" style = \"margin-bottom: 6px;\"><thead><tr class = \"header\"><th class = \"rowNumber\" style = \"font-weight: bold; text-align: right;\">Row</th><th style = \"text-align: left;\">Bus i</th><th style = \"text-align: left;\">Bus j</th><th style = \"text-align: left;\">Real Power Flow from Bus i to Bus j (MW)</th><th style = \"text-align: left;\">Real Power Flow from Bus j to Bus i (MW)</th><th style = \"text-align: left;\">Real Power Flow Losses (MW)</th><th style = \"text-align: left;\">Reactive Power Flow from Bus i to Bus j (MVAR)</th><th style = \"text-align: left;\">Reactive Power Flow from Bus j to Bus i (MVAR)</th><th style = \"text-align: left;\">Reactive Power Flow Losses (MVAR)</th></tr><tr class = \"subheader headerLastRow\"><th class = \"rowNumber\" style = \"font-weight: bold; text-align: right;\"></th><th title = \"Int64\" style = \"text-align: left;\">Int64</th><th title = \"Int64\" style = \"text-align: left;\">Int64</th><th title = \"Float64\" style = \"text-align: left;\">Float64</th><th title = \"Float64\" style = \"text-align: left;\">Float64</th><th title = \"Float64\" style = \"text-align: left;\">Float64</th><th title = \"Float64\" style = \"text-align: left;\">Float64</th><th title = \"Float64\" style = \"text-align: left;\">Float64</th><th title = \"Float64\" style = \"text-align: left;\">Float64</th></tr></thead><tbody><tr><td class = \"rowNumber\" style = \"font-weight: bold; text-align: right;\">1</td><td style = \"text-align: right;\">1</td><td style = \"text-align: right;\">2</td><td style = \"text-align: right;\">93.2803</td><td style = \"text-align: right;\">-91.712</td><td style = \"text-align: right;\">1.56834</td><td style = \"text-align: right;\">4.33606</td><td style = \"text-align: right;\">-5.14889</td><td style = \"text-align: right;\">-0.812835</td></tr><tr><td class = \"rowNumber\" style = \"font-weight: bold; text-align: right;\">2</td><td style = \"text-align: right;\">1</td><td style = \"text-align: right;\">5</td><td style = \"text-align: right;\">42.3286</td><td style = \"text-align: right;\">-41.4211</td><td style = \"text-align: right;\">0.907513</td><td style = \"text-align: right;\">7.07719</td><td style = \"text-align: right;\">-8.67043</td><td style = \"text-align: right;\">-1.59324</td></tr><tr><td class = \"rowNumber\" style = \"font-weight: bold; text-align: right;\">3</td><td style = \"text-align: right;\">2</td><td style = \"text-align: right;\">3</td><td style = \"text-align: right;\">8.66425</td><td style = \"text-align: right;\">-8.62067</td><td style = \"text-align: right;\">0.0435803</td><td style = \"text-align: right;\">-6.90278</td><td style = \"text-align: right;\">2.50776</td><td style = \"text-align: right;\">-4.39502</td></tr><tr><td class = \"rowNumber\" style = \"font-weight: bold; text-align: right;\">4</td><td style = \"text-align: right;\">2</td><td style = \"text-align: right;\">4</td><td style = \"text-align: right;\">28.0174</td><td style = \"text-align: right;\">-27.5583</td><td style = \"text-align: right;\">0.45915</td><td style = \"text-align: right;\">4.30034</td><td style = \"text-align: right;\">-6.3563</td><td style = \"text-align: right;\">-2.05596</td></tr><tr><td class = \"rowNumber\" style = \"font-weight: bold; text-align: right;\">5</td><td style = \"text-align: right;\">2</td><td style = \"text-align: right;\">5</td><td style = \"text-align: right;\">34.9303</td><td style = \"text-align: right;\">-34.2574</td><td style = \"text-align: right;\">0.672853</td><td style = \"text-align: right;\">-4.74867</td><td style = \"text-align: right;\">2.08241</td><td style = \"text-align: right;\">-2.66626</td></tr><tr><td class = \"rowNumber\" style = \"font-weight: bold; text-align: right;\">6</td><td style = \"text-align: right;\">3</td><td style = \"text-align: right;\">4</td><td style = \"text-align: right;\">5.42067</td><td style = \"text-align: right;\">-5.18723</td><td style = \"text-align: right;\">0.233447</td><td style = \"text-align: right;\">-3.35896</td><td style = \"text-align: right;\">2.11329</td><td style = \"text-align: right;\">-1.24567</td></tr><tr><td class = \"rowNumber\" style = \"font-weight: bold; text-align: right;\">7</td><td style = \"text-align: right;\">4</td><td style = \"text-align: right;\">5</td><td style = \"text-align: right;\">-45.151</td><td style = \"text-align: right;\">45.4299</td><td style = \"text-align: right;\">0.278873</td><td style = \"text-align: right;\">-7.12886</td><td style = \"text-align: right;\">4.10926</td><td style = \"text-align: right;\">-3.0196</td></tr><tr><td class = \"rowNumber\" style = \"font-weight: bold; text-align: right;\">8</td><td style = \"text-align: right;\">4</td><td style = \"text-align: right;\">7</td><td style = \"text-align: right;\">17.0965</td><td style = \"text-align: right;\">-17.0965</td><td style = \"text-align: right;\">0.0</td><td style = \"text-align: right;\">0.471877</td><td style = \"text-align: right;\">1.1734</td><td style = \"text-align: right;\">1.64528</td></tr><tr><td class = \"rowNumber\" style = \"font-weight: bold; text-align: right;\">9</td><td style = \"text-align: right;\">5</td><td style = \"text-align: right;\">6</td><td style = \"text-align: right;\">22.6486</td><td style = \"text-align: right;\">-22.6486</td><td style = \"text-align: right;\">0.0</td><td style = \"text-align: right;\">4.07877</td><td style = \"text-align: right;\">-2.7516</td><td style = \"text-align: right;\">1.32716</td></tr><tr><td class = \"rowNumber\" style = \"font-weight: bold; text-align: right;\">10</td><td style = \"text-align: right;\">6</td><td style = \"text-align: right;\">9</td><td style = \"text-align: right;\">0.923542</td><td style = \"text-align: right;\">-0.753276</td><td style = \"text-align: right;\">0.170266</td><td style = \"text-align: right;\">-14.1493</td><td style = \"text-align: right;\">12.7204</td><td style = \"text-align: right;\">-1.42884</td></tr><tr><td class = \"rowNumber\" style = \"font-weight: bold; text-align: right;\">11</td><td style = \"text-align: right;\">6</td><td style = \"text-align: right;\">10</td><td style = \"text-align: right;\">-42.3489</td><td style = \"text-align: right;\">44.8</td><td style = \"text-align: right;\">2.45114</td><td style = \"text-align: right;\">12.0151</td><td style = \"text-align: right;\">-9.62207</td><td style = \"text-align: right;\">2.39298</td></tr><tr><td class = \"rowNumber\" style = \"font-weight: bold; text-align: right;\">12</td><td style = \"text-align: right;\">6</td><td style = \"text-align: right;\">11</td><td style = \"text-align: right;\">50.5739</td><td style = \"text-align: right;\">-48.8594</td><td style = \"text-align: right;\">1.71459</td><td style = \"text-align: right;\">-3.61419</td><td style = \"text-align: right;\">4.01326</td><td style = \"text-align: right;\">0.399073</td></tr><tr><td class = \"rowNumber\" style = \"font-weight: bold; text-align: right;\">13</td><td style = \"text-align: right;\">7</td><td style = \"text-align: right;\">8</td><td style = \"text-align: right;\">-10.1151</td><td style = \"text-align: right;\">10.1479</td><td style = \"text-align: right;\">0.0328138</td><td style = \"text-align: right;\">-1.73471</td><td style = \"text-align: right;\">-2.26066</td><td style = \"text-align: right;\">-3.99537</td></tr><tr><td class = \"rowNumber\" style = \"font-weight: bold; text-align: right;\">14</td><td style = \"text-align: right;\">7</td><td style = \"text-align: right;\">12</td><td style = \"text-align: right;\">-6.28835</td><td style = \"text-align: right;\">6.45297</td><td style = \"text-align: right;\">0.164622</td><td style = \"text-align: right;\">-11.0387</td><td style = \"text-align: right;\">8.07224</td><td style = \"text-align: right;\">-2.96645</td></tr><tr><td class = \"rowNumber\" style = \"font-weight: bold; text-align: right;\">15</td><td style = \"text-align: right;\">8</td><td style = \"text-align: right;\">9</td><td style = \"text-align: right;\">-19.1479</td><td style = \"text-align: right;\">19.4533</td><td style = \"text-align: right;\">0.305334</td><td style = \"text-align: right;\">-3.53934</td><td style = \"text-align: right;\">1.60321</td><td style = \"text-align: right;\">-1.93614</td></tr><tr><td class = \"rowNumber\" style = \"font-weight: bold; text-align: right;\">16</td><td style = \"text-align: right;\">11</td><td style = \"text-align: right;\">12</td><td style = \"text-align: right;\">-11.1406</td><td style = \"text-align: right;\">11.647</td><td style = \"text-align: right;\">0.506389</td><td style = \"text-align: right;\">-14.0133</td><td style = \"text-align: right;\">11.4562</td><td style = \"text-align: right;\">-2.5571</td></tr></tbody></table></div>"
      ],
      "text/latex": [
       "\\begin{tabular}{r|ccccc}\n",
       "\t& Bus i & Bus j & Real Power Flow from Bus i to Bus j (MW) & Real Power Flow from Bus j to Bus i (MW) & \\\\\n",
       "\t\\hline\n",
       "\t& Int64 & Int64 & Float64 & Float64 & \\\\\n",
       "\t\\hline\n",
       "\t1 & 1 & 2 & 93.2803 & -91.712 & $\\dots$ \\\\\n",
       "\t2 & 1 & 5 & 42.3286 & -41.4211 & $\\dots$ \\\\\n",
       "\t3 & 2 & 3 & 8.66425 & -8.62067 & $\\dots$ \\\\\n",
       "\t4 & 2 & 4 & 28.0174 & -27.5583 & $\\dots$ \\\\\n",
       "\t5 & 2 & 5 & 34.9303 & -34.2574 & $\\dots$ \\\\\n",
       "\t6 & 3 & 4 & 5.42067 & -5.18723 & $\\dots$ \\\\\n",
       "\t7 & 4 & 5 & -45.151 & 45.4299 & $\\dots$ \\\\\n",
       "\t8 & 4 & 7 & 17.0965 & -17.0965 & $\\dots$ \\\\\n",
       "\t9 & 5 & 6 & 22.6486 & -22.6486 & $\\dots$ \\\\\n",
       "\t10 & 6 & 9 & 0.923542 & -0.753276 & $\\dots$ \\\\\n",
       "\t11 & 6 & 10 & -42.3489 & 44.8 & $\\dots$ \\\\\n",
       "\t12 & 6 & 11 & 50.5739 & -48.8594 & $\\dots$ \\\\\n",
       "\t13 & 7 & 8 & -10.1151 & 10.1479 & $\\dots$ \\\\\n",
       "\t14 & 7 & 12 & -6.28835 & 6.45297 & $\\dots$ \\\\\n",
       "\t15 & 8 & 9 & -19.1479 & 19.4533 & $\\dots$ \\\\\n",
       "\t16 & 11 & 12 & -11.1406 & 11.647 & $\\dots$ \\\\\n",
       "\\end{tabular}\n"
      ],
      "text/plain": [
       "\u001b[1m16×8 DataFrame\u001b[0m\n",
       "\u001b[1m Row \u001b[0m│\u001b[1m Bus i \u001b[0m\u001b[1m Bus j \u001b[0m\u001b[1m Real Power Flow from Bus i to Bus j (MW) \u001b[0m\u001b[1m Real Power Flow\u001b[0m ⋯\n",
       "     │\u001b[90m Int64 \u001b[0m\u001b[90m Int64 \u001b[0m\u001b[90m Float64                                  \u001b[0m\u001b[90m Float64        \u001b[0m ⋯\n",
       "─────┼──────────────────────────────────────────────────────────────────────────\n",
       "   1 │     1      2                                 93.2803                    ⋯\n",
       "   2 │     1      5                                 42.3286\n",
       "   3 │     2      3                                  8.66425\n",
       "   4 │     2      4                                 28.0174\n",
       "   5 │     2      5                                 34.9303                    ⋯\n",
       "   6 │     3      4                                  5.42067\n",
       "   7 │     4      5                                -45.151\n",
       "   8 │     4      7                                 17.0965\n",
       "   9 │     5      6                                 22.6486                    ⋯\n",
       "  10 │     6      9                                  0.923542\n",
       "  11 │     6     10                                -42.3489\n",
       "  12 │     6     11                                 50.5739\n",
       "  13 │     7      8                                -10.1151                    ⋯\n",
       "  14 │     7     12                                 -6.28835\n",
       "  15 │     8      9                                -19.1479\n",
       "  16 │    11     12                                -11.1406\n",
       "\u001b[36m                                                               5 columns omitted\u001b[0m"
      ]
     },
     "execution_count": 19,
     "metadata": {},
     "output_type": "execute_result"
    }
   ],
   "source": [
    "# Print line-level results\n",
    "line_results = organize_line_results(result, network_data)"
   ]
  },
  {
   "cell_type": "markdown",
   "id": "262bd8f1",
   "metadata": {},
   "source": [
    "# Contingency Case 2 for UW's EE 454 Project"
   ]
  },
  {
   "cell_type": "markdown",
   "id": "04b173e4",
   "metadata": {},
   "source": [
    "Read in data from a MATPOWER case file, remove a line, solve the AC power-flow study using LANL's `PowerModels.jl`, and present the resulting bus- and line-level solutions. The data in this example is from UW's EE 454 course (Power System Analysis) and describes a twelve-bus test system. Contingency Case 2 describes a scenario where a generator is removed to check N-1 security."
   ]
  },
  {
   "cell_type": "code",
   "execution_count": 20,
   "id": "888f17fd",
   "metadata": {},
   "outputs": [
    {
     "name": "stdout",
     "output_type": "stream",
     "text": [
      "\u001b[32m[info | PowerModels]: removing 3 cost terms from generator 4: Float64[]\u001b[39m\n",
      "\u001b[32m[info | PowerModels]: removing 3 cost terms from generator 1: Float64[]\u001b[39m\n",
      "\u001b[32m[info | PowerModels]: removing 3 cost terms from generator 5: Float64[]\u001b[39m\n",
      "\u001b[32m[info | PowerModels]: removing 3 cost terms from generator 2: Float64[]\u001b[39m\n",
      "\u001b[32m[info | PowerModels]: removing 3 cost terms from generator 3: Float64[]\u001b[39m\n"
     ]
    },
    {
     "data": {
      "text/plain": [
       "Dict{String, Any} with 13 entries:\n",
       "  \"bus\"            => Dict{String, Any}(\"4\"=>Dict{String, Any}(\"zone\"=>1, \"bus_…\n",
       "  \"source_type\"    => \"matpower\"\n",
       "  \"name\"           => \"uw_ee_454_project_data_modified\"\n",
       "  \"dcline\"         => Dict{String, Any}()\n",
       "  \"source_version\" => \"2\"\n",
       "  \"gen\"            => Dict{String, Any}(\"4\"=>Dict{String, Any}(\"ncost\"=>0, \"qc1…\n",
       "  \"branch\"         => Dict{String, Any}(\"4\"=>Dict{String, Any}(\"br_r\"=>0.05811,…\n",
       "  \"storage\"        => Dict{String, Any}()\n",
       "  \"switch\"         => Dict{String, Any}()\n",
       "  \"baseMVA\"        => 100\n",
       "  \"per_unit\"       => true\n",
       "  \"shunt\"          => Dict{String, Any}()\n",
       "  \"load\"           => Dict{String, Any}(\"4\"=>Dict{String, Any}(\"source_id\"=>Any…"
      ]
     },
     "execution_count": 20,
     "metadata": {},
     "output_type": "execute_result"
    }
   ],
   "source": [
    "# Define the data directory and case name\n",
    "file_path = joinpath(@__DIR__, \"..\", \"data\")\n",
    "case_name = \"uw_ee_454_project_data_modified\"\n",
    "file_type = \".m\"\n",
    "\n",
    "# Load the network data\n",
    "network_data = load_network_data(file_path, case_name, file_type)"
   ]
  },
  {
   "cell_type": "code",
   "execution_count": 21,
   "id": "4603d409",
   "metadata": {},
   "outputs": [
    {
     "data": {
      "text/plain": [
       "0.0"
      ]
     },
     "execution_count": 21,
     "metadata": {},
     "output_type": "execute_result"
    }
   ],
   "source": [
    "# Delete the line between Buses 10 and 11 and Buses 10 and 6 to appropriately reflect the contingency\n",
    "#delete_load!(10, network_data)\n",
    "#delete_generator!(10, network_data)\n",
    "#delete_line!(10, 11, network_data)\n",
    "#delete_line!(6, 10, network_data)\n",
    "#delete_bus!(10, network_data)\n",
    "change_bus_real_power_generation!(0, 3, network_data)"
   ]
  },
  {
   "cell_type": "code",
   "execution_count": 22,
   "id": "8e5c4abc",
   "metadata": {},
   "outputs": [
    {
     "data": {
      "text/plain": [
       "Dict{String, Any} with 5 entries:\n",
       "  \"optimizer\"          => \"NLsolve\"\n",
       "  \"termination_status\" => true\n",
       "  \"objective\"          => 0.0\n",
       "  \"solution\"           => Dict{String, Any}(\"gen\"=>Dict{String, Any}(\"4\"=>Dict(…\n",
       "  \"solve_time\"         => 0.0"
      ]
     },
     "execution_count": 22,
     "metadata": {},
     "output_type": "execute_result"
    }
   ],
   "source": [
    "# Solve the power-flow problem\n",
    "result = compute_ac_pf(network_data)"
   ]
  },
  {
   "cell_type": "code",
   "execution_count": 23,
   "id": "2f8388b7",
   "metadata": {},
   "outputs": [
    {
     "data": {
      "text/html": [
       "<div><div style = \"float: left;\"><span>12×8 DataFrame</span></div><div style = \"clear: both;\"></div></div><div class = \"data-frame\" style = \"overflow-x: scroll;\"><table class = \"data-frame\" style = \"margin-bottom: 6px;\"><thead><tr class = \"header\"><th class = \"rowNumber\" style = \"font-weight: bold; text-align: right;\">Row</th><th style = \"text-align: left;\">Bus Number</th><th style = \"text-align: left;\">Bus Type</th><th style = \"text-align: left;\">Voltage Magnitude (p.u.)</th><th style = \"text-align: left;\">Voltage Angle (degrees)</th><th style = \"text-align: left;\">Real Power Generated (MW)</th><th style = \"text-align: left;\">Reactive Power Generated (MVAR)</th><th style = \"text-align: left;\">Real Power Load (MW)</th><th style = \"text-align: left;\">Reactive Power Load (MVAR)</th></tr><tr class = \"subheader headerLastRow\"><th class = \"rowNumber\" style = \"font-weight: bold; text-align: right;\"></th><th title = \"Int64\" style = \"text-align: left;\">Int64</th><th title = \"String\" style = \"text-align: left;\">String</th><th title = \"Float64\" style = \"text-align: left;\">Float64</th><th title = \"Float64\" style = \"text-align: left;\">Float64</th><th title = \"Float64\" style = \"text-align: left;\">Float64</th><th title = \"Float64\" style = \"text-align: left;\">Float64</th><th title = \"Float64\" style = \"text-align: left;\">Float64</th><th title = \"Float64\" style = \"text-align: left;\">Float64</th></tr></thead><tbody><tr><td class = \"rowNumber\" style = \"font-weight: bold; text-align: right;\">1</td><td style = \"text-align: right;\">1</td><td style = \"text-align: left;\">Slack</td><td style = \"text-align: right;\">1.04</td><td style = \"text-align: right;\">0.0</td><td style = \"text-align: right;\">151.122</td><td style = \"text-align: right;\">-4.81119</td><td style = \"text-align: right;\">0.0</td><td style = \"text-align: right;\">0.0</td></tr><tr><td class = \"rowNumber\" style = \"font-weight: bold; text-align: right;\">2</td><td style = \"text-align: right;\">2</td><td style = \"text-align: left;\">PQ</td><td style = \"text-align: right;\">1.02304</td><td style = \"text-align: right;\">-3.52658</td><td style = \"text-align: right;\">0.0</td><td style = \"text-align: right;\">0.0</td><td style = \"text-align: right;\">20.1</td><td style = \"text-align: right;\">12.5</td></tr><tr><td class = \"rowNumber\" style = \"font-weight: bold; text-align: right;\">3</td><td style = \"text-align: right;\">3</td><td style = \"text-align: left;\">PV</td><td style = \"text-align: right;\">1.025</td><td style = \"text-align: right;\">-8.8279</td><td style = \"text-align: right;\">0.0</td><td style = \"text-align: right;\">35.9965</td><td style = \"text-align: right;\">45.2</td><td style = \"text-align: right;\">16.0</td></tr><tr><td class = \"rowNumber\" style = \"font-weight: bold; text-align: right;\">4</td><td style = \"text-align: right;\">4</td><td style = \"text-align: left;\">PQ</td><td style = \"text-align: right;\">1.00927</td><td style = \"text-align: right;\">-5.57264</td><td style = \"text-align: right;\">0.0</td><td style = \"text-align: right;\">0.0</td><td style = \"text-align: right;\">60.8</td><td style = \"text-align: right;\">10.9</td></tr><tr><td class = \"rowNumber\" style = \"font-weight: bold; text-align: right;\">5</td><td style = \"text-align: right;\">5</td><td style = \"text-align: left;\">PQ</td><td style = \"text-align: right;\">1.01569</td><td style = \"text-align: right;\">-4.46793</td><td style = \"text-align: right;\">0.0</td><td style = \"text-align: right;\">0.0</td><td style = \"text-align: right;\">7.6</td><td style = \"text-align: right;\">-1.6</td></tr><tr><td class = \"rowNumber\" style = \"font-weight: bold; text-align: right;\">6</td><td style = \"text-align: right;\">6</td><td style = \"text-align: left;\">PQ</td><td style = \"text-align: right;\">1.0103</td><td style = \"text-align: right;\">-5.1745</td><td style = \"text-align: right;\">0.0</td><td style = \"text-align: right;\">0.0</td><td style = \"text-align: right;\">13.5</td><td style = \"text-align: right;\">8.5</td></tr><tr><td class = \"rowNumber\" style = \"font-weight: bold; text-align: right;\">7</td><td style = \"text-align: right;\">7</td><td style = \"text-align: left;\">PQ</td><td style = \"text-align: right;\">0.994528</td><td style = \"text-align: right;\">-7.83658</td><td style = \"text-align: right;\">0.0</td><td style = \"text-align: right;\">0.0</td><td style = \"text-align: right;\">33.5</td><td style = \"text-align: right;\">11.6</td></tr><tr><td class = \"rowNumber\" style = \"font-weight: bold; text-align: right;\">8</td><td style = \"text-align: right;\">8</td><td style = \"text-align: left;\">PQ</td><td style = \"text-align: right;\">0.998119</td><td style = \"text-align: right;\">-7.37182</td><td style = \"text-align: right;\">0.0</td><td style = \"text-align: right;\">0.0</td><td style = \"text-align: right;\">9.0</td><td style = \"text-align: right;\">5.8</td></tr><tr><td class = \"rowNumber\" style = \"font-weight: bold; text-align: right;\">9</td><td style = \"text-align: right;\">9</td><td style = \"text-align: left;\">PV</td><td style = \"text-align: right;\">1.02</td><td style = \"text-align: right;\">-5.48569</td><td style = \"text-align: right;\">23.0</td><td style = \"text-align: right;\">8.74804</td><td style = \"text-align: right;\">4.3</td><td style = \"text-align: right;\">2.1</td></tr><tr><td class = \"rowNumber\" style = \"font-weight: bold; text-align: right;\">10</td><td style = \"text-align: right;\">10</td><td style = \"text-align: left;\">PV</td><td style = \"text-align: right;\">1.02</td><td style = \"text-align: right;\">-3.48712</td><td style = \"text-align: right;\">27.0</td><td style = \"text-align: right;\">-7.28535</td><td style = \"text-align: right;\">5.2</td><td style = \"text-align: right;\">1.6</td></tr><tr><td class = \"rowNumber\" style = \"font-weight: bold; text-align: right;\">11</td><td style = \"text-align: right;\">11</td><td style = \"text-align: left;\">PQ</td><td style = \"text-align: right;\">1.00769</td><td style = \"text-align: right;\">-5.30235</td><td style = \"text-align: right;\">0.0</td><td style = \"text-align: right;\">0.0</td><td style = \"text-align: right;\">13.5</td><td style = \"text-align: right;\">5.8</td></tr><tr><td class = \"rowNumber\" style = \"font-weight: bold; text-align: right;\">12</td><td style = \"text-align: right;\">12</td><td style = \"text-align: left;\">PV</td><td style = \"text-align: right;\">1.03</td><td style = \"text-align: right;\">-5.6711</td><td style = \"text-align: right;\">33.0</td><td style = \"text-align: right;\">13.2377</td><td style = \"text-align: right;\">14.9</td><td style = \"text-align: right;\">5.0</td></tr></tbody></table></div>"
      ],
      "text/latex": [
       "\\begin{tabular}{r|cccccc}\n",
       "\t& Bus Number & Bus Type & Voltage Magnitude (p.u.) & Voltage Angle (degrees) & Real Power Generated (MW) & \\\\\n",
       "\t\\hline\n",
       "\t& Int64 & String & Float64 & Float64 & Float64 & \\\\\n",
       "\t\\hline\n",
       "\t1 & 1 & Slack & 1.04 & 0.0 & 151.122 & $\\dots$ \\\\\n",
       "\t2 & 2 & PQ & 1.02304 & -3.52658 & 0.0 & $\\dots$ \\\\\n",
       "\t3 & 3 & PV & 1.025 & -8.8279 & 0.0 & $\\dots$ \\\\\n",
       "\t4 & 4 & PQ & 1.00927 & -5.57264 & 0.0 & $\\dots$ \\\\\n",
       "\t5 & 5 & PQ & 1.01569 & -4.46793 & 0.0 & $\\dots$ \\\\\n",
       "\t6 & 6 & PQ & 1.0103 & -5.1745 & 0.0 & $\\dots$ \\\\\n",
       "\t7 & 7 & PQ & 0.994528 & -7.83658 & 0.0 & $\\dots$ \\\\\n",
       "\t8 & 8 & PQ & 0.998119 & -7.37182 & 0.0 & $\\dots$ \\\\\n",
       "\t9 & 9 & PV & 1.02 & -5.48569 & 23.0 & $\\dots$ \\\\\n",
       "\t10 & 10 & PV & 1.02 & -3.48712 & 27.0 & $\\dots$ \\\\\n",
       "\t11 & 11 & PQ & 1.00769 & -5.30235 & 0.0 & $\\dots$ \\\\\n",
       "\t12 & 12 & PV & 1.03 & -5.6711 & 33.0 & $\\dots$ \\\\\n",
       "\\end{tabular}\n"
      ],
      "text/plain": [
       "\u001b[1m12×8 DataFrame\u001b[0m\n",
       "\u001b[1m Row \u001b[0m│\u001b[1m Bus Number \u001b[0m\u001b[1m Bus Type \u001b[0m\u001b[1m Voltage Magnitude (p.u.) \u001b[0m\u001b[1m Voltage Angle (degrees)\u001b[0m ⋯\n",
       "     │\u001b[90m Int64      \u001b[0m\u001b[90m String   \u001b[0m\u001b[90m Float64                  \u001b[0m\u001b[90m Float64                \u001b[0m ⋯\n",
       "─────┼──────────────────────────────────────────────────────────────────────────\n",
       "   1 │          1  Slack                     1.04                      0.0     ⋯\n",
       "   2 │          2  PQ                        1.02304                  -3.52658\n",
       "   3 │          3  PV                        1.025                    -8.8279\n",
       "   4 │          4  PQ                        1.00927                  -5.57264\n",
       "   5 │          5  PQ                        1.01569                  -4.46793 ⋯\n",
       "   6 │          6  PQ                        1.0103                   -5.1745\n",
       "   7 │          7  PQ                        0.994528                 -7.83658\n",
       "   8 │          8  PQ                        0.998119                 -7.37182\n",
       "   9 │          9  PV                        1.02                     -5.48569 ⋯\n",
       "  10 │         10  PV                        1.02                     -3.48712\n",
       "  11 │         11  PQ                        1.00769                  -5.30235\n",
       "  12 │         12  PV                        1.03                     -5.6711\n",
       "\u001b[36m                                                               4 columns omitted\u001b[0m"
      ]
     },
     "execution_count": 23,
     "metadata": {},
     "output_type": "execute_result"
    }
   ],
   "source": [
    "# Print bus-level results\n",
    "bus_results = organize_bus_results(result, network_data)"
   ]
  },
  {
   "cell_type": "code",
   "execution_count": 24,
   "id": "d7156962",
   "metadata": {},
   "outputs": [
    {
     "data": {
      "text/html": [
       "<div><div style = \"float: left;\"><span>17×8 DataFrame</span></div><div style = \"clear: both;\"></div></div><div class = \"data-frame\" style = \"overflow-x: scroll;\"><table class = \"data-frame\" style = \"margin-bottom: 6px;\"><thead><tr class = \"header\"><th class = \"rowNumber\" style = \"font-weight: bold; text-align: right;\">Row</th><th style = \"text-align: left;\">Bus i</th><th style = \"text-align: left;\">Bus j</th><th style = \"text-align: left;\">Real Power Flow from Bus i to Bus j (MW)</th><th style = \"text-align: left;\">Real Power Flow from Bus j to Bus i (MW)</th><th style = \"text-align: left;\">Real Power Flow Losses (MW)</th><th style = \"text-align: left;\">Reactive Power Flow from Bus i to Bus j (MVAR)</th><th style = \"text-align: left;\">Reactive Power Flow from Bus j to Bus i (MVAR)</th><th style = \"text-align: left;\">Reactive Power Flow Losses (MVAR)</th></tr><tr class = \"subheader headerLastRow\"><th class = \"rowNumber\" style = \"font-weight: bold; text-align: right;\"></th><th title = \"Int64\" style = \"text-align: left;\">Int64</th><th title = \"Int64\" style = \"text-align: left;\">Int64</th><th title = \"Float64\" style = \"text-align: left;\">Float64</th><th title = \"Float64\" style = \"text-align: left;\">Float64</th><th title = \"Float64\" style = \"text-align: left;\">Float64</th><th title = \"Float64\" style = \"text-align: left;\">Float64</th><th title = \"Float64\" style = \"text-align: left;\">Float64</th><th title = \"Float64\" style = \"text-align: left;\">Float64</th></tr></thead><tbody><tr><td class = \"rowNumber\" style = \"font-weight: bold; text-align: right;\">1</td><td style = \"text-align: right;\">1</td><td style = \"text-align: right;\">2</td><td style = \"text-align: right;\">109.717</td><td style = \"text-align: right;\">-107.558</td><td style = \"text-align: right;\">2.15823</td><td style = \"text-align: right;\">-5.5718</td><td style = \"text-align: right;\">6.54273</td><td style = \"text-align: right;\">0.970932</td></tr><tr><td class = \"rowNumber\" style = \"font-weight: bold; text-align: right;\">2</td><td style = \"text-align: right;\">1</td><td style = \"text-align: right;\">5</td><td style = \"text-align: right;\">41.4049</td><td style = \"text-align: right;\">-40.5746</td><td style = \"text-align: right;\">0.830322</td><td style = \"text-align: right;\">0.760606</td><td style = \"text-align: right;\">-2.71894</td><td style = \"text-align: right;\">-1.95833</td></tr><tr><td class = \"rowNumber\" style = \"font-weight: bold; text-align: right;\">3</td><td style = \"text-align: right;\">2</td><td style = \"text-align: right;\">3</td><td style = \"text-align: right;\">46.6103</td><td style = \"text-align: right;\">-45.5917</td><td style = \"text-align: right;\">1.01863</td><td style = \"text-align: right;\">-12.104</td><td style = \"text-align: right;\">11.8025</td><td style = \"text-align: right;\">-0.301406</td></tr><tr><td class = \"rowNumber\" style = \"font-weight: bold; text-align: right;\">4</td><td style = \"text-align: right;\">2</td><td style = \"text-align: right;\">4</td><td style = \"text-align: right;\">21.3443</td><td style = \"text-align: right;\">-21.0904</td><td style = \"text-align: right;\">0.253923</td><td style = \"text-align: right;\">-0.454172</td><td style = \"text-align: right;\">-2.28627</td><td style = \"text-align: right;\">-2.74044</td></tr><tr><td class = \"rowNumber\" style = \"font-weight: bold; text-align: right;\">5</td><td style = \"text-align: right;\">2</td><td style = \"text-align: right;\">5</td><td style = \"text-align: right;\">19.5037</td><td style = \"text-align: right;\">-19.2848</td><td style = \"text-align: right;\">0.218875</td><td style = \"text-align: right;\">-6.48461</td><td style = \"text-align: right;\">3.1732</td><td style = \"text-align: right;\">-3.31141</td></tr><tr><td class = \"rowNumber\" style = \"font-weight: bold; text-align: right;\">6</td><td style = \"text-align: right;\">3</td><td style = \"text-align: right;\">4</td><td style = \"text-align: right;\">0.391714</td><td style = \"text-align: right;\">0.110665</td><td style = \"text-align: right;\">0.502379</td><td style = \"text-align: right;\">8.19398</td><td style = \"text-align: right;\">-9.39008</td><td style = \"text-align: right;\">-1.1961</td></tr><tr><td class = \"rowNumber\" style = \"font-weight: bold; text-align: right;\">7</td><td style = \"text-align: right;\">4</td><td style = \"text-align: right;\">5</td><td style = \"text-align: right;\">-46.9495</td><td style = \"text-align: right;\">47.2383</td><td style = \"text-align: right;\">0.288885</td><td style = \"text-align: right;\">-2.04029</td><td style = \"text-align: right;\">-1.05674</td><td style = \"text-align: right;\">-3.09703</td></tr><tr><td class = \"rowNumber\" style = \"font-weight: bold; text-align: right;\">8</td><td style = \"text-align: right;\">4</td><td style = \"text-align: right;\">7</td><td style = \"text-align: right;\">7.12916</td><td style = \"text-align: right;\">-7.12916</td><td style = \"text-align: right;\">0.0</td><td style = \"text-align: right;\">2.81665</td><td style = \"text-align: right;\">-2.49582</td><td style = \"text-align: right;\">0.320825</td></tr><tr><td class = \"rowNumber\" style = \"font-weight: bold; text-align: right;\">9</td><td style = \"text-align: right;\">5</td><td style = \"text-align: right;\">6</td><td style = \"text-align: right;\">5.02111</td><td style = \"text-align: right;\">-5.02111</td><td style = \"text-align: right;\">0.0</td><td style = \"text-align: right;\">2.20248</td><td style = \"text-align: right;\">-2.12904</td><td style = \"text-align: right;\">0.0734403</td></tr><tr><td class = \"rowNumber\" style = \"font-weight: bold; text-align: right;\">10</td><td style = \"text-align: right;\">6</td><td style = \"text-align: right;\">9</td><td style = \"text-align: right;\">0.379436</td><td style = \"text-align: right;\">-0.355115</td><td style = \"text-align: right;\">0.0243209</td><td style = \"text-align: right;\">-5.99654</td><td style = \"text-align: right;\">4.23369</td><td style = \"text-align: right;\">-1.76285</td></tr><tr><td class = \"rowNumber\" style = \"font-weight: bold; text-align: right;\">11</td><td style = \"text-align: right;\">6</td><td style = \"text-align: right;\">10</td><td style = \"text-align: right;\">-11.0638</td><td style = \"text-align: right;\">11.2145</td><td style = \"text-align: right;\">0.150722</td><td style = \"text-align: right;\">0.29875</td><td style = \"text-align: right;\">-2.73664</td><td style = \"text-align: right;\">-2.43789</td></tr><tr><td class = \"rowNumber\" style = \"font-weight: bold; text-align: right;\">12</td><td style = \"text-align: right;\">6</td><td style = \"text-align: right;\">11</td><td style = \"text-align: right;\">2.20548</td><td style = \"text-align: right;\">-2.20179</td><td style = \"text-align: right;\">0.00368775</td><td style = \"text-align: right;\">-0.673172</td><td style = \"text-align: right;\">-2.47561</td><td style = \"text-align: right;\">-3.14878</td></tr><tr><td class = \"rowNumber\" style = \"font-weight: bold; text-align: right;\">13</td><td style = \"text-align: right;\">7</td><td style = \"text-align: right;\">8</td><td style = \"text-align: right;\">-9.72705</td><td style = \"text-align: right;\">9.75757</td><td style = \"text-align: right;\">0.0305185</td><td style = \"text-align: right;\">-2.55432</td><td style = \"text-align: right;\">-1.43453</td><td style = \"text-align: right;\">-3.98885</td></tr><tr><td class = \"rowNumber\" style = \"font-weight: bold; text-align: right;\">14</td><td style = \"text-align: right;\">7</td><td style = \"text-align: right;\">12</td><td style = \"text-align: right;\">-16.6438</td><td style = \"text-align: right;\">17.0313</td><td style = \"text-align: right;\">0.38752</td><td style = \"text-align: right;\">-6.54986</td><td style = \"text-align: right;\">4.06344</td><td style = \"text-align: right;\">-2.48642</td></tr><tr><td class = \"rowNumber\" style = \"font-weight: bold; text-align: right;\">15</td><td style = \"text-align: right;\">8</td><td style = \"text-align: right;\">9</td><td style = \"text-align: right;\">-18.7576</td><td style = \"text-align: right;\">19.0551</td><td style = \"text-align: right;\">0.297543</td><td style = \"text-align: right;\">-4.36547</td><td style = \"text-align: right;\">2.41435</td><td style = \"text-align: right;\">-1.95112</td></tr><tr><td class = \"rowNumber\" style = \"font-weight: bold; text-align: right;\">16</td><td style = \"text-align: right;\">10</td><td style = \"text-align: right;\">11</td><td style = \"text-align: right;\">10.5855</td><td style = \"text-align: right;\">-10.291</td><td style = \"text-align: right;\">0.294477</td><td style = \"text-align: right;\">-6.14871</td><td style = \"text-align: right;\">4.46209</td><td style = \"text-align: right;\">-1.68662</td></tr><tr><td class = \"rowNumber\" style = \"font-weight: bold; text-align: right;\">17</td><td style = \"text-align: right;\">11</td><td style = \"text-align: right;\">12</td><td style = \"text-align: right;\">-1.00722</td><td style = \"text-align: right;\">1.06869</td><td style = \"text-align: right;\">0.0614751</td><td style = \"text-align: right;\">-7.78648</td><td style = \"text-align: right;\">4.17423</td><td style = \"text-align: right;\">-3.61225</td></tr></tbody></table></div>"
      ],
      "text/latex": [
       "\\begin{tabular}{r|ccccc}\n",
       "\t& Bus i & Bus j & Real Power Flow from Bus i to Bus j (MW) & Real Power Flow from Bus j to Bus i (MW) & \\\\\n",
       "\t\\hline\n",
       "\t& Int64 & Int64 & Float64 & Float64 & \\\\\n",
       "\t\\hline\n",
       "\t1 & 1 & 2 & 109.717 & -107.558 & $\\dots$ \\\\\n",
       "\t2 & 1 & 5 & 41.4049 & -40.5746 & $\\dots$ \\\\\n",
       "\t3 & 2 & 3 & 46.6103 & -45.5917 & $\\dots$ \\\\\n",
       "\t4 & 2 & 4 & 21.3443 & -21.0904 & $\\dots$ \\\\\n",
       "\t5 & 2 & 5 & 19.5037 & -19.2848 & $\\dots$ \\\\\n",
       "\t6 & 3 & 4 & 0.391714 & 0.110665 & $\\dots$ \\\\\n",
       "\t7 & 4 & 5 & -46.9495 & 47.2383 & $\\dots$ \\\\\n",
       "\t8 & 4 & 7 & 7.12916 & -7.12916 & $\\dots$ \\\\\n",
       "\t9 & 5 & 6 & 5.02111 & -5.02111 & $\\dots$ \\\\\n",
       "\t10 & 6 & 9 & 0.379436 & -0.355115 & $\\dots$ \\\\\n",
       "\t11 & 6 & 10 & -11.0638 & 11.2145 & $\\dots$ \\\\\n",
       "\t12 & 6 & 11 & 2.20548 & -2.20179 & $\\dots$ \\\\\n",
       "\t13 & 7 & 8 & -9.72705 & 9.75757 & $\\dots$ \\\\\n",
       "\t14 & 7 & 12 & -16.6438 & 17.0313 & $\\dots$ \\\\\n",
       "\t15 & 8 & 9 & -18.7576 & 19.0551 & $\\dots$ \\\\\n",
       "\t16 & 10 & 11 & 10.5855 & -10.291 & $\\dots$ \\\\\n",
       "\t17 & 11 & 12 & -1.00722 & 1.06869 & $\\dots$ \\\\\n",
       "\\end{tabular}\n"
      ],
      "text/plain": [
       "\u001b[1m17×8 DataFrame\u001b[0m\n",
       "\u001b[1m Row \u001b[0m│\u001b[1m Bus i \u001b[0m\u001b[1m Bus j \u001b[0m\u001b[1m Real Power Flow from Bus i to Bus j (MW) \u001b[0m\u001b[1m Real Power Flow\u001b[0m ⋯\n",
       "     │\u001b[90m Int64 \u001b[0m\u001b[90m Int64 \u001b[0m\u001b[90m Float64                                  \u001b[0m\u001b[90m Float64        \u001b[0m ⋯\n",
       "─────┼──────────────────────────────────────────────────────────────────────────\n",
       "   1 │     1      2                                109.717                     ⋯\n",
       "   2 │     1      5                                 41.4049\n",
       "   3 │     2      3                                 46.6103\n",
       "   4 │     2      4                                 21.3443\n",
       "   5 │     2      5                                 19.5037                    ⋯\n",
       "   6 │     3      4                                  0.391714\n",
       "   7 │     4      5                                -46.9495\n",
       "   8 │     4      7                                  7.12916\n",
       "   9 │     5      6                                  5.02111                   ⋯\n",
       "  10 │     6      9                                  0.379436\n",
       "  11 │     6     10                                -11.0638\n",
       "  12 │     6     11                                  2.20548\n",
       "  13 │     7      8                                 -9.72705                   ⋯\n",
       "  14 │     7     12                                -16.6438\n",
       "  15 │     8      9                                -18.7576\n",
       "  16 │    10     11                                 10.5855\n",
       "  17 │    11     12                                 -1.00722                   ⋯\n",
       "\u001b[36m                                                               5 columns omitted\u001b[0m"
      ]
     },
     "execution_count": 24,
     "metadata": {},
     "output_type": "execute_result"
    }
   ],
   "source": [
    "# Print line-level results\n",
    "line_results = organize_line_results(result, network_data)"
   ]
  },
  {
   "cell_type": "markdown",
   "id": "3a0cff53",
   "metadata": {},
   "source": [
    "other contigency - remove a large generator, check every line for n-1 security, check if n-1 for generation"
   ]
  }
 ],
 "metadata": {
  "kernelspec": {
   "display_name": "Julia 1.8.4",
   "language": "julia",
   "name": "julia-1.8"
  },
  "language_info": {
   "file_extension": ".jl",
   "mimetype": "application/julia",
   "name": "julia",
   "version": "1.8.4"
  }
 },
 "nbformat": 4,
 "nbformat_minor": 5
}
